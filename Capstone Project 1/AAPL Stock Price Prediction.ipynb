{
 "cells": [
  {
   "cell_type": "markdown",
   "metadata": {},
   "source": [
    "## Table of Contents\n",
    "<a href=\"#1\">1. Data Wrangling</a>  \n",
    "<a href=\"#2\">2. Preliminary Analysis</a>  \n",
    "<a href=\"#3\">3. Train/Test Split</a>  \n",
    "<a href=\"#4\">4. Models Part 1: Using only histical closing prices</a>  \n",
    "<a href=\"#5\">5. Models Part 2: Using multiple variable based features</a>  \n",
    "\n"
   ]
  },
  {
   "cell_type": "markdown",
   "metadata": {},
   "source": [
    "## Data Wrangling<a name=\"1\"></a>"
   ]
  },
  {
   "cell_type": "markdown",
   "metadata": {},
   "source": [
    "The Apple (AAPL) stock data is from the CRSP database. The sample period spans 6 years from 2013 to 2018. "
   ]
  },
  {
   "cell_type": "code",
   "execution_count": 1,
   "metadata": {
    "scrolled": false
   },
   "outputs": [],
   "source": [
    "import pandas as pd\n",
    "import numpy as np\n",
    "\n",
    "import warnings\n",
    "warnings.filterwarnings('ignore')"
   ]
  },
  {
   "cell_type": "code",
   "execution_count": 2,
   "metadata": {
    "scrolled": false
   },
   "outputs": [
    {
     "data": {
      "text/html": [
       "<div>\n",
       "<style scoped>\n",
       "    .dataframe tbody tr th:only-of-type {\n",
       "        vertical-align: middle;\n",
       "    }\n",
       "\n",
       "    .dataframe tbody tr th {\n",
       "        vertical-align: top;\n",
       "    }\n",
       "\n",
       "    .dataframe thead th {\n",
       "        text-align: right;\n",
       "    }\n",
       "</style>\n",
       "<table border=\"1\" class=\"dataframe\">\n",
       "  <thead>\n",
       "    <tr style=\"text-align: right;\">\n",
       "      <th></th>\n",
       "      <th>PERMNO</th>\n",
       "      <th>date</th>\n",
       "      <th>TICKER</th>\n",
       "      <th>DCLRDT</th>\n",
       "      <th>DIVAMT</th>\n",
       "      <th>BIDLO</th>\n",
       "      <th>ASKHI</th>\n",
       "      <th>PRC</th>\n",
       "      <th>VOL</th>\n",
       "      <th>BID</th>\n",
       "      <th>ASK</th>\n",
       "      <th>SHROUT</th>\n",
       "      <th>CFACPR</th>\n",
       "      <th>CFACSHR</th>\n",
       "      <th>OPENPRC</th>\n",
       "      <th>NUMTRD</th>\n",
       "      <th>sprtrn</th>\n",
       "    </tr>\n",
       "  </thead>\n",
       "  <tbody>\n",
       "    <tr>\n",
       "      <th>0</th>\n",
       "      <td>14593</td>\n",
       "      <td>01/02/2013</td>\n",
       "      <td>AAPL</td>\n",
       "      <td>NaN</td>\n",
       "      <td>NaN</td>\n",
       "      <td>541.63000</td>\n",
       "      <td>555.00000</td>\n",
       "      <td>549.03003</td>\n",
       "      <td>21037195</td>\n",
       "      <td>548.70001</td>\n",
       "      <td>548.71002</td>\n",
       "      <td>938973</td>\n",
       "      <td>7</td>\n",
       "      <td>7</td>\n",
       "      <td>553.82001</td>\n",
       "      <td>151041</td>\n",
       "      <td>0.025403</td>\n",
       "    </tr>\n",
       "    <tr>\n",
       "      <th>1</th>\n",
       "      <td>14593</td>\n",
       "      <td>01/03/2013</td>\n",
       "      <td>AAPL</td>\n",
       "      <td>NaN</td>\n",
       "      <td>NaN</td>\n",
       "      <td>541.00000</td>\n",
       "      <td>549.66998</td>\n",
       "      <td>542.09589</td>\n",
       "      <td>13297102</td>\n",
       "      <td>542.27002</td>\n",
       "      <td>542.44000</td>\n",
       "      <td>938973</td>\n",
       "      <td>7</td>\n",
       "      <td>7</td>\n",
       "      <td>547.88000</td>\n",
       "      <td>95452</td>\n",
       "      <td>-0.002086</td>\n",
       "    </tr>\n",
       "    <tr>\n",
       "      <th>2</th>\n",
       "      <td>14593</td>\n",
       "      <td>01/04/2013</td>\n",
       "      <td>AAPL</td>\n",
       "      <td>NaN</td>\n",
       "      <td>NaN</td>\n",
       "      <td>525.82861</td>\n",
       "      <td>538.62988</td>\n",
       "      <td>527.00000</td>\n",
       "      <td>22087524</td>\n",
       "      <td>526.81000</td>\n",
       "      <td>527.01001</td>\n",
       "      <td>938973</td>\n",
       "      <td>7</td>\n",
       "      <td>7</td>\n",
       "      <td>536.96503</td>\n",
       "      <td>151801</td>\n",
       "      <td>0.004865</td>\n",
       "    </tr>\n",
       "    <tr>\n",
       "      <th>3</th>\n",
       "      <td>14593</td>\n",
       "      <td>01/07/2013</td>\n",
       "      <td>AAPL</td>\n",
       "      <td>NaN</td>\n",
       "      <td>NaN</td>\n",
       "      <td>515.20001</td>\n",
       "      <td>529.29999</td>\n",
       "      <td>523.90002</td>\n",
       "      <td>18017331</td>\n",
       "      <td>523.96997</td>\n",
       "      <td>524.19000</td>\n",
       "      <td>938973</td>\n",
       "      <td>7</td>\n",
       "      <td>7</td>\n",
       "      <td>522.00000</td>\n",
       "      <td>127922</td>\n",
       "      <td>-0.003123</td>\n",
       "    </tr>\n",
       "    <tr>\n",
       "      <th>4</th>\n",
       "      <td>14593</td>\n",
       "      <td>01/08/2013</td>\n",
       "      <td>AAPL</td>\n",
       "      <td>NaN</td>\n",
       "      <td>NaN</td>\n",
       "      <td>521.25000</td>\n",
       "      <td>531.89001</td>\n",
       "      <td>525.31000</td>\n",
       "      <td>16916775</td>\n",
       "      <td>525.15997</td>\n",
       "      <td>525.40002</td>\n",
       "      <td>938973</td>\n",
       "      <td>7</td>\n",
       "      <td>7</td>\n",
       "      <td>529.21002</td>\n",
       "      <td>113763</td>\n",
       "      <td>-0.003242</td>\n",
       "    </tr>\n",
       "  </tbody>\n",
       "</table>\n",
       "</div>"
      ],
      "text/plain": [
       "   PERMNO        date TICKER DCLRDT  DIVAMT      BIDLO      ASKHI        PRC  \\\n",
       "0   14593  01/02/2013   AAPL    NaN     NaN  541.63000  555.00000  549.03003   \n",
       "1   14593  01/03/2013   AAPL    NaN     NaN  541.00000  549.66998  542.09589   \n",
       "2   14593  01/04/2013   AAPL    NaN     NaN  525.82861  538.62988  527.00000   \n",
       "3   14593  01/07/2013   AAPL    NaN     NaN  515.20001  529.29999  523.90002   \n",
       "4   14593  01/08/2013   AAPL    NaN     NaN  521.25000  531.89001  525.31000   \n",
       "\n",
       "        VOL        BID        ASK  SHROUT  CFACPR  CFACSHR    OPENPRC  NUMTRD  \\\n",
       "0  21037195  548.70001  548.71002  938973       7        7  553.82001  151041   \n",
       "1  13297102  542.27002  542.44000  938973       7        7  547.88000   95452   \n",
       "2  22087524  526.81000  527.01001  938973       7        7  536.96503  151801   \n",
       "3  18017331  523.96997  524.19000  938973       7        7  522.00000  127922   \n",
       "4  16916775  525.15997  525.40002  938973       7        7  529.21002  113763   \n",
       "\n",
       "     sprtrn  \n",
       "0  0.025403  \n",
       "1 -0.002086  \n",
       "2  0.004865  \n",
       "3 -0.003123  \n",
       "4 -0.003242  "
      ]
     },
     "execution_count": 2,
     "metadata": {},
     "output_type": "execute_result"
    }
   ],
   "source": [
    "# import Apple stock data as a dataframe\n",
    "AAPL = pd.read_csv('/Users/meiliu/Documents/SpringBoard Related/AAPL_Stock.csv')\n",
    "AAPL.head()"
   ]
  },
  {
   "cell_type": "code",
   "execution_count": 3,
   "metadata": {
    "scrolled": false
   },
   "outputs": [
    {
     "name": "stdout",
     "output_type": "stream",
     "text": [
      "<class 'pandas.core.frame.DataFrame'>\n",
      "RangeIndex: 1510 entries, 0 to 1509\n",
      "Data columns (total 17 columns):\n",
      "PERMNO     1510 non-null int64\n",
      "date       1510 non-null object\n",
      "TICKER     1510 non-null object\n",
      "DCLRDT     25 non-null object\n",
      "DIVAMT     25 non-null float64\n",
      "BIDLO      1510 non-null float64\n",
      "ASKHI      1510 non-null float64\n",
      "PRC        1510 non-null float64\n",
      "VOL        1510 non-null int64\n",
      "BID        1510 non-null float64\n",
      "ASK        1510 non-null float64\n",
      "SHROUT     1510 non-null int64\n",
      "CFACPR     1510 non-null int64\n",
      "CFACSHR    1510 non-null int64\n",
      "OPENPRC    1510 non-null float64\n",
      "NUMTRD     1510 non-null int64\n",
      "sprtrn     1510 non-null float64\n",
      "dtypes: float64(8), int64(6), object(3)\n",
      "memory usage: 200.7+ KB\n",
      "None\n"
     ]
    }
   ],
   "source": [
    "# check the AAPL dataframe - there are 1510 trading days over the sample period\n",
    "print(AAPL.info())"
   ]
  },
  {
   "cell_type": "code",
   "execution_count": 4,
   "metadata": {
    "scrolled": false
   },
   "outputs": [
    {
     "data": {
      "text/html": [
       "<div>\n",
       "<style scoped>\n",
       "    .dataframe tbody tr th:only-of-type {\n",
       "        vertical-align: middle;\n",
       "    }\n",
       "\n",
       "    .dataframe tbody tr th {\n",
       "        vertical-align: top;\n",
       "    }\n",
       "\n",
       "    .dataframe thead th {\n",
       "        text-align: right;\n",
       "    }\n",
       "</style>\n",
       "<table border=\"1\" class=\"dataframe\">\n",
       "  <thead>\n",
       "    <tr style=\"text-align: right;\">\n",
       "      <th></th>\n",
       "      <th>DCLRDT</th>\n",
       "      <th>DIVAMT</th>\n",
       "    </tr>\n",
       "  </thead>\n",
       "  <tbody>\n",
       "    <tr>\n",
       "      <th>25</th>\n",
       "      <td>01/23/2013</td>\n",
       "      <td>2.65</td>\n",
       "    </tr>\n",
       "    <tr>\n",
       "      <th>88</th>\n",
       "      <td>04/23/2013</td>\n",
       "      <td>3.05</td>\n",
       "    </tr>\n",
       "    <tr>\n",
       "      <th>151</th>\n",
       "      <td>07/23/2013</td>\n",
       "      <td>3.05</td>\n",
       "    </tr>\n",
       "    <tr>\n",
       "      <th>214</th>\n",
       "      <td>10/28/2013</td>\n",
       "      <td>3.05</td>\n",
       "    </tr>\n",
       "    <tr>\n",
       "      <th>276</th>\n",
       "      <td>01/27/2014</td>\n",
       "      <td>3.05</td>\n",
       "    </tr>\n",
       "  </tbody>\n",
       "</table>\n",
       "</div>"
      ],
      "text/plain": [
       "         DCLRDT  DIVAMT\n",
       "25   01/23/2013    2.65\n",
       "88   04/23/2013    3.05\n",
       "151  07/23/2013    3.05\n",
       "214  10/28/2013    3.05\n",
       "276  01/27/2014    3.05"
      ]
     },
     "execution_count": 4,
     "metadata": {},
     "output_type": "execute_result"
    }
   ],
   "source": [
    "# check the non NaN values for DCLRDT and DIVAMT (declaration date and dividend amount)\n",
    "AAPL[AAPL['DCLRDT'].notnull()][['DCLRDT', 'DIVAMT']].head()"
   ]
  },
  {
   "cell_type": "code",
   "execution_count": 5,
   "metadata": {
    "scrolled": false
   },
   "outputs": [],
   "source": [
    "# fill NaN values in DIVAMT as 0\n",
    "AAPL['DIVAMT'].fillna(0, inplace=True)\n",
    "\n",
    "# set DCLRDT on the decclaration dates =1 and =0 otherwise\n",
    "dlr_dates = list(AAPL['DCLRDT'][AAPL['DCLRDT'].notnull()])\n",
    "\n",
    "AAPL['DCLRDT'][AAPL['date'].isin(dlr_dates)] = 1\n",
    "AAPL['DCLRDT'][~AAPL['date'].isin(dlr_dates)] = 0\n",
    "\n",
    "# convert the type to bool\n",
    "AAPL['DCLRDT'] = AAPL['DCLRDT'].astype('bool')"
   ]
  },
  {
   "cell_type": "code",
   "execution_count": 6,
   "metadata": {
    "scrolled": false
   },
   "outputs": [],
   "source": [
    "# convert date to DateTime format \n",
    "AAPL['date'] = pd.to_datetime(AAPL['date'])\n",
    "\n",
    "# add day, month, year\n",
    "AAPL['day'], AAPL['month'], AAPL['year'] = AAPL.date.dt.weekday_name, AAPL.date.dt.month, AAPL.date.dt.year"
   ]
  },
  {
   "cell_type": "code",
   "execution_count": 7,
   "metadata": {
    "scrolled": false
   },
   "outputs": [],
   "source": [
    "# adjust variables related to price by CFACPR (the cumulative adjustment factor for price)\n",
    "AAPL['PRC'] = AAPL['PRC']/AAPL['CFACPR']\n",
    "AAPL['OPENPRC'] = AAPL['OPENPRC']/AAPL['CFACPR']\n",
    "AAPL['BIDLO'] = AAPL['BIDLO']/AAPL['CFACPR']\n",
    "AAPL['ASKHI'] = AAPL['ASKHI']/AAPL['CFACPR']\n",
    "AAPL['BID'] = AAPL['BID']/AAPL['CFACPR']\n",
    "AAPL['ASK'] = AAPL['ASK']/AAPL['CFACPR']\n",
    "AAPL['DIVAMT'] = AAPL['DIVAMT']/AAPL['CFACPR']"
   ]
  },
  {
   "cell_type": "code",
   "execution_count": 8,
   "metadata": {
    "scrolled": false
   },
   "outputs": [],
   "source": [
    "# adjust the variables related to number of shares by the CFASHR\n",
    "AAPL['SHROUT'] = AAPL['SHROUT']*AAPL['CFACSHR']\n",
    "AAPL['VOL'] = AAPL['VOL']*AAPL['CFACSHR']\n",
    "AAPL['NUMTRD'] = AAPL['NUMTRD']*AAPL['CFACSHR']"
   ]
  },
  {
   "cell_type": "code",
   "execution_count": 9,
   "metadata": {
    "scrolled": false
   },
   "outputs": [],
   "source": [
    "# calculate the bid ask spreads\n",
    "AAPL['HISPRD'] = AAPL['ASKHI'] - AAPL['BIDLO']\n",
    "AAPL['SPRD'] = AAPL['ASK'] - AAPL['BID']"
   ]
  },
  {
   "cell_type": "code",
   "execution_count": 10,
   "metadata": {
    "scrolled": true
   },
   "outputs": [
    {
     "name": "stdout",
     "output_type": "stream",
     "text": [
      "Index(['PERMNO', 'date', 'TICKER', 'DCLRDT', 'DIVAMT', 'BIDLO', 'ASKHI', 'PRC',\n",
      "       'VOL', 'BID', 'ASK', 'SHROUT', 'CFACPR', 'CFACSHR', 'OPENPRC', 'NUMTRD',\n",
      "       'sprtrn', 'day', 'month', 'year', 'HISPRD', 'SPRD'],\n",
      "      dtype='object')\n"
     ]
    }
   ],
   "source": [
    "# drop unnecessary columns\n",
    "print(AAPL.columns)\n",
    "AAPL_clean = AAPL.drop(['PERMNO', 'TICKER', 'BIDLO', 'ASKHI', 'BID', 'ASK', 'SHROUT', 'CFACPR', 'CFACSHR'], axis=1)"
   ]
  },
  {
   "cell_type": "code",
   "execution_count": 11,
   "metadata": {
    "scrolled": false
   },
   "outputs": [
    {
     "data": {
      "text/html": [
       "<div>\n",
       "<style scoped>\n",
       "    .dataframe tbody tr th:only-of-type {\n",
       "        vertical-align: middle;\n",
       "    }\n",
       "\n",
       "    .dataframe tbody tr th {\n",
       "        vertical-align: top;\n",
       "    }\n",
       "\n",
       "    .dataframe thead th {\n",
       "        text-align: right;\n",
       "    }\n",
       "</style>\n",
       "<table border=\"1\" class=\"dataframe\">\n",
       "  <thead>\n",
       "    <tr style=\"text-align: right;\">\n",
       "      <th></th>\n",
       "      <th>DCLRDT</th>\n",
       "      <th>DIVAMT</th>\n",
       "      <th>PRC</th>\n",
       "      <th>VOL</th>\n",
       "      <th>OPENPRC</th>\n",
       "      <th>NUMTRD</th>\n",
       "      <th>sprtrn</th>\n",
       "      <th>day</th>\n",
       "      <th>month</th>\n",
       "      <th>year</th>\n",
       "      <th>HISPRD</th>\n",
       "      <th>SPRD</th>\n",
       "    </tr>\n",
       "    <tr>\n",
       "      <th>date</th>\n",
       "      <th></th>\n",
       "      <th></th>\n",
       "      <th></th>\n",
       "      <th></th>\n",
       "      <th></th>\n",
       "      <th></th>\n",
       "      <th></th>\n",
       "      <th></th>\n",
       "      <th></th>\n",
       "      <th></th>\n",
       "      <th></th>\n",
       "      <th></th>\n",
       "    </tr>\n",
       "  </thead>\n",
       "  <tbody>\n",
       "    <tr>\n",
       "      <th>2013-01-02</th>\n",
       "      <td>False</td>\n",
       "      <td>0.0</td>\n",
       "      <td>78.432861</td>\n",
       "      <td>147260365</td>\n",
       "      <td>79.117144</td>\n",
       "      <td>1057287</td>\n",
       "      <td>0.025403</td>\n",
       "      <td>Wednesday</td>\n",
       "      <td>1</td>\n",
       "      <td>2013</td>\n",
       "      <td>1.910000</td>\n",
       "      <td>0.001430</td>\n",
       "    </tr>\n",
       "    <tr>\n",
       "      <th>2013-01-03</th>\n",
       "      <td>False</td>\n",
       "      <td>0.0</td>\n",
       "      <td>77.442270</td>\n",
       "      <td>93079714</td>\n",
       "      <td>78.268571</td>\n",
       "      <td>668164</td>\n",
       "      <td>-0.002086</td>\n",
       "      <td>Thursday</td>\n",
       "      <td>1</td>\n",
       "      <td>2013</td>\n",
       "      <td>1.238569</td>\n",
       "      <td>0.024283</td>\n",
       "    </tr>\n",
       "    <tr>\n",
       "      <th>2013-01-04</th>\n",
       "      <td>False</td>\n",
       "      <td>0.0</td>\n",
       "      <td>75.285714</td>\n",
       "      <td>154612668</td>\n",
       "      <td>76.709290</td>\n",
       "      <td>1062607</td>\n",
       "      <td>0.004865</td>\n",
       "      <td>Friday</td>\n",
       "      <td>1</td>\n",
       "      <td>2013</td>\n",
       "      <td>1.828753</td>\n",
       "      <td>0.028573</td>\n",
       "    </tr>\n",
       "    <tr>\n",
       "      <th>2013-01-07</th>\n",
       "      <td>False</td>\n",
       "      <td>0.0</td>\n",
       "      <td>74.842860</td>\n",
       "      <td>126121317</td>\n",
       "      <td>74.571429</td>\n",
       "      <td>895454</td>\n",
       "      <td>-0.003123</td>\n",
       "      <td>Monday</td>\n",
       "      <td>1</td>\n",
       "      <td>2013</td>\n",
       "      <td>2.014283</td>\n",
       "      <td>0.031433</td>\n",
       "    </tr>\n",
       "    <tr>\n",
       "      <th>2013-01-08</th>\n",
       "      <td>False</td>\n",
       "      <td>0.0</td>\n",
       "      <td>75.044286</td>\n",
       "      <td>118417425</td>\n",
       "      <td>75.601431</td>\n",
       "      <td>796341</td>\n",
       "      <td>-0.003242</td>\n",
       "      <td>Tuesday</td>\n",
       "      <td>1</td>\n",
       "      <td>2013</td>\n",
       "      <td>1.520001</td>\n",
       "      <td>0.034293</td>\n",
       "    </tr>\n",
       "  </tbody>\n",
       "</table>\n",
       "</div>"
      ],
      "text/plain": [
       "            DCLRDT  DIVAMT        PRC        VOL    OPENPRC   NUMTRD  \\\n",
       "date                                                                   \n",
       "2013-01-02   False     0.0  78.432861  147260365  79.117144  1057287   \n",
       "2013-01-03   False     0.0  77.442270   93079714  78.268571   668164   \n",
       "2013-01-04   False     0.0  75.285714  154612668  76.709290  1062607   \n",
       "2013-01-07   False     0.0  74.842860  126121317  74.571429   895454   \n",
       "2013-01-08   False     0.0  75.044286  118417425  75.601431   796341   \n",
       "\n",
       "              sprtrn        day  month  year    HISPRD      SPRD  \n",
       "date                                                              \n",
       "2013-01-02  0.025403  Wednesday      1  2013  1.910000  0.001430  \n",
       "2013-01-03 -0.002086   Thursday      1  2013  1.238569  0.024283  \n",
       "2013-01-04  0.004865     Friday      1  2013  1.828753  0.028573  \n",
       "2013-01-07 -0.003123     Monday      1  2013  2.014283  0.031433  \n",
       "2013-01-08 -0.003242    Tuesday      1  2013  1.520001  0.034293  "
      ]
     },
     "execution_count": 11,
     "metadata": {},
     "output_type": "execute_result"
    }
   ],
   "source": [
    "# set date as the index of the clean dataframe\n",
    "AAPL_clean.set_index('date', inplace=True)\n",
    "AAPL_clean.head()"
   ]
  },
  {
   "cell_type": "markdown",
   "metadata": {},
   "source": [
    "## Additional Data"
   ]
  },
  {
   "cell_type": "markdown",
   "metadata": {},
   "source": [
    "### Google Trend"
   ]
  },
  {
   "cell_type": "code",
   "execution_count": 12,
   "metadata": {
    "scrolled": false
   },
   "outputs": [],
   "source": [
    "from pytrends.request import TrendReq"
   ]
  },
  {
   "cell_type": "code",
   "execution_count": 13,
   "metadata": {
    "scrolled": false
   },
   "outputs": [
    {
     "data": {
      "text/html": [
       "<div>\n",
       "<style scoped>\n",
       "    .dataframe tbody tr th:only-of-type {\n",
       "        vertical-align: middle;\n",
       "    }\n",
       "\n",
       "    .dataframe tbody tr th {\n",
       "        vertical-align: top;\n",
       "    }\n",
       "\n",
       "    .dataframe thead th {\n",
       "        text-align: right;\n",
       "    }\n",
       "</style>\n",
       "<table border=\"1\" class=\"dataframe\">\n",
       "  <thead>\n",
       "    <tr style=\"text-align: right;\">\n",
       "      <th></th>\n",
       "      <th>TREND</th>\n",
       "      <th>isPartial</th>\n",
       "    </tr>\n",
       "    <tr>\n",
       "      <th>date</th>\n",
       "      <th></th>\n",
       "      <th></th>\n",
       "    </tr>\n",
       "  </thead>\n",
       "  <tbody>\n",
       "    <tr>\n",
       "      <th>2012-12-01</th>\n",
       "      <td>24</td>\n",
       "      <td>False</td>\n",
       "    </tr>\n",
       "    <tr>\n",
       "      <th>2013-01-01</th>\n",
       "      <td>43</td>\n",
       "      <td>False</td>\n",
       "    </tr>\n",
       "    <tr>\n",
       "      <th>2013-02-01</th>\n",
       "      <td>22</td>\n",
       "      <td>False</td>\n",
       "    </tr>\n",
       "    <tr>\n",
       "      <th>2013-03-01</th>\n",
       "      <td>35</td>\n",
       "      <td>False</td>\n",
       "    </tr>\n",
       "    <tr>\n",
       "      <th>2013-04-01</th>\n",
       "      <td>29</td>\n",
       "      <td>False</td>\n",
       "    </tr>\n",
       "  </tbody>\n",
       "</table>\n",
       "</div>"
      ],
      "text/plain": [
       "            TREND  isPartial\n",
       "date                        \n",
       "2012-12-01     24      False\n",
       "2013-01-01     43      False\n",
       "2013-02-01     22      False\n",
       "2013-03-01     35      False\n",
       "2013-04-01     29      False"
      ]
     },
     "execution_count": 13,
     "metadata": {},
     "output_type": "execute_result"
    }
   ],
   "source": [
    "pytrends = TrendReq(hl='en-US', tz=360)\n",
    "\n",
    "# set keyword(s)\n",
    "kw_list = ['AAPL share price']\n",
    "\n",
    "# request over sample period\n",
    "pytrends.build_payload(kw_list, cat=0, timeframe='2012-12-01 2018-12-31', geo='', gprop='')\n",
    "\n",
    "# convert to dataframe\n",
    "df = pytrends.interest_over_time()\n",
    "df.rename(columns={kw_list[0]:'TREND'}, inplace=True)\n",
    "df.index = pd.to_datetime(df.index)\n",
    "df.head()"
   ]
  },
  {
   "cell_type": "markdown",
   "metadata": {},
   "source": [
    "Google Trends data is only available on a monthly basis for my sample period. To add it as a predictor, I will merge the previous month's trend data to each date in the AAPL data. "
   ]
  },
  {
   "cell_type": "code",
   "execution_count": 14,
   "metadata": {
    "scrolled": false
   },
   "outputs": [
    {
     "data": {
      "text/html": [
       "<div>\n",
       "<style scoped>\n",
       "    .dataframe tbody tr th:only-of-type {\n",
       "        vertical-align: middle;\n",
       "    }\n",
       "\n",
       "    .dataframe tbody tr th {\n",
       "        vertical-align: top;\n",
       "    }\n",
       "\n",
       "    .dataframe thead th {\n",
       "        text-align: right;\n",
       "    }\n",
       "</style>\n",
       "<table border=\"1\" class=\"dataframe\">\n",
       "  <thead>\n",
       "    <tr style=\"text-align: right;\">\n",
       "      <th></th>\n",
       "      <th>DCLRDT</th>\n",
       "      <th>DIVAMT</th>\n",
       "      <th>PRC</th>\n",
       "      <th>VOL</th>\n",
       "      <th>OPENPRC</th>\n",
       "      <th>NUMTRD</th>\n",
       "      <th>sprtrn</th>\n",
       "      <th>day</th>\n",
       "      <th>month</th>\n",
       "      <th>year</th>\n",
       "      <th>HISPRD</th>\n",
       "      <th>SPRD</th>\n",
       "      <th>TREND</th>\n",
       "    </tr>\n",
       "    <tr>\n",
       "      <th>date</th>\n",
       "      <th></th>\n",
       "      <th></th>\n",
       "      <th></th>\n",
       "      <th></th>\n",
       "      <th></th>\n",
       "      <th></th>\n",
       "      <th></th>\n",
       "      <th></th>\n",
       "      <th></th>\n",
       "      <th></th>\n",
       "      <th></th>\n",
       "      <th></th>\n",
       "      <th></th>\n",
       "    </tr>\n",
       "  </thead>\n",
       "  <tbody>\n",
       "    <tr>\n",
       "      <th>2013-01-02</th>\n",
       "      <td>False</td>\n",
       "      <td>0.0</td>\n",
       "      <td>78.432861</td>\n",
       "      <td>147260365</td>\n",
       "      <td>79.117144</td>\n",
       "      <td>1057287</td>\n",
       "      <td>0.025403</td>\n",
       "      <td>Wednesday</td>\n",
       "      <td>1</td>\n",
       "      <td>2013</td>\n",
       "      <td>1.910000</td>\n",
       "      <td>0.001430</td>\n",
       "      <td>24</td>\n",
       "    </tr>\n",
       "    <tr>\n",
       "      <th>2013-01-03</th>\n",
       "      <td>False</td>\n",
       "      <td>0.0</td>\n",
       "      <td>77.442270</td>\n",
       "      <td>93079714</td>\n",
       "      <td>78.268571</td>\n",
       "      <td>668164</td>\n",
       "      <td>-0.002086</td>\n",
       "      <td>Thursday</td>\n",
       "      <td>1</td>\n",
       "      <td>2013</td>\n",
       "      <td>1.238569</td>\n",
       "      <td>0.024283</td>\n",
       "      <td>24</td>\n",
       "    </tr>\n",
       "    <tr>\n",
       "      <th>2013-01-04</th>\n",
       "      <td>False</td>\n",
       "      <td>0.0</td>\n",
       "      <td>75.285714</td>\n",
       "      <td>154612668</td>\n",
       "      <td>76.709290</td>\n",
       "      <td>1062607</td>\n",
       "      <td>0.004865</td>\n",
       "      <td>Friday</td>\n",
       "      <td>1</td>\n",
       "      <td>2013</td>\n",
       "      <td>1.828753</td>\n",
       "      <td>0.028573</td>\n",
       "      <td>24</td>\n",
       "    </tr>\n",
       "    <tr>\n",
       "      <th>2013-01-07</th>\n",
       "      <td>False</td>\n",
       "      <td>0.0</td>\n",
       "      <td>74.842860</td>\n",
       "      <td>126121317</td>\n",
       "      <td>74.571429</td>\n",
       "      <td>895454</td>\n",
       "      <td>-0.003123</td>\n",
       "      <td>Monday</td>\n",
       "      <td>1</td>\n",
       "      <td>2013</td>\n",
       "      <td>2.014283</td>\n",
       "      <td>0.031433</td>\n",
       "      <td>24</td>\n",
       "    </tr>\n",
       "    <tr>\n",
       "      <th>2013-01-08</th>\n",
       "      <td>False</td>\n",
       "      <td>0.0</td>\n",
       "      <td>75.044286</td>\n",
       "      <td>118417425</td>\n",
       "      <td>75.601431</td>\n",
       "      <td>796341</td>\n",
       "      <td>-0.003242</td>\n",
       "      <td>Tuesday</td>\n",
       "      <td>1</td>\n",
       "      <td>2013</td>\n",
       "      <td>1.520001</td>\n",
       "      <td>0.034293</td>\n",
       "      <td>24</td>\n",
       "    </tr>\n",
       "  </tbody>\n",
       "</table>\n",
       "</div>"
      ],
      "text/plain": [
       "            DCLRDT  DIVAMT        PRC        VOL    OPENPRC   NUMTRD  \\\n",
       "date                                                                   \n",
       "2013-01-02   False     0.0  78.432861  147260365  79.117144  1057287   \n",
       "2013-01-03   False     0.0  77.442270   93079714  78.268571   668164   \n",
       "2013-01-04   False     0.0  75.285714  154612668  76.709290  1062607   \n",
       "2013-01-07   False     0.0  74.842860  126121317  74.571429   895454   \n",
       "2013-01-08   False     0.0  75.044286  118417425  75.601431   796341   \n",
       "\n",
       "              sprtrn        day  month  year    HISPRD      SPRD  TREND  \n",
       "date                                                                     \n",
       "2013-01-02  0.025403  Wednesday      1  2013  1.910000  0.001430     24  \n",
       "2013-01-03 -0.002086   Thursday      1  2013  1.238569  0.024283     24  \n",
       "2013-01-04  0.004865     Friday      1  2013  1.828753  0.028573     24  \n",
       "2013-01-07 -0.003123     Monday      1  2013  2.014283  0.031433     24  \n",
       "2013-01-08 -0.003242    Tuesday      1  2013  1.520001  0.034293     24  "
      ]
     },
     "execution_count": 14,
     "metadata": {},
     "output_type": "execute_result"
    }
   ],
   "source": [
    "# offset the google trends data by +1 month\n",
    "df.index = df.index + pd.DateOffset(months=1)\n",
    "\n",
    "# merge the google trends and the AAPL data by year and month\n",
    "AAPL_merge = pd.merge(AAPL_clean, df['TREND'], left_on=[AAPL_clean.year, AAPL_clean.month],\n",
    "         right_on=[df.index.year, df.index.month], how='left')\n",
    "AAPL_merge.set_index(AAPL_clean.index, inplace=True)\n",
    "AAPL_merge.drop(['key_0', 'key_1'], axis=1, inplace=True)\n",
    "\n",
    "AAPL_merge.head()"
   ]
  },
  {
   "cell_type": "markdown",
   "metadata": {},
   "source": [
    "### Earnings Announcement Information"
   ]
  },
  {
   "cell_type": "markdown",
   "metadata": {},
   "source": [
    "Data parsed from: https://www.streetinsider.com/ec_earnings.php?sort=earning_date&q=AAPL"
   ]
  },
  {
   "cell_type": "code",
   "execution_count": 15,
   "metadata": {
    "scrolled": false
   },
   "outputs": [
    {
     "data": {
      "text/html": [
       "<div>\n",
       "<style scoped>\n",
       "    .dataframe tbody tr th:only-of-type {\n",
       "        vertical-align: middle;\n",
       "    }\n",
       "\n",
       "    .dataframe tbody tr th {\n",
       "        vertical-align: top;\n",
       "    }\n",
       "\n",
       "    .dataframe thead th {\n",
       "        text-align: right;\n",
       "    }\n",
       "</style>\n",
       "<table border=\"1\" class=\"dataframe\">\n",
       "  <thead>\n",
       "    <tr style=\"text-align: right;\">\n",
       "      <th></th>\n",
       "      <th>date</th>\n",
       "      <th>QTR</th>\n",
       "      <th>EPS</th>\n",
       "      <th>EEPS</th>\n",
       "      <th>Surprise</th>\n",
       "    </tr>\n",
       "  </thead>\n",
       "  <tbody>\n",
       "    <tr>\n",
       "      <th>0</th>\n",
       "      <td>10/18/10</td>\n",
       "      <td>Q410</td>\n",
       "      <td>$0.66</td>\n",
       "      <td>$0.58</td>\n",
       "      <td>+$0.08</td>\n",
       "    </tr>\n",
       "    <tr>\n",
       "      <th>1</th>\n",
       "      <td>1/18/11</td>\n",
       "      <td>Q111</td>\n",
       "      <td>$0.92</td>\n",
       "      <td>$0.77</td>\n",
       "      <td>+$0.15</td>\n",
       "    </tr>\n",
       "    <tr>\n",
       "      <th>2</th>\n",
       "      <td>4/20/11</td>\n",
       "      <td>Q211</td>\n",
       "      <td>$0.91</td>\n",
       "      <td>$0.76</td>\n",
       "      <td>+$0.15</td>\n",
       "    </tr>\n",
       "    <tr>\n",
       "      <th>3</th>\n",
       "      <td>7/19/11</td>\n",
       "      <td>Q311</td>\n",
       "      <td>$1.11</td>\n",
       "      <td>$0.83</td>\n",
       "      <td>+$0.28</td>\n",
       "    </tr>\n",
       "    <tr>\n",
       "      <th>4</th>\n",
       "      <td>10/18/11</td>\n",
       "      <td>Q411</td>\n",
       "      <td>$1.01</td>\n",
       "      <td>$1.04</td>\n",
       "      <td>-$0.03</td>\n",
       "    </tr>\n",
       "  </tbody>\n",
       "</table>\n",
       "</div>"
      ],
      "text/plain": [
       "       date   QTR    EPS   EEPS Surprise\n",
       "0  10/18/10  Q410  $0.66  $0.58   +$0.08\n",
       "1   1/18/11  Q111  $0.92  $0.77   +$0.15\n",
       "2   4/20/11  Q211  $0.91  $0.76   +$0.15\n",
       "3   7/19/11  Q311  $1.11  $0.83   +$0.28\n",
       "4  10/18/11  Q411  $1.01  $1.04   -$0.03"
      ]
     },
     "execution_count": 15,
     "metadata": {},
     "output_type": "execute_result"
    }
   ],
   "source": [
    "# import earning announcement tsv\n",
    "df = pd.read_csv(\"/Users/meiliu/Documents/SpringBoard Related/AAPL_earnings.tsv\",sep='\\t', header=None)\n",
    "df.columns = ['date', 'QTR', 'EPS', 'EEPS', 'Surprise']\n",
    "df.head() "
   ]
  },
  {
   "cell_type": "code",
   "execution_count": 16,
   "metadata": {
    "scrolled": true
   },
   "outputs": [
    {
     "data": {
      "text/html": [
       "<div>\n",
       "<style scoped>\n",
       "    .dataframe tbody tr th:only-of-type {\n",
       "        vertical-align: middle;\n",
       "    }\n",
       "\n",
       "    .dataframe tbody tr th {\n",
       "        vertical-align: top;\n",
       "    }\n",
       "\n",
       "    .dataframe thead th {\n",
       "        text-align: right;\n",
       "    }\n",
       "</style>\n",
       "<table border=\"1\" class=\"dataframe\">\n",
       "  <thead>\n",
       "    <tr style=\"text-align: right;\">\n",
       "      <th></th>\n",
       "      <th>QTR</th>\n",
       "      <th>EPS</th>\n",
       "      <th>EEPS</th>\n",
       "      <th>Surprise</th>\n",
       "    </tr>\n",
       "    <tr>\n",
       "      <th>date</th>\n",
       "      <th></th>\n",
       "      <th></th>\n",
       "      <th></th>\n",
       "      <th></th>\n",
       "    </tr>\n",
       "  </thead>\n",
       "  <tbody>\n",
       "    <tr>\n",
       "      <th>2010-10-18</th>\n",
       "      <td>Q410</td>\n",
       "      <td>0.66</td>\n",
       "      <td>0.58</td>\n",
       "      <td>0.08</td>\n",
       "    </tr>\n",
       "    <tr>\n",
       "      <th>2011-01-18</th>\n",
       "      <td>Q111</td>\n",
       "      <td>0.92</td>\n",
       "      <td>0.77</td>\n",
       "      <td>0.15</td>\n",
       "    </tr>\n",
       "    <tr>\n",
       "      <th>2011-04-20</th>\n",
       "      <td>Q211</td>\n",
       "      <td>0.91</td>\n",
       "      <td>0.76</td>\n",
       "      <td>0.15</td>\n",
       "    </tr>\n",
       "    <tr>\n",
       "      <th>2011-07-19</th>\n",
       "      <td>Q311</td>\n",
       "      <td>1.11</td>\n",
       "      <td>0.83</td>\n",
       "      <td>0.28</td>\n",
       "    </tr>\n",
       "    <tr>\n",
       "      <th>2011-10-18</th>\n",
       "      <td>Q411</td>\n",
       "      <td>1.01</td>\n",
       "      <td>1.04</td>\n",
       "      <td>-0.03</td>\n",
       "    </tr>\n",
       "  </tbody>\n",
       "</table>\n",
       "</div>"
      ],
      "text/plain": [
       "             QTR   EPS  EEPS  Surprise\n",
       "date                                  \n",
       "2010-10-18  Q410  0.66  0.58      0.08\n",
       "2011-01-18  Q111  0.92  0.77      0.15\n",
       "2011-04-20  Q211  0.91  0.76      0.15\n",
       "2011-07-19  Q311  1.11  0.83      0.28\n",
       "2011-10-18  Q411  1.01  1.04     -0.03"
      ]
     },
     "execution_count": 16,
     "metadata": {},
     "output_type": "execute_result"
    }
   ],
   "source": [
    "df['date'] = pd.to_datetime(df['date'])\n",
    "df = df.set_index('date')\n",
    "\n",
    "# convert dollar values to float\n",
    "df['EPS'] = df['EPS'].replace('[\\$,]', '', regex=True).astype(float)\n",
    "df['EEPS'] = df['EEPS'].replace('[\\$,]', '', regex=True).astype(float)\n",
    "df['Surprise'] = df['Surprise'].replace('[\\$,]', '', regex=True).astype(float)\n",
    "\n",
    "df.head()"
   ]
  },
  {
   "cell_type": "code",
   "execution_count": 17,
   "metadata": {
    "scrolled": true
   },
   "outputs": [
    {
     "data": {
      "text/html": [
       "<div>\n",
       "<style scoped>\n",
       "    .dataframe tbody tr th:only-of-type {\n",
       "        vertical-align: middle;\n",
       "    }\n",
       "\n",
       "    .dataframe tbody tr th {\n",
       "        vertical-align: top;\n",
       "    }\n",
       "\n",
       "    .dataframe thead th {\n",
       "        text-align: right;\n",
       "    }\n",
       "</style>\n",
       "<table border=\"1\" class=\"dataframe\">\n",
       "  <thead>\n",
       "    <tr style=\"text-align: right;\">\n",
       "      <th></th>\n",
       "      <th>DCLRDT</th>\n",
       "      <th>DIVAMT</th>\n",
       "      <th>PRC</th>\n",
       "      <th>VOL</th>\n",
       "      <th>OPENPRC</th>\n",
       "      <th>NUMTRD</th>\n",
       "      <th>sprtrn</th>\n",
       "      <th>day</th>\n",
       "      <th>month</th>\n",
       "      <th>year</th>\n",
       "      <th>HISPRD</th>\n",
       "      <th>SPRD</th>\n",
       "      <th>TREND</th>\n",
       "      <th>EPS</th>\n",
       "      <th>EEPS</th>\n",
       "      <th>Surprise</th>\n",
       "    </tr>\n",
       "    <tr>\n",
       "      <th>date</th>\n",
       "      <th></th>\n",
       "      <th></th>\n",
       "      <th></th>\n",
       "      <th></th>\n",
       "      <th></th>\n",
       "      <th></th>\n",
       "      <th></th>\n",
       "      <th></th>\n",
       "      <th></th>\n",
       "      <th></th>\n",
       "      <th></th>\n",
       "      <th></th>\n",
       "      <th></th>\n",
       "      <th></th>\n",
       "      <th></th>\n",
       "      <th></th>\n",
       "    </tr>\n",
       "  </thead>\n",
       "  <tbody>\n",
       "    <tr>\n",
       "      <th>2013-01-02</th>\n",
       "      <td>False</td>\n",
       "      <td>0.0</td>\n",
       "      <td>78.432861</td>\n",
       "      <td>147260365</td>\n",
       "      <td>79.117144</td>\n",
       "      <td>1057287</td>\n",
       "      <td>0.025403</td>\n",
       "      <td>Wednesday</td>\n",
       "      <td>1</td>\n",
       "      <td>2013</td>\n",
       "      <td>1.910000</td>\n",
       "      <td>0.001430</td>\n",
       "      <td>24</td>\n",
       "      <td>NaN</td>\n",
       "      <td>NaN</td>\n",
       "      <td>NaN</td>\n",
       "    </tr>\n",
       "    <tr>\n",
       "      <th>2013-01-03</th>\n",
       "      <td>False</td>\n",
       "      <td>0.0</td>\n",
       "      <td>77.442270</td>\n",
       "      <td>93079714</td>\n",
       "      <td>78.268571</td>\n",
       "      <td>668164</td>\n",
       "      <td>-0.002086</td>\n",
       "      <td>Thursday</td>\n",
       "      <td>1</td>\n",
       "      <td>2013</td>\n",
       "      <td>1.238569</td>\n",
       "      <td>0.024283</td>\n",
       "      <td>24</td>\n",
       "      <td>NaN</td>\n",
       "      <td>NaN</td>\n",
       "      <td>NaN</td>\n",
       "    </tr>\n",
       "    <tr>\n",
       "      <th>2013-01-04</th>\n",
       "      <td>False</td>\n",
       "      <td>0.0</td>\n",
       "      <td>75.285714</td>\n",
       "      <td>154612668</td>\n",
       "      <td>76.709290</td>\n",
       "      <td>1062607</td>\n",
       "      <td>0.004865</td>\n",
       "      <td>Friday</td>\n",
       "      <td>1</td>\n",
       "      <td>2013</td>\n",
       "      <td>1.828753</td>\n",
       "      <td>0.028573</td>\n",
       "      <td>24</td>\n",
       "      <td>NaN</td>\n",
       "      <td>NaN</td>\n",
       "      <td>NaN</td>\n",
       "    </tr>\n",
       "    <tr>\n",
       "      <th>2013-01-07</th>\n",
       "      <td>False</td>\n",
       "      <td>0.0</td>\n",
       "      <td>74.842860</td>\n",
       "      <td>126121317</td>\n",
       "      <td>74.571429</td>\n",
       "      <td>895454</td>\n",
       "      <td>-0.003123</td>\n",
       "      <td>Monday</td>\n",
       "      <td>1</td>\n",
       "      <td>2013</td>\n",
       "      <td>2.014283</td>\n",
       "      <td>0.031433</td>\n",
       "      <td>24</td>\n",
       "      <td>NaN</td>\n",
       "      <td>NaN</td>\n",
       "      <td>NaN</td>\n",
       "    </tr>\n",
       "    <tr>\n",
       "      <th>2013-01-08</th>\n",
       "      <td>False</td>\n",
       "      <td>0.0</td>\n",
       "      <td>75.044286</td>\n",
       "      <td>118417425</td>\n",
       "      <td>75.601431</td>\n",
       "      <td>796341</td>\n",
       "      <td>-0.003242</td>\n",
       "      <td>Tuesday</td>\n",
       "      <td>1</td>\n",
       "      <td>2013</td>\n",
       "      <td>1.520001</td>\n",
       "      <td>0.034293</td>\n",
       "      <td>24</td>\n",
       "      <td>NaN</td>\n",
       "      <td>NaN</td>\n",
       "      <td>NaN</td>\n",
       "    </tr>\n",
       "  </tbody>\n",
       "</table>\n",
       "</div>"
      ],
      "text/plain": [
       "            DCLRDT  DIVAMT        PRC        VOL    OPENPRC   NUMTRD  \\\n",
       "date                                                                   \n",
       "2013-01-02   False     0.0  78.432861  147260365  79.117144  1057287   \n",
       "2013-01-03   False     0.0  77.442270   93079714  78.268571   668164   \n",
       "2013-01-04   False     0.0  75.285714  154612668  76.709290  1062607   \n",
       "2013-01-07   False     0.0  74.842860  126121317  74.571429   895454   \n",
       "2013-01-08   False     0.0  75.044286  118417425  75.601431   796341   \n",
       "\n",
       "              sprtrn        day  month  year    HISPRD      SPRD  TREND  EPS  \\\n",
       "date                                                                           \n",
       "2013-01-02  0.025403  Wednesday      1  2013  1.910000  0.001430     24  NaN   \n",
       "2013-01-03 -0.002086   Thursday      1  2013  1.238569  0.024283     24  NaN   \n",
       "2013-01-04  0.004865     Friday      1  2013  1.828753  0.028573     24  NaN   \n",
       "2013-01-07 -0.003123     Monday      1  2013  2.014283  0.031433     24  NaN   \n",
       "2013-01-08 -0.003242    Tuesday      1  2013  1.520001  0.034293     24  NaN   \n",
       "\n",
       "            EEPS  Surprise  \n",
       "date                        \n",
       "2013-01-02   NaN       NaN  \n",
       "2013-01-03   NaN       NaN  \n",
       "2013-01-04   NaN       NaN  \n",
       "2013-01-07   NaN       NaN  \n",
       "2013-01-08   NaN       NaN  "
      ]
     },
     "execution_count": 17,
     "metadata": {},
     "output_type": "execute_result"
    }
   ],
   "source": [
    "# merge the google trends and the AAPL data by year and month\n",
    "AAPL_merge = pd.merge(AAPL_merge, df[['EPS', 'EEPS', 'Surprise']], left_on=[AAPL_merge.index],\n",
    "         right_on=[df.index], how='left')\n",
    "\n",
    "AAPL_merge.set_index('key_0', inplace=True)\n",
    "AAPL_merge.index.rename('date', inplace=True)\n",
    "\n",
    "AAPL_merge.head()"
   ]
  },
  {
   "cell_type": "code",
   "execution_count": 18,
   "metadata": {},
   "outputs": [],
   "source": [
    "# create an announcment variable for the 30 trading days on/after the earnings announcement\n",
    "# (where announcement day = 30 and 29 trading days later = 1)\n",
    "AAPL_merge['Announce'] =  np.where(AAPL_merge['EPS'].notna(), 30, 0)\n",
    "\n",
    "for i in range(30):\n",
    "    AAPL_merge['Announce'] = np.maximum(AAPL_merge['Announce'].values, (AAPL_merge['Announce'].shift()-1).fillna(0).values)"
   ]
  },
  {
   "cell_type": "code",
   "execution_count": 19,
   "metadata": {},
   "outputs": [],
   "source": [
    "# forward fill the earnings surprise\n",
    "AAPL_merge['Surprise'] = AAPL_merge['Surprise'].fillna(method='ffill').fillna(0.05/1.13)"
   ]
  },
  {
   "cell_type": "code",
   "execution_count": 20,
   "metadata": {},
   "outputs": [
    {
     "data": {
      "text/html": [
       "<div>\n",
       "<style scoped>\n",
       "    .dataframe tbody tr th:only-of-type {\n",
       "        vertical-align: middle;\n",
       "    }\n",
       "\n",
       "    .dataframe tbody tr th {\n",
       "        vertical-align: top;\n",
       "    }\n",
       "\n",
       "    .dataframe thead th {\n",
       "        text-align: right;\n",
       "    }\n",
       "</style>\n",
       "<table border=\"1\" class=\"dataframe\">\n",
       "  <thead>\n",
       "    <tr style=\"text-align: right;\">\n",
       "      <th></th>\n",
       "      <th>DCLRDT</th>\n",
       "      <th>DIVAMT</th>\n",
       "      <th>PRC</th>\n",
       "      <th>VOL</th>\n",
       "      <th>OPENPRC</th>\n",
       "      <th>NUMTRD</th>\n",
       "      <th>sprtrn</th>\n",
       "      <th>day</th>\n",
       "      <th>month</th>\n",
       "      <th>year</th>\n",
       "      <th>HISPRD</th>\n",
       "      <th>SPRD</th>\n",
       "      <th>TREND</th>\n",
       "      <th>Surprise</th>\n",
       "      <th>Announce</th>\n",
       "    </tr>\n",
       "    <tr>\n",
       "      <th>date</th>\n",
       "      <th></th>\n",
       "      <th></th>\n",
       "      <th></th>\n",
       "      <th></th>\n",
       "      <th></th>\n",
       "      <th></th>\n",
       "      <th></th>\n",
       "      <th></th>\n",
       "      <th></th>\n",
       "      <th></th>\n",
       "      <th></th>\n",
       "      <th></th>\n",
       "      <th></th>\n",
       "      <th></th>\n",
       "      <th></th>\n",
       "    </tr>\n",
       "  </thead>\n",
       "  <tbody>\n",
       "    <tr>\n",
       "      <th>2013-01-02</th>\n",
       "      <td>False</td>\n",
       "      <td>0.0</td>\n",
       "      <td>78.432861</td>\n",
       "      <td>147260365</td>\n",
       "      <td>79.117144</td>\n",
       "      <td>1057287</td>\n",
       "      <td>0.025403</td>\n",
       "      <td>Wednesday</td>\n",
       "      <td>1</td>\n",
       "      <td>2013</td>\n",
       "      <td>1.910000</td>\n",
       "      <td>0.001430</td>\n",
       "      <td>24</td>\n",
       "      <td>0.044248</td>\n",
       "      <td>0.0</td>\n",
       "    </tr>\n",
       "    <tr>\n",
       "      <th>2013-01-03</th>\n",
       "      <td>False</td>\n",
       "      <td>0.0</td>\n",
       "      <td>77.442270</td>\n",
       "      <td>93079714</td>\n",
       "      <td>78.268571</td>\n",
       "      <td>668164</td>\n",
       "      <td>-0.002086</td>\n",
       "      <td>Thursday</td>\n",
       "      <td>1</td>\n",
       "      <td>2013</td>\n",
       "      <td>1.238569</td>\n",
       "      <td>0.024283</td>\n",
       "      <td>24</td>\n",
       "      <td>0.044248</td>\n",
       "      <td>0.0</td>\n",
       "    </tr>\n",
       "    <tr>\n",
       "      <th>2013-01-04</th>\n",
       "      <td>False</td>\n",
       "      <td>0.0</td>\n",
       "      <td>75.285714</td>\n",
       "      <td>154612668</td>\n",
       "      <td>76.709290</td>\n",
       "      <td>1062607</td>\n",
       "      <td>0.004865</td>\n",
       "      <td>Friday</td>\n",
       "      <td>1</td>\n",
       "      <td>2013</td>\n",
       "      <td>1.828753</td>\n",
       "      <td>0.028573</td>\n",
       "      <td>24</td>\n",
       "      <td>0.044248</td>\n",
       "      <td>0.0</td>\n",
       "    </tr>\n",
       "    <tr>\n",
       "      <th>2013-01-07</th>\n",
       "      <td>False</td>\n",
       "      <td>0.0</td>\n",
       "      <td>74.842860</td>\n",
       "      <td>126121317</td>\n",
       "      <td>74.571429</td>\n",
       "      <td>895454</td>\n",
       "      <td>-0.003123</td>\n",
       "      <td>Monday</td>\n",
       "      <td>1</td>\n",
       "      <td>2013</td>\n",
       "      <td>2.014283</td>\n",
       "      <td>0.031433</td>\n",
       "      <td>24</td>\n",
       "      <td>0.044248</td>\n",
       "      <td>0.0</td>\n",
       "    </tr>\n",
       "    <tr>\n",
       "      <th>2013-01-08</th>\n",
       "      <td>False</td>\n",
       "      <td>0.0</td>\n",
       "      <td>75.044286</td>\n",
       "      <td>118417425</td>\n",
       "      <td>75.601431</td>\n",
       "      <td>796341</td>\n",
       "      <td>-0.003242</td>\n",
       "      <td>Tuesday</td>\n",
       "      <td>1</td>\n",
       "      <td>2013</td>\n",
       "      <td>1.520001</td>\n",
       "      <td>0.034293</td>\n",
       "      <td>24</td>\n",
       "      <td>0.044248</td>\n",
       "      <td>0.0</td>\n",
       "    </tr>\n",
       "  </tbody>\n",
       "</table>\n",
       "</div>"
      ],
      "text/plain": [
       "            DCLRDT  DIVAMT        PRC        VOL    OPENPRC   NUMTRD  \\\n",
       "date                                                                   \n",
       "2013-01-02   False     0.0  78.432861  147260365  79.117144  1057287   \n",
       "2013-01-03   False     0.0  77.442270   93079714  78.268571   668164   \n",
       "2013-01-04   False     0.0  75.285714  154612668  76.709290  1062607   \n",
       "2013-01-07   False     0.0  74.842860  126121317  74.571429   895454   \n",
       "2013-01-08   False     0.0  75.044286  118417425  75.601431   796341   \n",
       "\n",
       "              sprtrn        day  month  year    HISPRD      SPRD  TREND  \\\n",
       "date                                                                      \n",
       "2013-01-02  0.025403  Wednesday      1  2013  1.910000  0.001430     24   \n",
       "2013-01-03 -0.002086   Thursday      1  2013  1.238569  0.024283     24   \n",
       "2013-01-04  0.004865     Friday      1  2013  1.828753  0.028573     24   \n",
       "2013-01-07 -0.003123     Monday      1  2013  2.014283  0.031433     24   \n",
       "2013-01-08 -0.003242    Tuesday      1  2013  1.520001  0.034293     24   \n",
       "\n",
       "            Surprise  Announce  \n",
       "date                            \n",
       "2013-01-02  0.044248       0.0  \n",
       "2013-01-03  0.044248       0.0  \n",
       "2013-01-04  0.044248       0.0  \n",
       "2013-01-07  0.044248       0.0  \n",
       "2013-01-08  0.044248       0.0  "
      ]
     },
     "execution_count": 20,
     "metadata": {},
     "output_type": "execute_result"
    }
   ],
   "source": [
    "# drop EPS, EEPS columns\n",
    "AAPL_merge.drop(['EPS', 'EEPS'], axis=1, inplace=True)\n",
    "AAPL_merge.head()"
   ]
  },
  {
   "cell_type": "markdown",
   "metadata": {},
   "source": [
    "## Preliminary Analysis<a name=\"2\"></a>"
   ]
  },
  {
   "cell_type": "code",
   "execution_count": 22,
   "metadata": {
    "scrolled": true
   },
   "outputs": [],
   "source": [
    "import matplotlib.pyplot as plt\n",
    "import seaborn as sns\n",
    "%matplotlib inline\n",
    "\n",
    "sns.set()"
   ]
  },
  {
   "cell_type": "markdown",
   "metadata": {},
   "source": [
    "#### Stock Price Data Visualization"
   ]
  },
  {
   "cell_type": "code",
   "execution_count": null,
   "metadata": {
    "scrolled": false
   },
   "outputs": [],
   "source": [
    "plt.figure(figsize=(12,6))\n",
    "plt.plot(AAPL_merge['PRC'])\n",
    "plt.xlabel('date')\n",
    "plt.ylabel('price')\n",
    "plt.title('AAPL Adj Closing Stock Price', size=14);"
   ]
  },
  {
   "cell_type": "markdown",
   "metadata": {},
   "source": [
    "The stock price over the sample period on average has an upward trend. At the end of 2018, there is a dramatic decrease in stock price that may be difficult to capture. "
   ]
  },
  {
   "cell_type": "code",
   "execution_count": null,
   "metadata": {
    "scrolled": false
   },
   "outputs": [],
   "source": [
    "# calculate the daily stock return (including dividends) using the adj closing price\n",
    "AAPLret = (AAPL_merge['PRC'].diff()+AAPL_merge['DIVAMT'])/AAPL_merge['PRC'].shift()\n",
    "\n",
    "plt.figure(figsize=(12,6))\n",
    "plt.plot(AAPL_merge.index, AAPLret, label='AAPL')\n",
    "plt.plot(AAPL_merge['sprtrn'], label='SP Index')\n",
    "plt.xlabel('date')\n",
    "plt.ylabel('daily return')\n",
    "plt.title('AAPL Daily Stock Return', size=14)\n",
    "plt.legend();"
   ]
  },
  {
   "cell_type": "markdown",
   "metadata": {},
   "source": [
    "The volatility of Apple stock returns is much higher than the S&P index, which is to be expected since Apple is a single stock while the index is a portfolio of stocks. \n",
    "When the S&P 500 index has periods of high volatility (late 2015-16 and late 2018), the Apple returns seem to experience higher volatility as well. These periods might arise from increased uncertainty in the overall market."
   ]
  },
  {
   "cell_type": "code",
   "execution_count": 23,
   "metadata": {
    "scrolled": false
   },
   "outputs": [
    {
     "data": {
      "image/png": "[encoded data removed]",
      "text/plain": [
       "<Figure size 864x432 with 1 Axes>"
      ]
     },
     "metadata": {},
     "output_type": "display_data"
    }
   ],
   "source": [
    "# calculate the difference between opening and closing prices\n",
    "AAPL_merge['OCdiff'] = AAPL_merge['OPENPRC'] - AAPL_merge['PRC']\n",
    "\n",
    "plt.figure(figsize=(12,6))\n",
    "plt.plot(AAPL_merge['OCdiff'])\n",
    "plt.xlabel('date')\n",
    "plt.ylabel('price difference')\n",
    "plt.title('AAPL Diff between Opening and Closing Prices', size=14);"
   ]
  },
  {
   "cell_type": "code",
   "execution_count": null,
   "metadata": {},
   "outputs": [],
   "source": [
    "plt.figure(figsize=(12,6))\n",
    "sns.boxplot(AAPL_merge['day'], AAPL_merge['PRC'])\n",
    "plt.xlabel('day')\n",
    "plt.ylabel('price')\n",
    "plt.title('AAPL Closing Price by Day', size=14);"
   ]
  },
  {
   "cell_type": "code",
   "execution_count": null,
   "metadata": {},
   "outputs": [],
   "source": [
    "plt.figure(figsize=(12,6))\n",
    "sns.boxplot(AAPL_merge['month'], AAPL_merge['PRC'])\n",
    "plt.xlabel('month')\n",
    "plt.ylabel('price')\n",
    "plt.title('AAPL Closing Price by Month', size=14);"
   ]
  },
  {
   "cell_type": "markdown",
   "metadata": {},
   "source": [
    "#### Stock Volume Data Visualization"
   ]
  },
  {
   "cell_type": "code",
   "execution_count": null,
   "metadata": {
    "scrolled": false
   },
   "outputs": [],
   "source": [
    "plt.figure(figsize=(12,6))\n",
    "plt.plot(AAPL_merge['VOL'])\n",
    "plt.xlabel('date')\n",
    "plt.ylabel('volume')\n",
    "plt.title('AAPL Daily Stock Volume', size=14);"
   ]
  },
  {
   "cell_type": "markdown",
   "metadata": {},
   "source": [
    "The adjusted volume of AAPL stock decreased from 2013 to 2019. From the graph above, we can see that the stock volume levels out around mid 2014. It may be that with nominally less shares outstanding, a greater percentage were of outstanding shares were traded, leading the adjusted volume to be higher in the period before the stock split. This is consistent with the 7-1 stock split in June 2014."
   ]
  },
  {
   "cell_type": "code",
   "execution_count": null,
   "metadata": {
    "scrolled": false
   },
   "outputs": [],
   "source": [
    "# calculate the daily change in volume\n",
    "volchange = (AAPL_merge['VOL'].diff())/AAPL_merge['VOL'].shift()\n",
    "\n",
    "plt.figure(figsize=(12,6))\n",
    "plt.plot(AAPL_merge.index, volchange, label='Change in Volume')\n",
    "plt.xlabel('date')\n",
    "plt.ylabel('% change in volume')\n",
    "plt.title('AAPL Daily Change in Stock Volume', size=14);"
   ]
  },
  {
   "cell_type": "code",
   "execution_count": null,
   "metadata": {},
   "outputs": [],
   "source": [
    "plt.figure(figsize=(12,6))\n",
    "sns.boxplot(AAPL_merge['day'], AAPL_merge['VOL'])\n",
    "plt.xlabel('day')\n",
    "plt.ylabel('volume')\n",
    "plt.title('AAPL Volume Traded by Day', size=14);"
   ]
  },
  {
   "cell_type": "code",
   "execution_count": null,
   "metadata": {},
   "outputs": [],
   "source": [
    "plt.figure(figsize=(12,6))\n",
    "sns.boxplot(AAPL_merge['month'], AAPL_merge['VOL'])\n",
    "plt.xlabel('day')\n",
    "plt.ylabel('volume')\n",
    "plt.title('AAPL Volume Traded by Month', size=14);"
   ]
  },
  {
   "cell_type": "markdown",
   "metadata": {},
   "source": [
    "#### Other Data Visualization"
   ]
  },
  {
   "cell_type": "code",
   "execution_count": null,
   "metadata": {
    "scrolled": false
   },
   "outputs": [],
   "source": [
    "plt.figure(figsize=(12,6))\n",
    "plt.plot(AAPL_merge['TREND'], label='interest')\n",
    "plt.plot(AAPL_merge['PRC'], label='AAPL Stock Price')\n",
    "plt.xlabel('date')\n",
    "plt.legend()\n",
    "plt.title('Google Trend Interest: \\'AAPL share price\\'', size=14);"
   ]
  },
  {
   "cell_type": "markdown",
   "metadata": {},
   "source": [
    "## Splitting Data into Training, Validation, and Test sets<a name=\"3\"></a>"
   ]
  },
  {
   "cell_type": "code",
   "execution_count": 26,
   "metadata": {
    "scrolled": false
   },
   "outputs": [],
   "source": [
    "# split data into train and test sets\n",
    "def testsplit(df, test_size=10):\n",
    "    train_data = df[:-test_size]\n",
    "    test_data = df[-test_size:]\n",
    "    return train_data, test_data\n",
    "\n",
    "# split training set into train and validation\n",
    "def validsplit2(train, n_folds=10, test_size=10):\n",
    "    fold = int(len(train)/n_folds)\n",
    "    h_start = []\n",
    "    h_end = [] \n",
    "    for x in list(range(n_folds)):\n",
    "        h_start.append(fold*(x+1)-test_size)\n",
    "        h_end.append(fold*(x+1))\n",
    "    return h_start, h_end\n",
    "\n",
    "\n",
    "train_data, test_data = testsplit(AAPL_merge)\n",
    "h_start, h_end = validsplit2(train_data)"
   ]
  },
  {
   "cell_type": "code",
   "execution_count": null,
   "metadata": {
    "scrolled": false
   },
   "outputs": [],
   "source": [
    "plt.figure(figsize=(12,6))\n",
    "plt.plot(train_data.PRC, label='train')\n",
    "plt.plot(test_data.PRC, label='test')\n",
    "plt.title('Training and Test Split', size=14)\n",
    "plt.legend();"
   ]
  },
  {
   "cell_type": "code",
   "execution_count": null,
   "metadata": {
    "scrolled": false
   },
   "outputs": [],
   "source": [
    "AAPL_holdout = AAPL[h_start[0]:h_end[0]]\n",
    "for i in range(9):\n",
    "    AAPL_holdout = AAPL_holdout.append(AAPL[h_start[i+1]:h_end[i+1]])\n",
    "AAPL_holdout.set_index('date', inplace=True)\n",
    "\n",
    "plt.figure(figsize=(12,6))\n",
    "plt.plot(train_data.PRC, label='train')\n",
    "plt.plot(test_data.PRC, label='test')\n",
    "for i in range(10):\n",
    "    plt.plot(AAPL_holdout.PRC[i*10:(i+1)*10], color='green')\n",
    "plt.title('Training, Validation, and Test Split', size=14)\n",
    "plt.legend();\n"
   ]
  },
  {
   "cell_type": "markdown",
   "metadata": {},
   "source": [
    "## Forecasting Models I: Using only historical price<a name=\"4\"></a>"
   ]
  },
  {
   "cell_type": "markdown",
   "metadata": {},
   "source": [
    "### Simple Moving Average<a name=\"MA\"></a>"
   ]
  },
  {
   "cell_type": "code",
   "execution_count": 27,
   "metadata": {
    "scrolled": false
   },
   "outputs": [],
   "source": [
    "# RMSE calculation function\n",
    "def rmse(pred, target):\n",
    "    return np.sqrt(((pred - target) ** 2).mean())"
   ]
  },
  {
   "cell_type": "code",
   "execution_count": 28,
   "metadata": {},
   "outputs": [],
   "source": [
    "# moving average prediction incorporating forecasted values (training data only)\n",
    "# predicts the closing price for the next 10 trading days\n",
    "def MovingAvgPred(window, h_start=h_start, data=AAPL_merge, test_size=10, col='PRC'):\n",
    "    pred = []\n",
    "    N = int(len(h_start))\n",
    "    for n in range(N):\n",
    "        h_num = n\n",
    "        psum=0\n",
    "        if len(pred)-n*N < window:\n",
    "            for i in range(min(window,test_size)):\n",
    "                tsum = data.reset_index()[col][h_start[n]-(window-i):h_start[n]].sum()\n",
    "                if i != 0:\n",
    "                    psum = sum(pred[-i:])\n",
    "                pred.append((tsum+psum)/window)\n",
    "                \n",
    "        for i in range(max(0,test_size-window)):\n",
    "            psum = sum(pred[-window:])\n",
    "            pred.append(psum/window)\n",
    "            \n",
    "    return pred"
   ]
  },
  {
   "cell_type": "code",
   "execution_count": null,
   "metadata": {
    "scrolled": false
   },
   "outputs": [],
   "source": [
    "# calculate the RMSE of moving averages with windows from 1( aka Last Value) to 30 periods\n",
    "MA_RMSE = []\n",
    "for i in range(1,30):\n",
    "    RMSE = rmse(MovingAvgPred(i), AAPL_holdout.PRC)\n",
    "    MA_RMSE.append(RMSE)\n",
    "\n",
    "\n",
    "plt.figure(figsize=(12,6))\n",
    "plt.plot(MA_RMSE)\n",
    "plt.xlabel('window')\n",
    "plt.ylabel('RMSE')\n",
    "plt.title('RMSE of Moving Average on Validation Periods', size=14);"
   ]
  },
  {
   "cell_type": "code",
   "execution_count": null,
   "metadata": {
    "scrolled": true
   },
   "outputs": [],
   "source": [
    "# find the moving average window with the lowest error on the validation set\n",
    "print('A moving average with a {} period window has the minimum RMSE of {}'\n",
    "      .format(MA_RMSE.index(min(MA_RMSE))+1, min(MA_RMSE)))"
   ]
  },
  {
   "cell_type": "code",
   "execution_count": null,
   "metadata": {
    "scrolled": true
   },
   "outputs": [],
   "source": [
    "# use the 12-period moving average to predict the test values\n",
    "test_pred = MovingAvgPred(12, h_start=[1500])\n",
    "print('Using a 12 period moving average, the prediction on the test data has a RMSE of', rmse(test_pred, test_data.PRC))"
   ]
  },
  {
   "cell_type": "code",
   "execution_count": null,
   "metadata": {
    "scrolled": false
   },
   "outputs": [],
   "source": [
    "plt.figure(figsize=(12,6))\n",
    "plt.plot(AAPL_merge['2018']['PRC'])\n",
    "plt.plot(test_data.index, test_pred, label='predicted')\n",
    "plt.plot(test_data.PRC, label='actual')\n",
    "plt.xlabel('date')\n",
    "plt.ylabel('price')\n",
    "plt.title('AAPL Stock Price Prediction with a 12 Period Moving Average', size=14)\n",
    "plt.legend();\n"
   ]
  },
  {
   "cell_type": "code",
   "execution_count": null,
   "metadata": {},
   "outputs": [],
   "source": [
    "plt.figure(figsize=(12,6))\n",
    "plt.plot(AAPL_merge['PRC'], label='actual')\n",
    "plt.plot(test_data.index, test_pred, label='test pred')\n",
    "plt.plot(AAPL_holdout.index[0:10], MovingAvgPred(12)[0:10], color='red', label='validation pred')\n",
    "for i in range(1,10):\n",
    "    plt.plot(AAPL_holdout.index[i*10:(i+1)*10], MovingAvgPred(12)[i*10:(i+1)*10], color='red')\n",
    "plt.xlabel('date')\n",
    "plt.ylabel('price')\n",
    "plt.title('AAPL Stock Price Prediction with a 12 Period Moving Average', size=14)\n",
    "plt.legend();"
   ]
  },
  {
   "cell_type": "markdown",
   "metadata": {},
   "source": [
    "The moving average prediction results in a fairly flat forecast, since successive predictions are based on previous ones."
   ]
  },
  {
   "cell_type": "markdown",
   "metadata": {},
   "source": [
    "### ARIMA Model"
   ]
  },
  {
   "cell_type": "code",
   "execution_count": null,
   "metadata": {
    "scrolled": false
   },
   "outputs": [],
   "source": [
    "from pandas.plotting import lag_plot\n",
    "plt.figure(figsize=(8,8))\n",
    "lag_plot(train_data['PRC'], lag=5)\n",
    "plt.title('AAPL Lag Plot for Closing Price (lag=5)', size=14);"
   ]
  },
  {
   "cell_type": "code",
   "execution_count": null,
   "metadata": {
    "scrolled": false
   },
   "outputs": [],
   "source": [
    "# Test for non-stationarity\n",
    "from statsmodels.tsa.stattools import adfuller\n",
    "\n",
    "result = adfuller(train_data.PRC)\n",
    "print('ADF Statistic: %f' % result[0])\n",
    "print('p-value: %f' % result[1])"
   ]
  },
  {
   "cell_type": "code",
   "execution_count": null,
   "metadata": {
    "scrolled": false
   },
   "outputs": [],
   "source": [
    "# estimate values for d and D to use in autoarima\n",
    "from pmdarima.arima import ndiffs, nsdiffs\n",
    "\n",
    "print('d: ', ndiffs(train_data.PRC, test='adf'))\n",
    "print('D: ', nsdiffs(train_data.PRC, 12))"
   ]
  },
  {
   "cell_type": "code",
   "execution_count": null,
   "metadata": {
    "scrolled": false
   },
   "outputs": [],
   "source": [
    "# below, we can visually confirm that d=1:\n",
    "from statsmodels.graphics.tsaplots import plot_acf\n",
    "\n",
    "plot_acf(train_data.PRC)\n",
    "plot_acf(train_data.PRC.diff().dropna());"
   ]
  },
  {
   "cell_type": "code",
   "execution_count": null,
   "metadata": {
    "scrolled": false
   },
   "outputs": [],
   "source": [
    "from pmdarima import auto_arima"
   ]
  },
  {
   "cell_type": "code",
   "execution_count": null,
   "metadata": {
    "scrolled": true
   },
   "outputs": [],
   "source": [
    "model = auto_arima(train_data.PRC, start_p=1, start_q=1,max_p=5, max_q=3, m=12,start_P=0, \n",
    "                   seasonal=True,d=1, D=0, trace=True,error_action='ignore',suppress_warnings=True)\n",
    "\n",
    "# fit the autoarima model to the training data\n",
    "model.fit(train_data.PRC)"
   ]
  },
  {
   "cell_type": "code",
   "execution_count": null,
   "metadata": {
    "scrolled": false
   },
   "outputs": [],
   "source": [
    "# forecast the next 10 periods\n",
    "forecast = model.predict(n_periods=10)\n",
    "\n",
    "# calculate the RMSE of the test predictions\n",
    "rmse(forecast, test_data.PRC)"
   ]
  },
  {
   "cell_type": "code",
   "execution_count": null,
   "metadata": {
    "scrolled": false
   },
   "outputs": [],
   "source": [
    "plt.figure(figsize=(12,6))\n",
    "plt.plot(AAPL_merge['2018']['PRC'])\n",
    "plt.plot(test_data.index, forecast, label='predicted')\n",
    "plt.plot(test_data.PRC, label='actual')\n",
    "plt.xlabel('date')\n",
    "plt.ylabel('price')\n",
    "plt.title('AAPL Stock Price Prediction with AutoARIMA', size=14)\n",
    "plt.legend();"
   ]
  },
  {
   "cell_type": "markdown",
   "metadata": {},
   "source": [
    "### Prophet"
   ]
  },
  {
   "cell_type": "code",
   "execution_count": null,
   "metadata": {
    "scrolled": false
   },
   "outputs": [],
   "source": [
    "from fbprophet import Prophet"
   ]
  },
  {
   "cell_type": "code",
   "execution_count": null,
   "metadata": {
    "scrolled": true
   },
   "outputs": [],
   "source": [
    "# create a training data dataframe in the Prophet format\n",
    "train_prophet = pd.DataFrame(index=list(range(len(train_data))), columns=['ds', 'y'])\n",
    "train_prophet['ds'] = train_data.index\n",
    "train_prophet['y'] = train_data.reset_index().PRC\n",
    "train_prophet.head()"
   ]
  },
  {
   "cell_type": "code",
   "execution_count": null,
   "metadata": {
    "scrolled": false
   },
   "outputs": [],
   "source": [
    "# fit the model on the training data\n",
    "model=Prophet()\n",
    "model.fit(train_prophet)"
   ]
  },
  {
   "cell_type": "code",
   "execution_count": null,
   "metadata": {
    "scrolled": false
   },
   "outputs": [],
   "source": [
    "# forecast the test values and calculate the RMSE\n",
    "pred_prophet = pd.DataFrame(index=list(range(10)), columns=['ds'])\n",
    "pred_prophet['ds']=test_data.index\n",
    "forecast = model.predict(pred_prophet)\n",
    "print(rmse(forecast['yhat'], test_data.reset_index().PRC))"
   ]
  },
  {
   "cell_type": "code",
   "execution_count": null,
   "metadata": {
    "scrolled": false
   },
   "outputs": [],
   "source": [
    "plt.figure(figsize=(12,6))\n",
    "plt.plot(AAPL_merge['2018'].PRC)\n",
    "plt.plot(forecast['ds'], forecast['yhat'], label='predicted')\n",
    "plt.plot(test_data.PRC, label='actual')\n",
    "plt.xlabel('date')\n",
    "plt.ylabel('price')\n",
    "plt.title('AAPL Stock Price Prediction with FB Prophet', size=14)\n",
    "plt.legend();"
   ]
  },
  {
   "cell_type": "code",
   "execution_count": null,
   "metadata": {
    "scrolled": false
   },
   "outputs": [],
   "source": [
    "model.plot_components(forecast);"
   ]
  },
  {
   "cell_type": "markdown",
   "metadata": {},
   "source": [
    "### XGBoost"
   ]
  },
  {
   "cell_type": "markdown",
   "metadata": {},
   "source": [
    "#### Feature Selection"
   ]
  },
  {
   "cell_type": "code",
   "execution_count": 29,
   "metadata": {
    "scrolled": true
   },
   "outputs": [],
   "source": [
    "# select only the price and date variables\n",
    "AAPL_XGB = AAPL_merge[['PRC', 'month', 'year']].reset_index()\n",
    "\n",
    "# create additional features based on date\n",
    "AAPL_XGB['dayofweek'] = AAPL_XGB['date'].dt.dayofweek\n",
    "AAPL_XGB['qtr'] = AAPL_XGB['date'].dt.quarter\n",
    "AAPL_XGB['day365'] = AAPL_XGB['date'].dt.dayofyear\n",
    "AAPL_XGB['dayofmonth'] = AAPL_XGB['date'].dt.day\n",
    "AAPL_XGB['weekofyear'] = AAPL_XGB['date'].dt.weekofyear\n",
    "AAPL_XGB['day_no']=AAPL_XGB.index + 1\n",
    "# start or end of the week (Mon or Fri)\n",
    "AAPL_XGB['startend'] =  np.where(AAPL_XGB[\"dayofweek\"].isin([\"0\", \"4\"]), 1, 0)"
   ]
  },
  {
   "cell_type": "code",
   "execution_count": 54,
   "metadata": {},
   "outputs": [],
   "source": [
    "# train test split\n",
    "train_XGB, test_XGB = testsplit(AAPL_XGB)"
   ]
  },
  {
   "cell_type": "code",
   "execution_count": 31,
   "metadata": {},
   "outputs": [],
   "source": [
    "# functions to create lag features in training data\n",
    "def lag_mean_train(col, lags):\n",
    "    for c in col:\n",
    "        for x in range(len(lags)):\n",
    "            train_XGB['{}_moving_mean_{}'.format(c, lags[x])] = train_XGB[c].shift(1).rolling(lags[x]).mean()\n",
    "\n",
    "def lag_median_train(col, lags):\n",
    "    for c in col:\n",
    "        for x in range(len(lags)):\n",
    "            train_XGB['{}_moving_median_{}'.format(c, lags[x])] = train_XGB[c].shift(1).rolling(lags[x]).median()\n",
    "\n",
    "def lag_min_train(col, lags):\n",
    "    for c in col:\n",
    "        for x in range(len(lags)):\n",
    "            train_XGB['{}_moving_min_{}'.format(c, lags[x])] = train_XGB[c].shift(1).rolling(lags[x]).min()\n",
    "\n",
    "def lag_max_train(col, lags):\n",
    "    for c in col:\n",
    "        for x in range(len(lags)):\n",
    "            train_XGB['{}_moving_max_{}'.format(c, lags[x])] = train_XGB[c].shift(1).rolling(lags[x]).max()"
   ]
  },
  {
   "cell_type": "code",
   "execution_count": 32,
   "metadata": {},
   "outputs": [],
   "source": [
    "# functions to extend lag features to test data:\n",
    "\n",
    "# calculate moving average\n",
    "def lag_mean_test(col, lags):\n",
    "    for c in col:\n",
    "        for x in range(len(lags)):\n",
    "            test_XGB['{}_moving_mean_{}'.format(c, lags[x])] = MovingAvgPred(5, h_start=[1500], col=c)\n",
    "\n",
    "# extend the last value of the moving median, min, max from the training data to the test data\n",
    "def lag_median_test(col, lags):\n",
    "    for c in col:\n",
    "        for x in range(len(lags)):\n",
    "            test_XGB['{}_moving_median_{}'.format(c, lags[x])] = [train_XGB['{}_moving_median_{}'.format(c, lags[x])].iloc[-1]]*10\n",
    "\n",
    "def lag_max_test(col, lags):\n",
    "    for c in col:\n",
    "        for x in range(len(lags)):\n",
    "            test_XGB['{}_moving_max_{}'.format(c, lags[x])] = [train_XGB['{}_moving_max_{}'.format(c, lags[x])].iloc[-1]]*10\n",
    "\n",
    "def lag_min_test(col, lags):\n",
    "    for c in col:\n",
    "        for x in range(len(lags)):\n",
    "            test_XGB['{}_moving_min_{}'.format(c, lags[x])] = [train_XGB['{}_moving_min_{}'.format(c, lags[x])].iloc[-1]]*10\n",
    "\n"
   ]
  },
  {
   "cell_type": "code",
   "execution_count": 55,
   "metadata": {},
   "outputs": [],
   "source": [
    "# short term lags of 5,10,15 for moving mean and median\n",
    "# additional long term lag of 50 for max and min\n",
    "\n",
    "lags1 = [5,10,15]\n",
    "lags2 = [5,10,15,50]\n",
    "col = ['PRC']\n",
    "\n",
    "# create closing price lag features for training data\n",
    "lag_mean_train(col, lags1)\n",
    "lag_median_train(col, lags1)\n",
    "lag_min_train(col, lags2)\n",
    "lag_max_train(col, lags2)\n",
    "\n",
    "# create closing price lag features for test data\n",
    "lag_mean_test(col, lags1)\n",
    "lag_median_test(col, lags1)\n",
    "lag_min_test(col, lags2)\n",
    "lag_max_test(col, lags2)"
   ]
  },
  {
   "cell_type": "code",
   "execution_count": 56,
   "metadata": {},
   "outputs": [],
   "source": [
    "# create encodes using training data and merge to both training and test data\n",
    "def encode_traintest(col, train_XGB, test_XGB):\n",
    "    for c in col:\n",
    "        week_encode = train_XGB.groupby('weekofyear')[c].mean().rename('{}_week_encode'.format(c))\n",
    "        month_encode = train_XGB.groupby('month')[c].mean().rename('{}_month_encode'.format(c))\n",
    "        year_encode = train_XGB.groupby('year')[c].mean().rename('{}_year_encode'.format(c))\n",
    "\n",
    "            # merge encodes to training and test data\n",
    "        encodes = [week_encode, month_encode, year_encode]\n",
    "        encode_type = ['weekofyear', 'month', 'year']\n",
    "\n",
    "        for i in range(3):\n",
    "            train_XGB = pd.merge(train_XGB, encodes[i], left_on=train_XGB[encode_type[i]], right_on=encodes[i].index, how='left').drop('key_0', axis=1)\n",
    "            test_XGB = pd.merge(test_XGB, encodes[i], left_on=test_XGB[encode_type[i]], right_on=encodes[i].index, how='left').drop('key_0', axis=1)\n",
    "    return train_XGB, test_XGB"
   ]
  },
  {
   "cell_type": "code",
   "execution_count": 57,
   "metadata": {},
   "outputs": [],
   "source": [
    "# create & merge encodes\n",
    "train_XGB, test_XGB = encode_traintest(['PRC'],train_XGB, test_XGB)"
   ]
  },
  {
   "cell_type": "code",
   "execution_count": 58,
   "metadata": {
    "scrolled": true
   },
   "outputs": [
    {
     "data": {
      "text/html": [
       "<div>\n",
       "<style scoped>\n",
       "    .dataframe tbody tr th:only-of-type {\n",
       "        vertical-align: middle;\n",
       "    }\n",
       "\n",
       "    .dataframe tbody tr th {\n",
       "        vertical-align: top;\n",
       "    }\n",
       "\n",
       "    .dataframe thead th {\n",
       "        text-align: right;\n",
       "    }\n",
       "</style>\n",
       "<table border=\"1\" class=\"dataframe\">\n",
       "  <thead>\n",
       "    <tr style=\"text-align: right;\">\n",
       "      <th></th>\n",
       "      <th>date</th>\n",
       "      <th>PRC</th>\n",
       "      <th>month</th>\n",
       "      <th>year</th>\n",
       "      <th>dayofweek</th>\n",
       "      <th>qtr</th>\n",
       "      <th>day365</th>\n",
       "      <th>dayofmonth</th>\n",
       "      <th>weekofyear</th>\n",
       "      <th>day_no</th>\n",
       "      <th>...</th>\n",
       "      <th>PRC_moving_min_10</th>\n",
       "      <th>PRC_moving_min_15</th>\n",
       "      <th>PRC_moving_min_50</th>\n",
       "      <th>PRC_moving_max_5</th>\n",
       "      <th>PRC_moving_max_10</th>\n",
       "      <th>PRC_moving_max_15</th>\n",
       "      <th>PRC_moving_max_50</th>\n",
       "      <th>PRC_week_encode</th>\n",
       "      <th>PRC_month_encode</th>\n",
       "      <th>PRC_year_encode</th>\n",
       "    </tr>\n",
       "  </thead>\n",
       "  <tbody>\n",
       "    <tr>\n",
       "      <th>50</th>\n",
       "      <td>2013-03-15</td>\n",
       "      <td>63.380000</td>\n",
       "      <td>3</td>\n",
       "      <td>2013</td>\n",
       "      <td>4</td>\n",
       "      <td>1</td>\n",
       "      <td>74</td>\n",
       "      <td>15</td>\n",
       "      <td>11</td>\n",
       "      <td>51</td>\n",
       "      <td>...</td>\n",
       "      <td>60.007141</td>\n",
       "      <td>60.007141</td>\n",
       "      <td>60.007141</td>\n",
       "      <td>62.552857</td>\n",
       "      <td>62.552857</td>\n",
       "      <td>64.401429</td>\n",
       "      <td>78.432861</td>\n",
       "      <td>114.427239</td>\n",
       "      <td>114.929545</td>\n",
       "      <td>67.51926</td>\n",
       "    </tr>\n",
       "    <tr>\n",
       "      <th>51</th>\n",
       "      <td>2013-03-18</td>\n",
       "      <td>65.102857</td>\n",
       "      <td>3</td>\n",
       "      <td>2013</td>\n",
       "      <td>0</td>\n",
       "      <td>1</td>\n",
       "      <td>77</td>\n",
       "      <td>18</td>\n",
       "      <td>12</td>\n",
       "      <td>52</td>\n",
       "      <td>...</td>\n",
       "      <td>60.007141</td>\n",
       "      <td>60.007141</td>\n",
       "      <td>60.007141</td>\n",
       "      <td>63.380000</td>\n",
       "      <td>63.380000</td>\n",
       "      <td>64.138571</td>\n",
       "      <td>77.442270</td>\n",
       "      <td>114.556922</td>\n",
       "      <td>114.929545</td>\n",
       "      <td>67.51926</td>\n",
       "    </tr>\n",
       "    <tr>\n",
       "      <th>52</th>\n",
       "      <td>2013-03-19</td>\n",
       "      <td>64.927141</td>\n",
       "      <td>3</td>\n",
       "      <td>2013</td>\n",
       "      <td>1</td>\n",
       "      <td>1</td>\n",
       "      <td>78</td>\n",
       "      <td>19</td>\n",
       "      <td>12</td>\n",
       "      <td>53</td>\n",
       "      <td>...</td>\n",
       "      <td>60.808856</td>\n",
       "      <td>60.007141</td>\n",
       "      <td>60.007141</td>\n",
       "      <td>65.102857</td>\n",
       "      <td>65.102857</td>\n",
       "      <td>65.102857</td>\n",
       "      <td>75.285714</td>\n",
       "      <td>114.556922</td>\n",
       "      <td>114.929545</td>\n",
       "      <td>67.51926</td>\n",
       "    </tr>\n",
       "    <tr>\n",
       "      <th>53</th>\n",
       "      <td>2013-03-20</td>\n",
       "      <td>64.582856</td>\n",
       "      <td>3</td>\n",
       "      <td>2013</td>\n",
       "      <td>2</td>\n",
       "      <td>1</td>\n",
       "      <td>79</td>\n",
       "      <td>20</td>\n",
       "      <td>12</td>\n",
       "      <td>54</td>\n",
       "      <td>...</td>\n",
       "      <td>60.808856</td>\n",
       "      <td>60.007141</td>\n",
       "      <td>60.007141</td>\n",
       "      <td>65.102857</td>\n",
       "      <td>65.102857</td>\n",
       "      <td>65.102857</td>\n",
       "      <td>75.044286</td>\n",
       "      <td>114.556922</td>\n",
       "      <td>114.929545</td>\n",
       "      <td>67.51926</td>\n",
       "    </tr>\n",
       "    <tr>\n",
       "      <th>54</th>\n",
       "      <td>2013-03-21</td>\n",
       "      <td>64.675716</td>\n",
       "      <td>3</td>\n",
       "      <td>2013</td>\n",
       "      <td>3</td>\n",
       "      <td>1</td>\n",
       "      <td>80</td>\n",
       "      <td>21</td>\n",
       "      <td>12</td>\n",
       "      <td>55</td>\n",
       "      <td>...</td>\n",
       "      <td>61.192859</td>\n",
       "      <td>60.007141</td>\n",
       "      <td>60.007141</td>\n",
       "      <td>65.102857</td>\n",
       "      <td>65.102857</td>\n",
       "      <td>65.102857</td>\n",
       "      <td>75.044286</td>\n",
       "      <td>114.556922</td>\n",
       "      <td>114.929545</td>\n",
       "      <td>67.51926</td>\n",
       "    </tr>\n",
       "  </tbody>\n",
       "</table>\n",
       "<p>5 rows × 28 columns</p>\n",
       "</div>"
      ],
      "text/plain": [
       "         date        PRC  month  year  dayofweek  qtr  day365  dayofmonth  \\\n",
       "50 2013-03-15  63.380000      3  2013          4    1      74          15   \n",
       "51 2013-03-18  65.102857      3  2013          0    1      77          18   \n",
       "52 2013-03-19  64.927141      3  2013          1    1      78          19   \n",
       "53 2013-03-20  64.582856      3  2013          2    1      79          20   \n",
       "54 2013-03-21  64.675716      3  2013          3    1      80          21   \n",
       "\n",
       "    weekofyear  day_no  ...  PRC_moving_min_10  PRC_moving_min_15  \\\n",
       "50          11      51  ...          60.007141          60.007141   \n",
       "51          12      52  ...          60.007141          60.007141   \n",
       "52          12      53  ...          60.808856          60.007141   \n",
       "53          12      54  ...          60.808856          60.007141   \n",
       "54          12      55  ...          61.192859          60.007141   \n",
       "\n",
       "    PRC_moving_min_50  PRC_moving_max_5  PRC_moving_max_10  PRC_moving_max_15  \\\n",
       "50          60.007141         62.552857          62.552857          64.401429   \n",
       "51          60.007141         63.380000          63.380000          64.138571   \n",
       "52          60.007141         65.102857          65.102857          65.102857   \n",
       "53          60.007141         65.102857          65.102857          65.102857   \n",
       "54          60.007141         65.102857          65.102857          65.102857   \n",
       "\n",
       "    PRC_moving_max_50  PRC_week_encode  PRC_month_encode  PRC_year_encode  \n",
       "50          78.432861       114.427239        114.929545         67.51926  \n",
       "51          77.442270       114.556922        114.929545         67.51926  \n",
       "52          75.285714       114.556922        114.929545         67.51926  \n",
       "53          75.044286       114.556922        114.929545         67.51926  \n",
       "54          75.044286       114.556922        114.929545         67.51926  \n",
       "\n",
       "[5 rows x 28 columns]"
      ]
     },
     "execution_count": 58,
     "metadata": {},
     "output_type": "execute_result"
    }
   ],
   "source": [
    "# remove the rows with NaN values (first 50 rows) from the training data\n",
    "train_XGB.dropna(inplace=True)\n",
    "\n",
    "train_XGB.head()"
   ]
  },
  {
   "cell_type": "code",
   "execution_count": 60,
   "metadata": {
    "scrolled": false
   },
   "outputs": [
    {
     "name": "stdout",
     "output_type": "stream",
     "text": [
      "Index(['month', 'year', 'dayofweek', 'qtr', 'day365', 'dayofmonth',\n",
      "       'weekofyear', 'day_no', 'startend', 'PRC_moving_mean_5',\n",
      "       'PRC_moving_mean_10', 'PRC_moving_mean_15', 'PRC_moving_median_5',\n",
      "       'PRC_moving_median_10', 'PRC_moving_median_15', 'PRC_moving_min_5',\n",
      "       'PRC_moving_min_10', 'PRC_moving_min_15', 'PRC_moving_min_50',\n",
      "       'PRC_moving_max_5', 'PRC_moving_max_10', 'PRC_moving_max_15',\n",
      "       'PRC_moving_max_50', 'PRC_week_encode', 'PRC_month_encode',\n",
      "       'PRC_year_encode'],\n",
      "      dtype='object')\n"
     ]
    }
   ],
   "source": [
    "# target is PRC\n",
    "y_train = train_XGB['PRC']\n",
    "X_train = train_XGB.drop(['PRC', 'date'], axis=1)\n",
    "print(X_train.columns)\n",
    "\n",
    "y_test = test_XGB['PRC']\n",
    "X_test = test_XGB.drop(['PRC', 'date'], axis=1)"
   ]
  },
  {
   "cell_type": "markdown",
   "metadata": {},
   "source": [
    "#### <font color=\"red\"><i>(Code below is still in progress)</i></font>"
   ]
  },
  {
   "cell_type": "code",
   "execution_count": 38,
   "metadata": {
    "scrolled": false
   },
   "outputs": [],
   "source": [
    "from xgboost import XGBRegressor"
   ]
  },
  {
   "cell_type": "code",
   "execution_count": 39,
   "metadata": {},
   "outputs": [],
   "source": [
    "def mape(pred, target): \n",
    "    return (np.abs(target - pred) / target).mean() * 100"
   ]
  },
  {
   "cell_type": "code",
   "execution_count": 40,
   "metadata": {},
   "outputs": [
    {
     "data": {
      "text/plain": [
       "XGBRegressor(base_score=0.5, booster='gbtree', colsample_bylevel=1,\n",
       "             colsample_bynode=1, colsample_bytree=1, eval_metric='rmse',\n",
       "             gamma=0, importance_type='gain', learning_rate=0.1,\n",
       "             max_delta_step=0, max_depth=3, min_child_weight=1, missing=None,\n",
       "             n_estimators=100, n_jobs=1, nthread=None, objective='reg:linear',\n",
       "             random_state=0, reg_alpha=0, reg_lambda=1, scale_pos_weight=1,\n",
       "             seed=None, silent=None, subsample=1, verbosity=1)"
      ]
     },
     "execution_count": 40,
     "metadata": {},
     "output_type": "execute_result"
    }
   ],
   "source": [
    "# check default parameters for XGBoost to create grid search parameters\n",
    "XGBRegressor(eval_metric='rmse')"
   ]
  },
  {
   "cell_type": "code",
   "execution_count": 41,
   "metadata": {},
   "outputs": [],
   "source": [
    "# set initial values for tuning parameters\n",
    "n_estimators_1 = 100\n",
    "max_depth_1 = 8\n",
    "min_child_weight_1 = 1\n",
    "subsample_1 = 0.8\n",
    "colsample_bytree_1 = 0.8\n",
    "gamma_1 = 0"
   ]
  },
  {
   "cell_type": "code",
   "execution_count": 42,
   "metadata": {},
   "outputs": [],
   "source": [
    "# adjust the holdout index values for the first 50 removed rows\n",
    "h_start_xgb = np.array(h_start)-50\n",
    "h_end_xgb = np.array(h_end)-50"
   ]
  },
  {
   "cell_type": "code",
   "execution_count": 43,
   "metadata": {},
   "outputs": [],
   "source": [
    "def n_estimators_tune(start, stop, stepsize):\n",
    "    best_mape = 1000 # initialize val\n",
    "    \n",
    "    for n in range(start, stop, stepsize):\n",
    "        model = XGBRegressor(n_estimators=n, booster='gbtree', eval_metric='rmse', eta=0.03, \n",
    "                             max_depth=max_depth_1, min_child_weight=min_child_weight_1, \n",
    "                             subsample=subsample_1,colsample_bytree=colsample_bytree_1, gamma=gamma_1, silent=1)\n",
    "        \n",
    "        mape_n=[]\n",
    "        for i in range(len(h_start)):\n",
    "            model.fit(X_train[:h_start_xgb[i]], y_train[:h_start_xgb[i]])\n",
    "            pred = model.predict(X_train[h_start_xgb[i]:h_end_xgb[i]])\n",
    "            mape_n.append(mape(pred, y_train[h_start_xgb[i]:h_end_xgb[i]]))\n",
    "\n",
    "        if np.mean(mape_n) < best_mape:\n",
    "            best_mape = np.mean(mape_n)\n",
    "            best_value = n\n",
    "        \n",
    "    print('n_estimators={} has the lowest mape: {}'.format(best_value, best_mape))\n",
    "    return  best_value"
   ]
  },
  {
   "cell_type": "code",
   "execution_count": 44,
   "metadata": {},
   "outputs": [],
   "source": [
    "def gamma_tune(start, stop, stepsize):\n",
    "    best_mape = 1000 # initialize val\n",
    "    \n",
    "    for n in range(start, stop, stepsize):\n",
    "        mape_n=[]\n",
    "        model = XGBRegressor(gamma=n, booster='gbtree', eval_metric='rmse', eta=0.03, \n",
    "                             n_estimators=n_estimators_1, max_depth=max_depth_1, min_child_weight=min_child_weight_1,\n",
    "                             subsample=subsample_1, colsample_bytree=colsample_bytree_1, silent=1)\n",
    "        \n",
    "        for i in range(len(h_start)):\n",
    "            model.fit(X_train[:h_start_xgb[i]], y_train[:h_start_xgb[i]])\n",
    "            pred = model.predict(X_train[h_start_xgb[i]:h_end_xgb[i]])\n",
    "            mape_n.append(mape(pred, y_train[h_start_xgb[i]:h_end_xgb[i]]))\n",
    "\n",
    "        if np.mean(mape_n) < best_mape:\n",
    "            best_mape = np.mean(mape_n)\n",
    "            best_value = n\n",
    "    print('gamma={} has the lowest mape: {}'.format(best_value, best_mape))  \n",
    "    return  best_value"
   ]
  },
  {
   "cell_type": "code",
   "execution_count": 45,
   "metadata": {},
   "outputs": [],
   "source": [
    "# enter inputs as pecentage \n",
    "def sample_tune(start_sub, stop_sub, start_col, stop_col, stepsize1, stepsize2=None):\n",
    "    best_mape = 1000 # initialize val\n",
    "    \n",
    "    if stepsize2==None:\n",
    "        stepsize2=stepsize1\n",
    "    \n",
    "    for s in range(start_sub, stop_sub, stepsize1):\n",
    "        for c in range(start_col, stop_col, stepsize2):\n",
    "            mape_n=[]\n",
    "            model = XGBRegressor(subsample=s/100, colsample_bytree=c/100, booster='gbtree', eval_metric='rmse', eta=0.03, \n",
    "                                 n_estimators=n_estimators_1, max_depth=max_depth_1, min_child_weight=min_child_weight_1,\n",
    "                                 gamma=gamma_1, silent=1)\n",
    "\n",
    "            for i in range(len(h_start)):\n",
    "                model.fit(X_train[:h_start_xgb[i]], y_train[:h_start_xgb[i]])\n",
    "                pred = model.predict(X_train[h_start_xgb[i]:h_end_xgb[i]])\n",
    "                mape_n.append(mape(pred, y_train[h_start_xgb[i]:h_end_xgb[i]]))\n",
    "\n",
    "            if np.mean(mape_n) < best_mape:\n",
    "                best_mape = np.mean(mape_n)\n",
    "                best_value1 = s/100\n",
    "                best_value2 = c/100\n",
    "    print('subsample={} and colsample_bytree={} has the lowest mape: {}'.format(best_value1, best_value2, best_mape))  \n",
    "    return  best_value1, best_value2"
   ]
  },
  {
   "cell_type": "code",
   "execution_count": 46,
   "metadata": {},
   "outputs": [],
   "source": [
    "def depth_weight_tune(start_depth, stop_depth, start_weight, stop_weight, stepsize1, stepsize2=None):\n",
    "    best_mape = 1000 # initialize val\n",
    "    \n",
    "    if stepsize2==None:\n",
    "        stepsize2=stepsize1\n",
    "    \n",
    "    for d in range(start_depth, stop_depth, stepsize1):\n",
    "        for w in range(start_weight, stop_weight, stepsize2):\n",
    "            mape_n=[]\n",
    "            model = XGBRegressor(max_depth=d, min_child_weight=w, booster='gbtree', eval_metric='rmse', eta=0.03, \n",
    "                             n_estimators=n_estimators_1,\n",
    "                             subsample=subsample_1, colsample_bytree=colsample_bytree_1, gamma=gamma_1, silent=1)\n",
    "\n",
    "            for i in range(len(h_start)):\n",
    "                model.fit(X_train[:h_start_xgb[i]], y_train[:h_start_xgb[i]])\n",
    "                pred = model.predict(X_train[h_start_xgb[i]:h_end_xgb[i]])\n",
    "                mape_n.append(mape(pred, y_train[h_start_xgb[i]:h_end_xgb[i]]))\n",
    "\n",
    "            if np.mean(mape_n) < best_mape:\n",
    "                best_mape = np.mean(mape_n)\n",
    "                best_value1 = d\n",
    "                best_value2 = w\n",
    "    print('max_depth={} and min_child_weight={} has the lowest mape: {}'.format(best_value1, best_value2, best_mape))  \n",
    "    return  best_value1, best_value2"
   ]
  },
  {
   "cell_type": "code",
   "execution_count": 47,
   "metadata": {},
   "outputs": [
    {
     "ename": "KeyboardInterrupt",
     "evalue": "",
     "output_type": "error",
     "traceback": [
      "\u001b[0;31m---------------------------------------------------------------------------\u001b[0m",
      "\u001b[0;31mKeyboardInterrupt\u001b[0m                         Traceback (most recent call last)",
      "\u001b[0;32m<ipython-input-47-89c5a7d5e338>\u001b[0m in \u001b[0;36m<module>\u001b[0;34m\u001b[0m\n\u001b[0;32m----> 1\u001b[0;31m \u001b[0mn_estimators_1\u001b[0m \u001b[0;34m=\u001b[0m \u001b[0mn_estimators_tune\u001b[0m\u001b[0;34m(\u001b[0m\u001b[0;36m50\u001b[0m\u001b[0;34m,\u001b[0m\u001b[0;36m500\u001b[0m\u001b[0;34m,\u001b[0m\u001b[0;36m50\u001b[0m\u001b[0;34m)\u001b[0m\u001b[0;34m\u001b[0m\u001b[0;34m\u001b[0m\u001b[0m\n\u001b[0m",
      "\u001b[0;32m<ipython-input-43-b70478278cde>\u001b[0m in \u001b[0;36mn_estimators_tune\u001b[0;34m(start, stop, stepsize)\u001b[0m\n\u001b[1;32m      9\u001b[0m         \u001b[0mmape_n\u001b[0m\u001b[0;34m=\u001b[0m\u001b[0;34m[\u001b[0m\u001b[0;34m]\u001b[0m\u001b[0;34m\u001b[0m\u001b[0;34m\u001b[0m\u001b[0m\n\u001b[1;32m     10\u001b[0m         \u001b[0;32mfor\u001b[0m \u001b[0mi\u001b[0m \u001b[0;32min\u001b[0m \u001b[0mrange\u001b[0m\u001b[0;34m(\u001b[0m\u001b[0mlen\u001b[0m\u001b[0;34m(\u001b[0m\u001b[0mh_start\u001b[0m\u001b[0;34m)\u001b[0m\u001b[0;34m)\u001b[0m\u001b[0;34m:\u001b[0m\u001b[0;34m\u001b[0m\u001b[0;34m\u001b[0m\u001b[0m\n\u001b[0;32m---> 11\u001b[0;31m             \u001b[0mmodel\u001b[0m\u001b[0;34m.\u001b[0m\u001b[0mfit\u001b[0m\u001b[0;34m(\u001b[0m\u001b[0mX_train\u001b[0m\u001b[0;34m[\u001b[0m\u001b[0;34m:\u001b[0m\u001b[0mh_start_xgb\u001b[0m\u001b[0;34m[\u001b[0m\u001b[0mi\u001b[0m\u001b[0;34m]\u001b[0m\u001b[0;34m]\u001b[0m\u001b[0;34m,\u001b[0m \u001b[0my_train\u001b[0m\u001b[0;34m[\u001b[0m\u001b[0;34m:\u001b[0m\u001b[0mh_start_xgb\u001b[0m\u001b[0;34m[\u001b[0m\u001b[0mi\u001b[0m\u001b[0;34m]\u001b[0m\u001b[0;34m]\u001b[0m\u001b[0;34m)\u001b[0m\u001b[0;34m\u001b[0m\u001b[0;34m\u001b[0m\u001b[0m\n\u001b[0m\u001b[1;32m     12\u001b[0m             \u001b[0mpred\u001b[0m \u001b[0;34m=\u001b[0m \u001b[0mmodel\u001b[0m\u001b[0;34m.\u001b[0m\u001b[0mpredict\u001b[0m\u001b[0;34m(\u001b[0m\u001b[0mX_train\u001b[0m\u001b[0;34m[\u001b[0m\u001b[0mh_start_xgb\u001b[0m\u001b[0;34m[\u001b[0m\u001b[0mi\u001b[0m\u001b[0;34m]\u001b[0m\u001b[0;34m:\u001b[0m\u001b[0mh_end_xgb\u001b[0m\u001b[0;34m[\u001b[0m\u001b[0mi\u001b[0m\u001b[0;34m]\u001b[0m\u001b[0;34m]\u001b[0m\u001b[0;34m)\u001b[0m\u001b[0;34m\u001b[0m\u001b[0;34m\u001b[0m\u001b[0m\n\u001b[1;32m     13\u001b[0m             \u001b[0mmape_n\u001b[0m\u001b[0;34m.\u001b[0m\u001b[0mappend\u001b[0m\u001b[0;34m(\u001b[0m\u001b[0mmape\u001b[0m\u001b[0;34m(\u001b[0m\u001b[0mpred\u001b[0m\u001b[0;34m,\u001b[0m \u001b[0my_train\u001b[0m\u001b[0;34m[\u001b[0m\u001b[0mh_start_xgb\u001b[0m\u001b[0;34m[\u001b[0m\u001b[0mi\u001b[0m\u001b[0;34m]\u001b[0m\u001b[0;34m:\u001b[0m\u001b[0mh_end_xgb\u001b[0m\u001b[0;34m[\u001b[0m\u001b[0mi\u001b[0m\u001b[0;34m]\u001b[0m\u001b[0;34m]\u001b[0m\u001b[0;34m)\u001b[0m\u001b[0;34m)\u001b[0m\u001b[0;34m\u001b[0m\u001b[0;34m\u001b[0m\u001b[0m\n",
      "\u001b[0;32m~/anaconda3/lib/python3.7/site-packages/xgboost/sklearn.py\u001b[0m in \u001b[0;36mfit\u001b[0;34m(self, X, y, sample_weight, eval_set, eval_metric, early_stopping_rounds, verbose, xgb_model, sample_weight_eval_set, callbacks)\u001b[0m\n\u001b[1;32m    394\u001b[0m                               \u001b[0mevals_result\u001b[0m\u001b[0;34m=\u001b[0m\u001b[0mevals_result\u001b[0m\u001b[0;34m,\u001b[0m \u001b[0mobj\u001b[0m\u001b[0;34m=\u001b[0m\u001b[0mobj\u001b[0m\u001b[0;34m,\u001b[0m \u001b[0mfeval\u001b[0m\u001b[0;34m=\u001b[0m\u001b[0mfeval\u001b[0m\u001b[0;34m,\u001b[0m\u001b[0;34m\u001b[0m\u001b[0;34m\u001b[0m\u001b[0m\n\u001b[1;32m    395\u001b[0m                               \u001b[0mverbose_eval\u001b[0m\u001b[0;34m=\u001b[0m\u001b[0mverbose\u001b[0m\u001b[0;34m,\u001b[0m \u001b[0mxgb_model\u001b[0m\u001b[0;34m=\u001b[0m\u001b[0mxgb_model\u001b[0m\u001b[0;34m,\u001b[0m\u001b[0;34m\u001b[0m\u001b[0;34m\u001b[0m\u001b[0m\n\u001b[0;32m--> 396\u001b[0;31m                               callbacks=callbacks)\n\u001b[0m\u001b[1;32m    397\u001b[0m \u001b[0;34m\u001b[0m\u001b[0m\n\u001b[1;32m    398\u001b[0m         \u001b[0;32mif\u001b[0m \u001b[0mevals_result\u001b[0m\u001b[0;34m:\u001b[0m\u001b[0;34m\u001b[0m\u001b[0;34m\u001b[0m\u001b[0m\n",
      "\u001b[0;32m~/anaconda3/lib/python3.7/site-packages/xgboost/training.py\u001b[0m in \u001b[0;36mtrain\u001b[0;34m(params, dtrain, num_boost_round, evals, obj, feval, maximize, early_stopping_rounds, evals_result, verbose_eval, xgb_model, callbacks, learning_rates)\u001b[0m\n\u001b[1;32m    214\u001b[0m                            \u001b[0mevals\u001b[0m\u001b[0;34m=\u001b[0m\u001b[0mevals\u001b[0m\u001b[0;34m,\u001b[0m\u001b[0;34m\u001b[0m\u001b[0;34m\u001b[0m\u001b[0m\n\u001b[1;32m    215\u001b[0m                            \u001b[0mobj\u001b[0m\u001b[0;34m=\u001b[0m\u001b[0mobj\u001b[0m\u001b[0;34m,\u001b[0m \u001b[0mfeval\u001b[0m\u001b[0;34m=\u001b[0m\u001b[0mfeval\u001b[0m\u001b[0;34m,\u001b[0m\u001b[0;34m\u001b[0m\u001b[0;34m\u001b[0m\u001b[0m\n\u001b[0;32m--> 216\u001b[0;31m                            xgb_model=xgb_model, callbacks=callbacks)\n\u001b[0m\u001b[1;32m    217\u001b[0m \u001b[0;34m\u001b[0m\u001b[0m\n\u001b[1;32m    218\u001b[0m \u001b[0;34m\u001b[0m\u001b[0m\n",
      "\u001b[0;32m~/anaconda3/lib/python3.7/site-packages/xgboost/training.py\u001b[0m in \u001b[0;36m_train_internal\u001b[0;34m(params, dtrain, num_boost_round, evals, obj, feval, xgb_model, callbacks)\u001b[0m\n\u001b[1;32m     72\u001b[0m         \u001b[0;31m# Skip the first update if it is a recovery step.\u001b[0m\u001b[0;34m\u001b[0m\u001b[0;34m\u001b[0m\u001b[0;34m\u001b[0m\u001b[0m\n\u001b[1;32m     73\u001b[0m         \u001b[0;32mif\u001b[0m \u001b[0mversion\u001b[0m \u001b[0;34m%\u001b[0m \u001b[0;36m2\u001b[0m \u001b[0;34m==\u001b[0m \u001b[0;36m0\u001b[0m\u001b[0;34m:\u001b[0m\u001b[0;34m\u001b[0m\u001b[0;34m\u001b[0m\u001b[0m\n\u001b[0;32m---> 74\u001b[0;31m             \u001b[0mbst\u001b[0m\u001b[0;34m.\u001b[0m\u001b[0mupdate\u001b[0m\u001b[0;34m(\u001b[0m\u001b[0mdtrain\u001b[0m\u001b[0;34m,\u001b[0m \u001b[0mi\u001b[0m\u001b[0;34m,\u001b[0m \u001b[0mobj\u001b[0m\u001b[0;34m)\u001b[0m\u001b[0;34m\u001b[0m\u001b[0;34m\u001b[0m\u001b[0m\n\u001b[0m\u001b[1;32m     75\u001b[0m             \u001b[0mbst\u001b[0m\u001b[0;34m.\u001b[0m\u001b[0msave_rabit_checkpoint\u001b[0m\u001b[0;34m(\u001b[0m\u001b[0;34m)\u001b[0m\u001b[0;34m\u001b[0m\u001b[0;34m\u001b[0m\u001b[0m\n\u001b[1;32m     76\u001b[0m             \u001b[0mversion\u001b[0m \u001b[0;34m+=\u001b[0m \u001b[0;36m1\u001b[0m\u001b[0;34m\u001b[0m\u001b[0;34m\u001b[0m\u001b[0m\n",
      "\u001b[0;32m~/anaconda3/lib/python3.7/site-packages/xgboost/core.py\u001b[0m in \u001b[0;36mupdate\u001b[0;34m(self, dtrain, iteration, fobj)\u001b[0m\n\u001b[1;32m   1107\u001b[0m         \u001b[0;32mif\u001b[0m \u001b[0mfobj\u001b[0m \u001b[0;32mis\u001b[0m \u001b[0;32mNone\u001b[0m\u001b[0;34m:\u001b[0m\u001b[0;34m\u001b[0m\u001b[0;34m\u001b[0m\u001b[0m\n\u001b[1;32m   1108\u001b[0m             _check_call(_LIB.XGBoosterUpdateOneIter(self.handle, ctypes.c_int(iteration),\n\u001b[0;32m-> 1109\u001b[0;31m                                                     dtrain.handle))\n\u001b[0m\u001b[1;32m   1110\u001b[0m         \u001b[0;32melse\u001b[0m\u001b[0;34m:\u001b[0m\u001b[0;34m\u001b[0m\u001b[0;34m\u001b[0m\u001b[0m\n\u001b[1;32m   1111\u001b[0m             \u001b[0mpred\u001b[0m \u001b[0;34m=\u001b[0m \u001b[0mself\u001b[0m\u001b[0;34m.\u001b[0m\u001b[0mpredict\u001b[0m\u001b[0;34m(\u001b[0m\u001b[0mdtrain\u001b[0m\u001b[0;34m)\u001b[0m\u001b[0;34m\u001b[0m\u001b[0;34m\u001b[0m\u001b[0m\n",
      "\u001b[0;31mKeyboardInterrupt\u001b[0m: "
     ]
    }
   ],
   "source": [
    "n_estimators_1 = n_estimators_tune(50,500,50)"
   ]
  },
  {
   "cell_type": "code",
   "execution_count": null,
   "metadata": {},
   "outputs": [],
   "source": [
    "gamma_1 = gamma_tune(0, 8, 1)"
   ]
  },
  {
   "cell_type": "code",
   "execution_count": null,
   "metadata": {},
   "outputs": [],
   "source": [
    "subsample_1, colsample_bytree_1 = sample_tune(50,100,50,100,10)"
   ]
  },
  {
   "cell_type": "code",
   "execution_count": null,
   "metadata": {},
   "outputs": [],
   "source": [
    "max_depth_1, min_child_weight_1 = depth_weight_tune(3,12,1,10,1)"
   ]
  },
  {
   "cell_type": "code",
   "execution_count": null,
   "metadata": {
    "scrolled": true
   },
   "outputs": [],
   "source": [
    "print('Tuned Parameter Values:\\n n_estimators={},\\n max_depth={},\\n min_child_weight={},\\n subsample={},\\n colsample_bytree={},\\n gamma={}'.format(n_estimators_1, max_depth_1, min_child_weight_1, subsample_1, colsample_bytree_1, gamma_1))"
   ]
  },
  {
   "cell_type": "code",
   "execution_count": 61,
   "metadata": {},
   "outputs": [],
   "source": [
    "model = XGBRegressor(booster='gbtree', eval_metric='rmse', eta=0.03,\n",
    "             n_estimators=n_estimators_1, max_depth=max_depth_1, min_child_weight=min_child_weight_1,\n",
    "             subsample=subsample_1,colsample_bytree=colsample_bytree_1, gamma=gamma_1, silent=1)"
   ]
  },
  {
   "cell_type": "code",
   "execution_count": 62,
   "metadata": {},
   "outputs": [
    {
     "data": {
      "text/plain": [
       "XGBRegressor(base_score=0.5, booster='gbtree', colsample_bylevel=1,\n",
       "             colsample_bynode=1, colsample_bytree=0.8, eta=0.03,\n",
       "             eval_metric='rmse', gamma=0, importance_type='gain',\n",
       "             learning_rate=0.1, max_delta_step=0, max_depth=8,\n",
       "             min_child_weight=1, missing=None, n_estimators=100, n_jobs=1,\n",
       "             nthread=None, objective='reg:linear', random_state=0, reg_alpha=0,\n",
       "             reg_lambda=1, scale_pos_weight=1, seed=None, silent=1,\n",
       "             subsample=0.8, verbosity=1)"
      ]
     },
     "execution_count": 62,
     "metadata": {},
     "output_type": "execute_result"
    }
   ],
   "source": [
    "model.fit(X_train, y_train)"
   ]
  },
  {
   "cell_type": "code",
   "execution_count": 63,
   "metadata": {},
   "outputs": [
    {
     "name": "stdout",
     "output_type": "stream",
     "text": [
      "RMSE of test prediction: 10.847160049328311\n",
      "MAPE of test prediction: 6.09053187579776\n"
     ]
    }
   ],
   "source": [
    "y_pred = model.predict(X_test)\n",
    "print('RMSE of test prediction:', rmse(y_pred, y_test))\n",
    "print('MAPE of test prediction:', mape(y_pred, y_test))"
   ]
  },
  {
   "cell_type": "code",
   "execution_count": 52,
   "metadata": {},
   "outputs": [
    {
     "data": {
      "text/plain": [
       "Index(['month', 'year', 'dayofweek', 'qtr', 'day365', 'dayofmonth',\n",
       "       'weekofyear', 'day_no', 'startend', 'PRC_moving_mean_5',\n",
       "       'PRC_moving_mean_10', 'PRC_moving_mean_15', 'PRC_moving_median_5',\n",
       "       'PRC_moving_median_10', 'PRC_moving_median_15', 'PRC_moving_max_5',\n",
       "       'PRC_moving_max_10', 'PRC_moving_max_15', 'PRC_moving_max_50',\n",
       "       'PRC_moving_min_5', 'PRC_moving_min_10', 'PRC_moving_min_15',\n",
       "       'PRC_moving_min_50', 'PRC_week_encode', 'PRC_month_encode',\n",
       "       'PRC_year_encode'],\n",
       "      dtype='object')"
      ]
     },
     "execution_count": 52,
     "metadata": {},
     "output_type": "execute_result"
    }
   ],
   "source": [
    "X_test.columns"
   ]
  },
  {
   "cell_type": "code",
   "execution_count": 53,
   "metadata": {},
   "outputs": [
    {
     "data": {
      "text/plain": [
       "Index(['month', 'year', 'dayofweek', 'qtr', 'day365', 'dayofmonth',\n",
       "       'weekofyear', 'day_no', 'startend', 'PRC_moving_mean_5',\n",
       "       'PRC_moving_mean_10', 'PRC_moving_mean_15', 'PRC_moving_median_5',\n",
       "       'PRC_moving_median_10', 'PRC_moving_median_15', 'PRC_moving_min_5',\n",
       "       'PRC_moving_min_10', 'PRC_moving_min_15', 'PRC_moving_min_50',\n",
       "       'PRC_moving_max_5', 'PRC_moving_max_10', 'PRC_moving_max_15',\n",
       "       'PRC_moving_max_50', 'PRC_week_encode', 'PRC_month_encode',\n",
       "       'PRC_year_encode'],\n",
       "      dtype='object')"
      ]
     },
     "execution_count": 53,
     "metadata": {},
     "output_type": "execute_result"
    }
   ],
   "source": [
    "X_train.columns"
   ]
  },
  {
   "cell_type": "code",
   "execution_count": null,
   "metadata": {
    "scrolled": false
   },
   "outputs": [],
   "source": [
    "plt.figure(figsize=(12,6))\n",
    "plt.plot(AAPL_merge['2018']['PRC'])\n",
    "plt.plot(test_data.index, y_pred, label='predicted')\n",
    "plt.plot(test_data.PRC, label='actual')\n",
    "plt.xlabel('date')\n",
    "plt.ylabel('price')\n",
    "plt.title('AAPL Stock Price Prediction with XGBoost', size=14)\n",
    "plt.legend();"
   ]
  },
  {
   "cell_type": "markdown",
   "metadata": {},
   "source": [
    "## Forecasting Models II: Using multiple features<a name=\"5\"></a>"
   ]
  },
  {
   "cell_type": "markdown",
   "metadata": {},
   "source": [
    "#### Feature Selection"
   ]
  },
  {
   "cell_type": "code",
   "execution_count": 64,
   "metadata": {},
   "outputs": [],
   "source": [
    "# select only the price and date variables\n",
    "AAPL_XGB = AAPL_merge.reset_index()\n",
    "\n",
    "# create additional features based on date\n",
    "AAPL_XGB['dayofweek'] = AAPL_XGB['date'].dt.dayofweek\n",
    "AAPL_XGB['qtr'] = AAPL_XGB['date'].dt.quarter\n",
    "AAPL_XGB['day365'] = AAPL_XGB['date'].dt.dayofyear\n",
    "AAPL_XGB['dayofmonth'] = AAPL_XGB['date'].dt.day\n",
    "AAPL_XGB['weekofyear'] = AAPL_XGB['date'].dt.weekofyear\n",
    "AAPL_XGB['day_no']=AAPL_XGB.index + 1\n",
    "# start or end of the week (Mon or Fri)\n",
    "AAPL_XGB['startend'] =  np.where(AAPL_XGB[\"dayofweek\"].isin([\"0\", \"4\"]), 1, 0)"
   ]
  },
  {
   "cell_type": "code",
   "execution_count": 65,
   "metadata": {},
   "outputs": [],
   "source": [
    "# train test split\n",
    "train_XGB, test_XGB = testsplit(AAPL_XGB)"
   ]
  },
  {
   "cell_type": "code",
   "execution_count": 66,
   "metadata": {},
   "outputs": [],
   "source": [
    "# short term lags of 5,10,15 for moving mean and median\n",
    "# additional long term lag of 50 for max and min\n",
    "\n",
    "lags1 = [5,10,15]\n",
    "lags2 = [5,10,15,50]\n",
    "col = ['PRC', 'VOL', 'NUMTRD', 'sprtrn', 'HISPRD', 'SPRD', 'OCdiff']\n",
    "\n",
    "# create closing price lag features for training data\n",
    "lag_mean_train(col, lags1)\n",
    "lag_median_train(col, lags1)\n",
    "lag_min_train(col, lags2)\n",
    "lag_max_train(col, lags2)\n",
    "\n",
    "# create closing price lag features for test data\n",
    "lag_mean_test(col, lags1)\n",
    "lag_median_test(col, lags1)\n",
    "lag_min_test(col, lags2)\n",
    "lag_max_test(col, lags2)"
   ]
  },
  {
   "cell_type": "code",
   "execution_count": 67,
   "metadata": {},
   "outputs": [],
   "source": [
    "# create encodes on price\n",
    "train_XGB, test_XGB = encode_traintest(['PRC'], train_XGB, test_XGB)"
   ]
  },
  {
   "cell_type": "code",
   "execution_count": 68,
   "metadata": {},
   "outputs": [
    {
     "data": {
      "text/html": [
       "<div>\n",
       "<style scoped>\n",
       "    .dataframe tbody tr th:only-of-type {\n",
       "        vertical-align: middle;\n",
       "    }\n",
       "\n",
       "    .dataframe tbody tr th {\n",
       "        vertical-align: top;\n",
       "    }\n",
       "\n",
       "    .dataframe thead th {\n",
       "        text-align: right;\n",
       "    }\n",
       "</style>\n",
       "<table border=\"1\" class=\"dataframe\">\n",
       "  <thead>\n",
       "    <tr style=\"text-align: right;\">\n",
       "      <th></th>\n",
       "      <th>date</th>\n",
       "      <th>DCLRDT</th>\n",
       "      <th>DIVAMT</th>\n",
       "      <th>PRC</th>\n",
       "      <th>VOL</th>\n",
       "      <th>OPENPRC</th>\n",
       "      <th>NUMTRD</th>\n",
       "      <th>sprtrn</th>\n",
       "      <th>day</th>\n",
       "      <th>month</th>\n",
       "      <th>...</th>\n",
       "      <th>SPRD_moving_max_10</th>\n",
       "      <th>SPRD_moving_max_15</th>\n",
       "      <th>SPRD_moving_max_50</th>\n",
       "      <th>OCdiff_moving_max_5</th>\n",
       "      <th>OCdiff_moving_max_10</th>\n",
       "      <th>OCdiff_moving_max_15</th>\n",
       "      <th>OCdiff_moving_max_50</th>\n",
       "      <th>PRC_week_encode</th>\n",
       "      <th>PRC_month_encode</th>\n",
       "      <th>PRC_year_encode</th>\n",
       "    </tr>\n",
       "  </thead>\n",
       "  <tbody>\n",
       "    <tr>\n",
       "      <th>50</th>\n",
       "      <td>2013-03-15</td>\n",
       "      <td>False</td>\n",
       "      <td>0.0</td>\n",
       "      <td>63.380000</td>\n",
       "      <td>166699778</td>\n",
       "      <td>62.561427</td>\n",
       "      <td>1014804</td>\n",
       "      <td>-0.001618</td>\n",
       "      <td>Friday</td>\n",
       "      <td>3</td>\n",
       "      <td>...</td>\n",
       "      <td>0.034284</td>\n",
       "      <td>0.034284</td>\n",
       "      <td>0.035714</td>\n",
       "      <td>1.024289</td>\n",
       "      <td>1.264003</td>\n",
       "      <td>1.578574</td>\n",
       "      <td>1.768569</td>\n",
       "      <td>114.427239</td>\n",
       "      <td>114.929545</td>\n",
       "      <td>67.51926</td>\n",
       "    </tr>\n",
       "    <tr>\n",
       "      <th>51</th>\n",
       "      <td>2013-03-18</td>\n",
       "      <td>False</td>\n",
       "      <td>0.0</td>\n",
       "      <td>65.102857</td>\n",
       "      <td>156891679</td>\n",
       "      <td>63.064287</td>\n",
       "      <td>999432</td>\n",
       "      <td>-0.005510</td>\n",
       "      <td>Monday</td>\n",
       "      <td>3</td>\n",
       "      <td>...</td>\n",
       "      <td>0.034284</td>\n",
       "      <td>0.034284</td>\n",
       "      <td>0.035714</td>\n",
       "      <td>1.024289</td>\n",
       "      <td>1.264003</td>\n",
       "      <td>1.578574</td>\n",
       "      <td>1.768569</td>\n",
       "      <td>114.556922</td>\n",
       "      <td>114.929545</td>\n",
       "      <td>67.51926</td>\n",
       "    </tr>\n",
       "    <tr>\n",
       "      <th>52</th>\n",
       "      <td>2013-03-19</td>\n",
       "      <td>False</td>\n",
       "      <td>0.0</td>\n",
       "      <td>64.927141</td>\n",
       "      <td>138683853</td>\n",
       "      <td>65.642857</td>\n",
       "      <td>966812</td>\n",
       "      <td>-0.002423</td>\n",
       "      <td>Tuesday</td>\n",
       "      <td>3</td>\n",
       "      <td>...</td>\n",
       "      <td>0.034284</td>\n",
       "      <td>0.034284</td>\n",
       "      <td>0.035714</td>\n",
       "      <td>1.024289</td>\n",
       "      <td>1.264003</td>\n",
       "      <td>1.264003</td>\n",
       "      <td>1.768569</td>\n",
       "      <td>114.556922</td>\n",
       "      <td>114.929545</td>\n",
       "      <td>67.51926</td>\n",
       "    </tr>\n",
       "    <tr>\n",
       "      <th>53</th>\n",
       "      <td>2013-03-20</td>\n",
       "      <td>False</td>\n",
       "      <td>0.0</td>\n",
       "      <td>64.582856</td>\n",
       "      <td>79814847</td>\n",
       "      <td>65.345716</td>\n",
       "      <td>540218</td>\n",
       "      <td>0.006697</td>\n",
       "      <td>Wednesday</td>\n",
       "      <td>3</td>\n",
       "      <td>...</td>\n",
       "      <td>0.034284</td>\n",
       "      <td>0.034284</td>\n",
       "      <td>0.035714</td>\n",
       "      <td>0.715716</td>\n",
       "      <td>1.264003</td>\n",
       "      <td>1.264003</td>\n",
       "      <td>1.768569</td>\n",
       "      <td>114.556922</td>\n",
       "      <td>114.929545</td>\n",
       "      <td>67.51926</td>\n",
       "    </tr>\n",
       "    <tr>\n",
       "      <th>54</th>\n",
       "      <td>2013-03-21</td>\n",
       "      <td>False</td>\n",
       "      <td>0.0</td>\n",
       "      <td>64.675716</td>\n",
       "      <td>100521904</td>\n",
       "      <td>64.317143</td>\n",
       "      <td>683256</td>\n",
       "      <td>-0.008282</td>\n",
       "      <td>Thursday</td>\n",
       "      <td>3</td>\n",
       "      <td>...</td>\n",
       "      <td>0.034284</td>\n",
       "      <td>0.034284</td>\n",
       "      <td>0.035714</td>\n",
       "      <td>0.762860</td>\n",
       "      <td>1.024289</td>\n",
       "      <td>1.264003</td>\n",
       "      <td>1.768569</td>\n",
       "      <td>114.556922</td>\n",
       "      <td>114.929545</td>\n",
       "      <td>67.51926</td>\n",
       "    </tr>\n",
       "  </tbody>\n",
       "</table>\n",
       "<p>5 rows × 125 columns</p>\n",
       "</div>"
      ],
      "text/plain": [
       "         date  DCLRDT  DIVAMT        PRC        VOL    OPENPRC   NUMTRD  \\\n",
       "50 2013-03-15   False     0.0  63.380000  166699778  62.561427  1014804   \n",
       "51 2013-03-18   False     0.0  65.102857  156891679  63.064287   999432   \n",
       "52 2013-03-19   False     0.0  64.927141  138683853  65.642857   966812   \n",
       "53 2013-03-20   False     0.0  64.582856   79814847  65.345716   540218   \n",
       "54 2013-03-21   False     0.0  64.675716  100521904  64.317143   683256   \n",
       "\n",
       "      sprtrn        day  month  ...  SPRD_moving_max_10  SPRD_moving_max_15  \\\n",
       "50 -0.001618     Friday      3  ...            0.034284            0.034284   \n",
       "51 -0.005510     Monday      3  ...            0.034284            0.034284   \n",
       "52 -0.002423    Tuesday      3  ...            0.034284            0.034284   \n",
       "53  0.006697  Wednesday      3  ...            0.034284            0.034284   \n",
       "54 -0.008282   Thursday      3  ...            0.034284            0.034284   \n",
       "\n",
       "    SPRD_moving_max_50  OCdiff_moving_max_5  OCdiff_moving_max_10  \\\n",
       "50            0.035714             1.024289              1.264003   \n",
       "51            0.035714             1.024289              1.264003   \n",
       "52            0.035714             1.024289              1.264003   \n",
       "53            0.035714             0.715716              1.264003   \n",
       "54            0.035714             0.762860              1.024289   \n",
       "\n",
       "    OCdiff_moving_max_15  OCdiff_moving_max_50  PRC_week_encode  \\\n",
       "50              1.578574              1.768569       114.427239   \n",
       "51              1.578574              1.768569       114.556922   \n",
       "52              1.264003              1.768569       114.556922   \n",
       "53              1.264003              1.768569       114.556922   \n",
       "54              1.264003              1.768569       114.556922   \n",
       "\n",
       "    PRC_month_encode  PRC_year_encode  \n",
       "50        114.929545         67.51926  \n",
       "51        114.929545         67.51926  \n",
       "52        114.929545         67.51926  \n",
       "53        114.929545         67.51926  \n",
       "54        114.929545         67.51926  \n",
       "\n",
       "[5 rows x 125 columns]"
      ]
     },
     "execution_count": 68,
     "metadata": {},
     "output_type": "execute_result"
    }
   ],
   "source": [
    "# remove the rows with NaN values (first 50 rows) from the training data\n",
    "train_XGB.dropna(inplace=True)\n",
    "\n",
    "train_XGB.head()"
   ]
  },
  {
   "cell_type": "code",
   "execution_count": 69,
   "metadata": {},
   "outputs": [
    {
     "data": {
      "text/plain": [
       "Index(['date', 'DCLRDT', 'DIVAMT', 'PRC', 'VOL', 'OPENPRC', 'NUMTRD', 'sprtrn',\n",
       "       'day', 'month', 'year', 'HISPRD', 'SPRD', 'TREND', 'Surprise',\n",
       "       'Announce', 'OCdiff', 'dayofweek', 'qtr', 'day365', 'dayofmonth',\n",
       "       'weekofyear', 'day_no', 'startend', 'PRC_moving_mean_5'],\n",
       "      dtype='object')"
      ]
     },
     "execution_count": 69,
     "metadata": {},
     "output_type": "execute_result"
    }
   ],
   "source": [
    "train_XGB.columns[:25]"
   ]
  },
  {
   "cell_type": "code",
   "execution_count": 70,
   "metadata": {},
   "outputs": [
    {
     "name": "stdout",
     "output_type": "stream",
     "text": [
      "Index(['DCLRDT', 'DIVAMT', 'month', 'year', 'TREND', 'Surprise', 'Announce',\n",
      "       'dayofweek', 'qtr', 'day365',\n",
      "       ...\n",
      "       'SPRD_moving_max_10', 'SPRD_moving_max_15', 'SPRD_moving_max_50',\n",
      "       'OCdiff_moving_max_5', 'OCdiff_moving_max_10', 'OCdiff_moving_max_15',\n",
      "       'OCdiff_moving_max_50', 'PRC_week_encode', 'PRC_month_encode',\n",
      "       'PRC_year_encode'],\n",
      "      dtype='object', length=115)\n"
     ]
    }
   ],
   "source": [
    "# target is PRC\n",
    "# drop variables such as VOL which are only used to generate lag features\n",
    "y_train = train_XGB['PRC']\n",
    "X_train = train_XGB.drop(['PRC', 'date', 'VOL', 'OPENPRC', 'NUMTRD', 'sprtrn',\n",
    "       'day', 'HISPRD', 'SPRD', 'OCdiff'], axis=1)\n",
    "print(X_train.columns)\n",
    "\n",
    "y_test = test_XGB['PRC']\n",
    "X_test = test_XGB.drop(['PRC', 'date', 'VOL', 'OPENPRC', 'NUMTRD', 'sprtrn',\n",
    "       'day', 'HISPRD', 'SPRD', 'OCdiff'], axis=1)"
   ]
  },
  {
   "cell_type": "code",
   "execution_count": 71,
   "metadata": {},
   "outputs": [],
   "source": [
    "# set initial values for tuning parameters\n",
    "n_estimators_1 = 100\n",
    "max_depth_1 = 8\n",
    "min_child_weight_1 = 1\n",
    "subsample_1 = 0.8\n",
    "colsample_bytree_1 = 0.8\n",
    "gamma_1 = 0"
   ]
  },
  {
   "cell_type": "code",
   "execution_count": 72,
   "metadata": {},
   "outputs": [],
   "source": [
    "model = XGBRegressor(booster='gbtree', eval_metric='rmse', eta=0.03,\n",
    "             n_estimators=n_estimators_1, max_depth=max_depth_1, min_child_weight=min_child_weight_1,\n",
    "             subsample=subsample_1,colsample_bytree=colsample_bytree_1, gamma=gamma_1, silent=1)"
   ]
  },
  {
   "cell_type": "code",
   "execution_count": 73,
   "metadata": {},
   "outputs": [
    {
     "data": {
      "text/plain": [
       "XGBRegressor(base_score=0.5, booster='gbtree', colsample_bylevel=1,\n",
       "             colsample_bynode=1, colsample_bytree=0.8, eta=0.03,\n",
       "             eval_metric='rmse', gamma=0, importance_type='gain',\n",
       "             learning_rate=0.1, max_delta_step=0, max_depth=8,\n",
       "             min_child_weight=1, missing=None, n_estimators=100, n_jobs=1,\n",
       "             nthread=None, objective='reg:linear', random_state=0, reg_alpha=0,\n",
       "             reg_lambda=1, scale_pos_weight=1, seed=None, silent=1,\n",
       "             subsample=0.8, verbosity=1)"
      ]
     },
     "execution_count": 73,
     "metadata": {},
     "output_type": "execute_result"
    }
   ],
   "source": [
    "model.fit(X_train, y_train)"
   ]
  },
  {
   "cell_type": "code",
   "execution_count": 74,
   "metadata": {
    "scrolled": true
   },
   "outputs": [
    {
     "name": "stdout",
     "output_type": "stream",
     "text": [
      "RMSE of test prediction: 9.999819416333857\n",
      "MAPE of test prediction: 5.6438024256093176\n"
     ]
    }
   ],
   "source": [
    "y_pred = model.predict(X_test)\n",
    "print('RMSE of test prediction:', rmse(y_pred, y_test))\n",
    "print('MAPE of test prediction:', mape(y_pred, y_test))"
   ]
  },
  {
   "cell_type": "code",
   "execution_count": 75,
   "metadata": {
    "scrolled": true
   },
   "outputs": [
    {
     "name": "stdout",
     "output_type": "stream",
     "text": [
      "n_estimators=150 has the lowest mape: 2.9177822221856213\n"
     ]
    }
   ],
   "source": [
    "n_estimators_1 = n_estimators_tune(50,500,50)"
   ]
  },
  {
   "cell_type": "code",
   "execution_count": 76,
   "metadata": {},
   "outputs": [
    {
     "name": "stdout",
     "output_type": "stream",
     "text": [
      "gamma=3 has the lowest mape: 2.6125168533333247\n"
     ]
    }
   ],
   "source": [
    "gamma_1 = gamma_tune(0, 8, 1)"
   ]
  },
  {
   "cell_type": "code",
   "execution_count": 77,
   "metadata": {},
   "outputs": [
    {
     "name": "stdout",
     "output_type": "stream",
     "text": [
      "subsample=0.8 and colsample_bytree=0.8 has the lowest mape: 2.6125168533333247\n"
     ]
    }
   ],
   "source": [
    "subsample_1, colsample_bytree_1 = sample_tune(50,100,50,100,10)"
   ]
  },
  {
   "cell_type": "code",
   "execution_count": 78,
   "metadata": {},
   "outputs": [
    {
     "name": "stdout",
     "output_type": "stream",
     "text": [
      "max_depth=9 and min_child_weight=7 has the lowest mape: 2.5788773815661212\n"
     ]
    }
   ],
   "source": [
    "max_depth_1, min_child_weight_1 = depth_weight_tune(3,12,1,10,1)"
   ]
  },
  {
   "cell_type": "code",
   "execution_count": 79,
   "metadata": {},
   "outputs": [],
   "source": [
    "model = XGBRegressor(booster='gbtree', eval_metric='rmse', eta=0.03,\n",
    "             n_estimators=n_estimators_1, max_depth=max_depth_1, min_child_weight=min_child_weight_1,\n",
    "             subsample=subsample_1,colsample_bytree=colsample_bytree_1, gamma=gamma_1, silent=1)"
   ]
  },
  {
   "cell_type": "code",
   "execution_count": 80,
   "metadata": {},
   "outputs": [
    {
     "data": {
      "text/plain": [
       "XGBRegressor(base_score=0.5, booster='gbtree', colsample_bylevel=1,\n",
       "             colsample_bynode=1, colsample_bytree=0.8, eta=0.03,\n",
       "             eval_metric='rmse', gamma=3, importance_type='gain',\n",
       "             learning_rate=0.1, max_delta_step=0, max_depth=9,\n",
       "             min_child_weight=7, missing=None, n_estimators=150, n_jobs=1,\n",
       "             nthread=None, objective='reg:linear', random_state=0, reg_alpha=0,\n",
       "             reg_lambda=1, scale_pos_weight=1, seed=None, silent=1,\n",
       "             subsample=0.8, verbosity=1)"
      ]
     },
     "execution_count": 80,
     "metadata": {},
     "output_type": "execute_result"
    }
   ],
   "source": [
    "model.fit(X_train, y_train)"
   ]
  },
  {
   "cell_type": "code",
   "execution_count": 81,
   "metadata": {},
   "outputs": [
    {
     "name": "stdout",
     "output_type": "stream",
     "text": [
      "RMSE of test prediction: 11.586447369381597\n",
      "MAPE of test prediction: 6.692637386505548\n"
     ]
    }
   ],
   "source": [
    "y_pred = model.predict(X_test)\n",
    "print('RMSE of test prediction:', rmse(y_pred, y_test))\n",
    "print('MAPE of test prediction:', mape(y_pred, y_test))"
   ]
  },
  {
   "cell_type": "code",
   "execution_count": null,
   "metadata": {},
   "outputs": [],
   "source": []
  }
 ],
 "metadata": {
  "kernelspec": {
   "display_name": "Python 3",
   "language": "python",
   "name": "python3"
  },
  "language_info": {
   "codemirror_mode": {
    "name": "ipython",
    "version": 3
   },
   "file_extension": ".py",
   "mimetype": "text/x-python",
   "name": "python",
   "nbconvert_exporter": "python",
   "pygments_lexer": "ipython3",
   "version": "3.7.3"
  }
 },
 "nbformat": 4,
 "nbformat_minor": 2
}
