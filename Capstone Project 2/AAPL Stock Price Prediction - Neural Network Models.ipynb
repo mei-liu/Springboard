{
 "cells": [
  {
   "cell_type": "code",
   "execution_count": 1,
   "metadata": {},
   "outputs": [],
   "source": [
    "import pandas as pd\n",
    "import numpy as np\n",
    "from sklearn.decomposition import PCA\n",
    "from sklearn.preprocessing import LabelEncoder, StandardScaler, MinMaxScaler"
   ]
  },
  {
   "cell_type": "code",
   "execution_count": 2,
   "metadata": {},
   "outputs": [
    {
     "data": {
      "text/html": [
       "<div>\n",
       "<style scoped>\n",
       "    .dataframe tbody tr th:only-of-type {\n",
       "        vertical-align: middle;\n",
       "    }\n",
       "\n",
       "    .dataframe tbody tr th {\n",
       "        vertical-align: top;\n",
       "    }\n",
       "\n",
       "    .dataframe thead th {\n",
       "        text-align: right;\n",
       "    }\n",
       "</style>\n",
       "<table border=\"1\" class=\"dataframe\">\n",
       "  <thead>\n",
       "    <tr style=\"text-align: right;\">\n",
       "      <th></th>\n",
       "      <th>date</th>\n",
       "      <th>DCLRDT</th>\n",
       "      <th>DIVAMT</th>\n",
       "      <th>PRC</th>\n",
       "      <th>VOL</th>\n",
       "      <th>OPENPRC</th>\n",
       "      <th>NUMTRD</th>\n",
       "      <th>sprtrn</th>\n",
       "      <th>day</th>\n",
       "      <th>month</th>\n",
       "      <th>...</th>\n",
       "      <th>SPRD_moving_max_10</th>\n",
       "      <th>SPRD_moving_max_15</th>\n",
       "      <th>SPRD_moving_max_50</th>\n",
       "      <th>OCdiff_moving_max_5</th>\n",
       "      <th>OCdiff_moving_max_10</th>\n",
       "      <th>OCdiff_moving_max_15</th>\n",
       "      <th>OCdiff_moving_max_50</th>\n",
       "      <th>PRC_week_encode</th>\n",
       "      <th>PRC_month_encode</th>\n",
       "      <th>PRC_year_encode</th>\n",
       "    </tr>\n",
       "    <tr>\n",
       "      <th>index</th>\n",
       "      <th></th>\n",
       "      <th></th>\n",
       "      <th></th>\n",
       "      <th></th>\n",
       "      <th></th>\n",
       "      <th></th>\n",
       "      <th></th>\n",
       "      <th></th>\n",
       "      <th></th>\n",
       "      <th></th>\n",
       "      <th></th>\n",
       "      <th></th>\n",
       "      <th></th>\n",
       "      <th></th>\n",
       "      <th></th>\n",
       "      <th></th>\n",
       "      <th></th>\n",
       "      <th></th>\n",
       "      <th></th>\n",
       "      <th></th>\n",
       "      <th></th>\n",
       "    </tr>\n",
       "  </thead>\n",
       "  <tbody>\n",
       "    <tr>\n",
       "      <th>1505</th>\n",
       "      <td>2018-12-24</td>\n",
       "      <td>0</td>\n",
       "      <td>0.0</td>\n",
       "      <td>146.83000</td>\n",
       "      <td>37249292</td>\n",
       "      <td>148.14999</td>\n",
       "      <td>253083</td>\n",
       "      <td>-0.027112</td>\n",
       "      <td>Monday</td>\n",
       "      <td>12</td>\n",
       "      <td>...</td>\n",
       "      <td>0.05</td>\n",
       "      <td>0.05</td>\n",
       "      <td>0.12001</td>\n",
       "      <td>5.0</td>\n",
       "      <td>5.0</td>\n",
       "      <td>5.0</td>\n",
       "      <td>9.10001</td>\n",
       "      <td>117.691859</td>\n",
       "      <td>121.716203</td>\n",
       "      <td>190.372739</td>\n",
       "    </tr>\n",
       "    <tr>\n",
       "      <th>1506</th>\n",
       "      <td>2018-12-26</td>\n",
       "      <td>0</td>\n",
       "      <td>0.0</td>\n",
       "      <td>157.17000</td>\n",
       "      <td>58584634</td>\n",
       "      <td>148.30000</td>\n",
       "      <td>359309</td>\n",
       "      <td>0.049594</td>\n",
       "      <td>Wednesday</td>\n",
       "      <td>12</td>\n",
       "      <td>...</td>\n",
       "      <td>0.05</td>\n",
       "      <td>0.05</td>\n",
       "      <td>0.12001</td>\n",
       "      <td>5.0</td>\n",
       "      <td>5.0</td>\n",
       "      <td>5.0</td>\n",
       "      <td>9.10001</td>\n",
       "      <td>117.691859</td>\n",
       "      <td>121.716203</td>\n",
       "      <td>190.372739</td>\n",
       "    </tr>\n",
       "    <tr>\n",
       "      <th>1507</th>\n",
       "      <td>2018-12-27</td>\n",
       "      <td>0</td>\n",
       "      <td>0.0</td>\n",
       "      <td>156.14999</td>\n",
       "      <td>53117005</td>\n",
       "      <td>155.84000</td>\n",
       "      <td>335536</td>\n",
       "      <td>0.008563</td>\n",
       "      <td>Thursday</td>\n",
       "      <td>12</td>\n",
       "      <td>...</td>\n",
       "      <td>0.05</td>\n",
       "      <td>0.05</td>\n",
       "      <td>0.12001</td>\n",
       "      <td>5.0</td>\n",
       "      <td>5.0</td>\n",
       "      <td>5.0</td>\n",
       "      <td>9.10001</td>\n",
       "      <td>117.691859</td>\n",
       "      <td>121.716203</td>\n",
       "      <td>190.372739</td>\n",
       "    </tr>\n",
       "    <tr>\n",
       "      <th>1508</th>\n",
       "      <td>2018-12-28</td>\n",
       "      <td>0</td>\n",
       "      <td>0.0</td>\n",
       "      <td>156.23000</td>\n",
       "      <td>42291347</td>\n",
       "      <td>157.50000</td>\n",
       "      <td>274455</td>\n",
       "      <td>-0.001242</td>\n",
       "      <td>Friday</td>\n",
       "      <td>12</td>\n",
       "      <td>...</td>\n",
       "      <td>0.05</td>\n",
       "      <td>0.05</td>\n",
       "      <td>0.12001</td>\n",
       "      <td>5.0</td>\n",
       "      <td>5.0</td>\n",
       "      <td>5.0</td>\n",
       "      <td>9.10001</td>\n",
       "      <td>117.691859</td>\n",
       "      <td>121.716203</td>\n",
       "      <td>190.372739</td>\n",
       "    </tr>\n",
       "    <tr>\n",
       "      <th>1509</th>\n",
       "      <td>2018-12-31</td>\n",
       "      <td>0</td>\n",
       "      <td>0.0</td>\n",
       "      <td>157.74001</td>\n",
       "      <td>35003466</td>\n",
       "      <td>158.53000</td>\n",
       "      <td>207618</td>\n",
       "      <td>0.008492</td>\n",
       "      <td>Monday</td>\n",
       "      <td>12</td>\n",
       "      <td>...</td>\n",
       "      <td>0.05</td>\n",
       "      <td>0.05</td>\n",
       "      <td>0.12001</td>\n",
       "      <td>5.0</td>\n",
       "      <td>5.0</td>\n",
       "      <td>5.0</td>\n",
       "      <td>9.10001</td>\n",
       "      <td>110.597714</td>\n",
       "      <td>121.716203</td>\n",
       "      <td>190.372739</td>\n",
       "    </tr>\n",
       "  </tbody>\n",
       "</table>\n",
       "<p>5 rows × 125 columns</p>\n",
       "</div>"
      ],
      "text/plain": [
       "             date  DCLRDT  DIVAMT        PRC       VOL    OPENPRC  NUMTRD  \\\n",
       "index                                                                       \n",
       "1505   2018-12-24       0     0.0  146.83000  37249292  148.14999  253083   \n",
       "1506   2018-12-26       0     0.0  157.17000  58584634  148.30000  359309   \n",
       "1507   2018-12-27       0     0.0  156.14999  53117005  155.84000  335536   \n",
       "1508   2018-12-28       0     0.0  156.23000  42291347  157.50000  274455   \n",
       "1509   2018-12-31       0     0.0  157.74001  35003466  158.53000  207618   \n",
       "\n",
       "         sprtrn        day  month  ...  SPRD_moving_max_10  \\\n",
       "index                              ...                       \n",
       "1505  -0.027112     Monday     12  ...                0.05   \n",
       "1506   0.049594  Wednesday     12  ...                0.05   \n",
       "1507   0.008563   Thursday     12  ...                0.05   \n",
       "1508  -0.001242     Friday     12  ...                0.05   \n",
       "1509   0.008492     Monday     12  ...                0.05   \n",
       "\n",
       "       SPRD_moving_max_15  SPRD_moving_max_50  OCdiff_moving_max_5  \\\n",
       "index                                                                \n",
       "1505                 0.05             0.12001                  5.0   \n",
       "1506                 0.05             0.12001                  5.0   \n",
       "1507                 0.05             0.12001                  5.0   \n",
       "1508                 0.05             0.12001                  5.0   \n",
       "1509                 0.05             0.12001                  5.0   \n",
       "\n",
       "       OCdiff_moving_max_10  OCdiff_moving_max_15  OCdiff_moving_max_50  \\\n",
       "index                                                                     \n",
       "1505                    5.0                   5.0               9.10001   \n",
       "1506                    5.0                   5.0               9.10001   \n",
       "1507                    5.0                   5.0               9.10001   \n",
       "1508                    5.0                   5.0               9.10001   \n",
       "1509                    5.0                   5.0               9.10001   \n",
       "\n",
       "       PRC_week_encode  PRC_month_encode  PRC_year_encode  \n",
       "index                                                      \n",
       "1505        117.691859        121.716203       190.372739  \n",
       "1506        117.691859        121.716203       190.372739  \n",
       "1507        117.691859        121.716203       190.372739  \n",
       "1508        117.691859        121.716203       190.372739  \n",
       "1509        110.597714        121.716203       190.372739  \n",
       "\n",
       "[5 rows x 125 columns]"
      ]
     },
     "execution_count": 2,
     "metadata": {},
     "output_type": "execute_result"
    }
   ],
   "source": [
    "# import data/features (refer to Capstone 1 XGBoost model w/ multiple features for feature creation)\n",
    "train = pd.read_csv('/Users/meiliu/Documents/SpringBoard Related/AAPL_train.csv', index_col=0)\n",
    "test = pd.read_csv('/Users/meiliu/Documents/SpringBoard Related/AAPL_test.csv', index_col=0)\n",
    "\n",
    "data = pd.concat([train, test], axis=0)\n",
    "data.set_index('index', inplace=True)\n",
    "data.tail()"
   ]
  },
  {
   "cell_type": "markdown",
   "metadata": {},
   "source": [
    "## Simple MultiStep LSTM Model Using Only Price"
   ]
  },
  {
   "cell_type": "code",
   "execution_count": 3,
   "metadata": {},
   "outputs": [
    {
     "name": "stderr",
     "output_type": "stream",
     "text": [
      "Using TensorFlow backend.\n"
     ]
    }
   ],
   "source": [
    "from keras.models import Sequential\n",
    "from keras.models import Model\n",
    "from keras.layers import Dense, LSTM\n",
    "from keras.callbacks import EarlyStopping, ModelCheckpoint, ReduceLROnPlateau"
   ]
  },
  {
   "cell_type": "code",
   "execution_count": 4,
   "metadata": {},
   "outputs": [
    {
     "name": "stdout",
     "output_type": "stream",
     "text": [
      "(1430,) (1430,) (10,) (10,) (10,) (10,)\n"
     ]
    }
   ],
   "source": [
    "# split price data into train, validation, and test sets\n",
    "X_train_lstm1 = data['PRC'][:-30]\n",
    "y_train_lstm1 = data['PRC'][10:-20]\n",
    "\n",
    "X_val_lstm1 = data['PRC'][-30:-20]\n",
    "y_val_lstm1 = data['PRC'][-20:-10]\n",
    "\n",
    "X_test_lstm1 = data['PRC'][-20:-10]\n",
    "y_test_lstm1 = data['PRC'][-10:]\n",
    "\n",
    "print(X_train_lstm1.shape, y_train_lstm1.shape, X_val_lstm1.shape, y_val_lstm1.shape, \n",
    "      X_test_lstm1.shape, y_test_lstm1.shape)"
   ]
  },
  {
   "cell_type": "code",
   "execution_count": 5,
   "metadata": {},
   "outputs": [],
   "source": [
    "# reshape data to t=10 timesteps\n",
    "X_train_lstm1 = np.array(X_train_lstm1).reshape(int(len(X_train_lstm1)/10),10)\n",
    "y_train_lstm1 = np.array(y_train_lstm1).reshape(int(len(y_train_lstm1)/10),10)\n",
    "\n",
    "X_val_lstm1 = np.array(X_val_lstm1).reshape(int(len(X_val_lstm1)/10),10)\n",
    "y_val_lstm1 = np.array(y_val_lstm1).reshape(int(len(y_val_lstm1)/10),10)\n",
    "\n",
    "X_test_lstm1 = np.array(X_test_lstm1).reshape(1,10)\n",
    "y_test_lstm1 = np.array(y_test_lstm1).reshape(1,10)"
   ]
  },
  {
   "cell_type": "code",
   "execution_count": 6,
   "metadata": {},
   "outputs": [],
   "source": [
    "# scale data using MinMax\n",
    "s = MinMaxScaler()\n",
    "X_train_lstm1 = s.fit_transform(X_train_lstm1)\n",
    "y_train_lstm1 = s.transform(y_train_lstm1)\n",
    "\n",
    "X_val_lstm1 = s.transform(X_val_lstm1)\n",
    "y_val_lstm1 = s.transform(y_val_lstm1)\n",
    "\n",
    "X_test_lstm1 = s.transform(X_test_lstm1)\n",
    "y_test_lstm1 = s.transform(y_test_lstm1)"
   ]
  },
  {
   "cell_type": "code",
   "execution_count": 18,
   "metadata": {},
   "outputs": [],
   "source": [
    "# reshape X arrays to be 3D for LSTM layer\n",
    "X_train_lstm1 = np.array(X_train_lstm1).reshape(len(X_train_lstm1),10,1)\n",
    "X_val_lstm1 = np.array(X_val_lstm1).reshape(len(X_val_lstm1),10,1)\n",
    "X_test_lstm1 = np.array(X_test_lstm1).reshape(1,10,1)"
   ]
  },
  {
   "cell_type": "code",
   "execution_count": 41,
   "metadata": {},
   "outputs": [],
   "source": [
    "# LSTM model with single LSTM layer, 10 output nodes\n",
    "def priceLSTM():\n",
    "    model = Sequential()\n",
    "    model.add(LSTM(units=10, activation='relu', input_shape=(10,1)))\n",
    "    model.add(Dropout(0.2))\n",
    "    model.add(Dense(10))\n",
    "    model.compile(loss='mse', optimizer='adam')\n",
    "    \n",
    "    return model"
   ]
  },
  {
   "cell_type": "code",
   "execution_count": 42,
   "metadata": {
    "scrolled": false
   },
   "outputs": [
    {
     "name": "stdout",
     "output_type": "stream",
     "text": [
      "Train on 143 samples, validate on 1 samples\n",
      "Epoch 1/100\n",
      "143/143 [==============================] - 1s 6ms/step - loss: 0.1996 - val_loss: 0.4437\n",
      "Epoch 2/100\n",
      "143/143 [==============================] - 0s 469us/step - loss: 0.1916 - val_loss: 0.4281\n",
      "Epoch 3/100\n",
      "143/143 [==============================] - 0s 457us/step - loss: 0.1839 - val_loss: 0.4131\n",
      "Epoch 4/100\n",
      "143/143 [==============================] - 0s 421us/step - loss: 0.1767 - val_loss: 0.3984\n",
      "Epoch 5/100\n",
      "143/143 [==============================] - 0s 416us/step - loss: 0.1694 - val_loss: 0.3842\n",
      "Epoch 6/100\n",
      "143/143 [==============================] - 0s 406us/step - loss: 0.1625 - val_loss: 0.3698\n",
      "Epoch 7/100\n",
      "143/143 [==============================] - 0s 379us/step - loss: 0.1557 - val_loss: 0.3552\n",
      "Epoch 8/100\n",
      "143/143 [==============================] - 0s 425us/step - loss: 0.1487 - val_loss: 0.3407\n",
      "Epoch 9/100\n",
      "143/143 [==============================] - 0s 429us/step - loss: 0.1420 - val_loss: 0.3261\n",
      "Epoch 10/100\n",
      "143/143 [==============================] - 0s 424us/step - loss: 0.1352 - val_loss: 0.3110\n",
      "Epoch 11/100\n",
      "143/143 [==============================] - 0s 451us/step - loss: 0.1281 - val_loss: 0.2950\n",
      "Epoch 12/100\n",
      "143/143 [==============================] - 0s 384us/step - loss: 0.1212 - val_loss: 0.2781\n",
      "Epoch 13/100\n",
      "143/143 [==============================] - 0s 387us/step - loss: 0.1136 - val_loss: 0.2610\n",
      "Epoch 14/100\n",
      "143/143 [==============================] - 0s 392us/step - loss: 0.1060 - val_loss: 0.2433\n",
      "Epoch 15/100\n",
      "143/143 [==============================] - 0s 432us/step - loss: 0.0985 - val_loss: 0.2244\n",
      "Epoch 16/100\n",
      "143/143 [==============================] - 0s 362us/step - loss: 0.0905 - val_loss: 0.2051\n",
      "Epoch 17/100\n",
      "143/143 [==============================] - 0s 402us/step - loss: 0.0823 - val_loss: 0.1858\n",
      "Epoch 18/100\n",
      "143/143 [==============================] - 0s 435us/step - loss: 0.0752 - val_loss: 0.1663\n",
      "Epoch 19/100\n",
      "143/143 [==============================] - 0s 417us/step - loss: 0.0676 - val_loss: 0.1484\n",
      "Epoch 20/100\n",
      "143/143 [==============================] - 0s 489us/step - loss: 0.0609 - val_loss: 0.1327\n",
      "Epoch 21/100\n",
      "143/143 [==============================] - 0s 418us/step - loss: 0.0548 - val_loss: 0.1193\n",
      "Epoch 22/100\n",
      "143/143 [==============================] - 0s 413us/step - loss: 0.0498 - val_loss: 0.1071\n",
      "Epoch 23/100\n",
      "143/143 [==============================] - 0s 397us/step - loss: 0.0452 - val_loss: 0.0956\n",
      "Epoch 24/100\n",
      "143/143 [==============================] - 0s 446us/step - loss: 0.0404 - val_loss: 0.0850\n",
      "Epoch 25/100\n",
      "143/143 [==============================] - 0s 422us/step - loss: 0.0360 - val_loss: 0.0751\n",
      "Epoch 26/100\n",
      "143/143 [==============================] - 0s 413us/step - loss: 0.0320 - val_loss: 0.0658\n",
      "Epoch 27/100\n",
      "143/143 [==============================] - 0s 408us/step - loss: 0.0283 - val_loss: 0.0565\n",
      "Epoch 28/100\n",
      "143/143 [==============================] - 0s 460us/step - loss: 0.0249 - val_loss: 0.0477\n",
      "Epoch 29/100\n",
      "143/143 [==============================] - 0s 429us/step - loss: 0.0217 - val_loss: 0.0398\n",
      "Epoch 30/100\n",
      "143/143 [==============================] - 0s 458us/step - loss: 0.0189 - val_loss: 0.0329\n",
      "Epoch 31/100\n",
      "143/143 [==============================] - 0s 394us/step - loss: 0.0164 - val_loss: 0.0271\n",
      "Epoch 32/100\n",
      "143/143 [==============================] - 0s 387us/step - loss: 0.0142 - val_loss: 0.0222\n",
      "Epoch 33/100\n",
      "143/143 [==============================] - 0s 412us/step - loss: 0.0125 - val_loss: 0.0181\n",
      "Epoch 34/100\n",
      "143/143 [==============================] - 0s 399us/step - loss: 0.0110 - val_loss: 0.0149\n",
      "Epoch 35/100\n",
      "143/143 [==============================] - 0s 383us/step - loss: 0.0099 - val_loss: 0.0124\n",
      "Epoch 36/100\n",
      "143/143 [==============================] - 0s 383us/step - loss: 0.0089 - val_loss: 0.0102\n",
      "Epoch 37/100\n",
      "143/143 [==============================] - 0s 419us/step - loss: 0.0081 - val_loss: 0.0085\n",
      "Epoch 38/100\n",
      "143/143 [==============================] - 0s 366us/step - loss: 0.0075 - val_loss: 0.0071\n",
      "Epoch 39/100\n",
      "143/143 [==============================] - 0s 394us/step - loss: 0.0071 - val_loss: 0.0061\n",
      "Epoch 40/100\n",
      "143/143 [==============================] - 0s 420us/step - loss: 0.0067 - val_loss: 0.0051\n",
      "Epoch 41/100\n",
      "143/143 [==============================] - 0s 419us/step - loss: 0.0064 - val_loss: 0.0045\n",
      "Epoch 42/100\n",
      "143/143 [==============================] - 0s 374us/step - loss: 0.0062 - val_loss: 0.0039\n",
      "Epoch 43/100\n",
      "143/143 [==============================] - 0s 427us/step - loss: 0.0060 - val_loss: 0.0034\n",
      "Epoch 44/100\n",
      "143/143 [==============================] - 0s 383us/step - loss: 0.0058 - val_loss: 0.0030\n",
      "Epoch 45/100\n",
      "143/143 [==============================] - 0s 395us/step - loss: 0.0057 - val_loss: 0.0027\n",
      "Epoch 46/100\n",
      "143/143 [==============================] - 0s 472us/step - loss: 0.0057 - val_loss: 0.0025\n",
      "Epoch 47/100\n",
      "143/143 [==============================] - 0s 411us/step - loss: 0.0056 - val_loss: 0.0029\n",
      "Epoch 48/100\n",
      "143/143 [==============================] - 0s 432us/step - loss: 0.0055 - val_loss: 0.0023\n",
      "Epoch 49/100\n",
      "143/143 [==============================] - 0s 362us/step - loss: 0.0055 - val_loss: 0.0021\n",
      "Epoch 50/100\n",
      "143/143 [==============================] - 0s 409us/step - loss: 0.0053 - val_loss: 0.0022\n",
      "Epoch 51/100\n",
      "143/143 [==============================] - 0s 451us/step - loss: 0.0054 - val_loss: 0.0019\n",
      "Epoch 52/100\n",
      "143/143 [==============================] - 0s 472us/step - loss: 0.0052 - val_loss: 0.0018\n",
      "Epoch 53/100\n",
      "143/143 [==============================] - 0s 569us/step - loss: 0.0052 - val_loss: 0.0019\n",
      "Epoch 54/100\n",
      "143/143 [==============================] - 0s 436us/step - loss: 0.0051 - val_loss: 0.0018\n",
      "Epoch 55/100\n",
      "143/143 [==============================] - 0s 413us/step - loss: 0.0051 - val_loss: 0.0017\n",
      "Epoch 56/100\n",
      "143/143 [==============================] - 0s 375us/step - loss: 0.0050 - val_loss: 0.0016\n",
      "Epoch 57/100\n",
      "143/143 [==============================] - 0s 380us/step - loss: 0.0050 - val_loss: 0.0016\n",
      "Epoch 58/100\n",
      "143/143 [==============================] - 0s 395us/step - loss: 0.0049 - val_loss: 0.0017\n",
      "Epoch 59/100\n",
      "143/143 [==============================] - 0s 399us/step - loss: 0.0049 - val_loss: 0.0017\n",
      "Epoch 60/100\n",
      "143/143 [==============================] - 0s 400us/step - loss: 0.0050 - val_loss: 0.0019\n",
      "Epoch 61/100\n",
      "143/143 [==============================] - 0s 417us/step - loss: 0.0048 - val_loss: 0.0017\n",
      "Epoch 62/100\n",
      "143/143 [==============================] - 0s 431us/step - loss: 0.0048 - val_loss: 0.0017\n",
      "Epoch 63/100\n",
      "143/143 [==============================] - 0s 441us/step - loss: 0.0048 - val_loss: 0.0017\n",
      "Epoch 64/100\n",
      "143/143 [==============================] - 0s 420us/step - loss: 0.0047 - val_loss: 0.0016\n",
      "Epoch 65/100\n",
      "143/143 [==============================] - 0s 451us/step - loss: 0.0047 - val_loss: 0.0018\n",
      "Epoch 66/100\n",
      "143/143 [==============================] - 0s 627us/step - loss: 0.0047 - val_loss: 0.0016\n",
      "\n",
      "Epoch 00066: ReduceLROnPlateau reducing learning rate to 0.00010000000474974513.\n",
      "Epoch 67/100\n",
      "143/143 [==============================] - 0s 517us/step - loss: 0.0046 - val_loss: 0.0016\n",
      "Epoch 68/100\n",
      "143/143 [==============================] - 0s 445us/step - loss: 0.0046 - val_loss: 0.0016\n",
      "Epoch 69/100\n",
      "143/143 [==============================] - 0s 516us/step - loss: 0.0046 - val_loss: 0.0016\n",
      "Epoch 70/100\n",
      "143/143 [==============================] - 0s 520us/step - loss: 0.0046 - val_loss: 0.0016\n",
      "Epoch 71/100\n",
      "143/143 [==============================] - 0s 462us/step - loss: 0.0046 - val_loss: 0.0016\n",
      "Epoch 72/100\n",
      "143/143 [==============================] - 0s 418us/step - loss: 0.0046 - val_loss: 0.0016\n",
      "Epoch 73/100\n",
      "143/143 [==============================] - 0s 428us/step - loss: 0.0046 - val_loss: 0.0016\n",
      "Epoch 74/100\n",
      "143/143 [==============================] - 0s 410us/step - loss: 0.0046 - val_loss: 0.0016\n",
      "Epoch 75/100\n",
      "143/143 [==============================] - 0s 399us/step - loss: 0.0046 - val_loss: 0.0016\n",
      "Epoch 76/100\n",
      "143/143 [==============================] - 0s 412us/step - loss: 0.0046 - val_loss: 0.0016\n",
      "\n",
      "Epoch 00076: ReduceLROnPlateau reducing learning rate to 0.0001.\n",
      "Epoch 77/100\n",
      "143/143 [==============================] - 0s 397us/step - loss: 0.0046 - val_loss: 0.0016\n",
      "Epoch 78/100\n"
     ]
    },
    {
     "name": "stdout",
     "output_type": "stream",
     "text": [
      "143/143 [==============================] - 0s 397us/step - loss: 0.0045 - val_loss: 0.0016\n",
      "Epoch 79/100\n",
      "143/143 [==============================] - 0s 408us/step - loss: 0.0045 - val_loss: 0.0016\n",
      "Epoch 80/100\n",
      "143/143 [==============================] - 0s 373us/step - loss: 0.0045 - val_loss: 0.0016\n",
      "Epoch 81/100\n",
      "143/143 [==============================] - 0s 380us/step - loss: 0.0045 - val_loss: 0.0016\n",
      "Epoch 82/100\n",
      "143/143 [==============================] - 0s 386us/step - loss: 0.0045 - val_loss: 0.0016\n",
      "Epoch 83/100\n",
      "143/143 [==============================] - 0s 374us/step - loss: 0.0045 - val_loss: 0.0016\n",
      "Epoch 84/100\n",
      "143/143 [==============================] - 0s 378us/step - loss: 0.0045 - val_loss: 0.0016\n",
      "Epoch 85/100\n",
      "143/143 [==============================] - 0s 400us/step - loss: 0.0045 - val_loss: 0.0016\n",
      "Epoch 86/100\n",
      "143/143 [==============================] - 0s 393us/step - loss: 0.0045 - val_loss: 0.0016\n"
     ]
    },
    {
     "data": {
      "text/plain": [
       "<keras.callbacks.callbacks.History at 0x1a40cadef0>"
      ]
     },
     "execution_count": 42,
     "metadata": {},
     "output_type": "execute_result"
    }
   ],
   "source": [
    "# fit model\n",
    "model = priceLSTM()\n",
    "\n",
    "lr_reducer = ReduceLROnPlateau(monitor='val_loss', factor=0.1, patience=10, verbose=1, mode='auto', cooldown=0, min_lr=0.0001)\n",
    "checkpoint = ModelCheckpoint('best_model_weights.hdf5',monitor='val_loss',save_best_only=True)\n",
    "early_stopping_monitor = EarlyStopping(patience=30)\n",
    "\n",
    "model.fit(x=X_train_lstm1, y=y_train_lstm1, validation_data=(X_val_lstm1, y_val_lstm1), epochs=100,\n",
    "          callbacks=[lr_reducer, checkpoint, early_stopping_monitor])"
   ]
  },
  {
   "cell_type": "code",
   "execution_count": 43,
   "metadata": {},
   "outputs": [],
   "source": [
    "# predict test set\n",
    "y_pred_lstm1 = model.predict(X_test_lstm1)\n",
    "y_pred_lstm1 = s.inverse_transform(y_pred_lstm1)"
   ]
  },
  {
   "cell_type": "code",
   "execution_count": 44,
   "metadata": {},
   "outputs": [],
   "source": [
    "# RMSE calculation function\n",
    "def rmse(pred, target):\n",
    "    return np.sqrt(((pred - target) ** 2).mean())"
   ]
  },
  {
   "cell_type": "code",
   "execution_count": 45,
   "metadata": {},
   "outputs": [
    {
     "name": "stdout",
     "output_type": "stream",
     "text": [
      "LSTM w/ MinMax scaled Price:\n",
      "[[165.23593 164.89723 161.01102 162.59477 164.37976 166.57533 168.54662\n",
      "  161.13947 160.52977 164.9746 ]] \n",
      "-----\n",
      "[[163.94    166.07001 160.89    156.83    150.73    146.83    157.17\n",
      "  156.14999 156.23    157.74001]] \n",
      "-----\n",
      "rmse: 9.152298596809286\n"
     ]
    }
   ],
   "source": [
    "print('LSTM w/ MinMax scaled Price:')\n",
    "print(y_pred_lstm1, '\\n-----')\n",
    "print(s.inverse_transform(y_test_lstm1), '\\n-----')\n",
    "print('rmse:', rmse(y_pred_lstm1,s.inverse_transform(y_test_lstm1)))"
   ]
  },
  {
   "cell_type": "markdown",
   "metadata": {},
   "source": [
    "The predictions and prediction accuracy are quite different across runs of the model. I'll use the average prediction RMSE across 30 different runs to estimate the RMSE of the model."
   ]
  },
  {
   "cell_type": "code",
   "execution_count": 60,
   "metadata": {},
   "outputs": [],
   "source": [
    "def LSTMfit(n_iter):\n",
    "    rmse_list = []\n",
    "    for i in range(n_iter):\n",
    "        model = priceLSTM()\n",
    "        lr_reducer = ReduceLROnPlateau(monitor='val_loss', factor=0.1, patience=10, verbose=0, mode='auto', cooldown=0, min_lr=0.0001)\n",
    "        checkpoint = ModelCheckpoint('best_model_weights.hdf5',monitor='val_loss',save_best_only=True)\n",
    "        early_stopping_monitor = EarlyStopping(patience=30)\n",
    "\n",
    "        model.fit(x=X_train_lstm1, y=y_train_lstm1, validation_data=(X_val_lstm1, y_val_lstm1), epochs=100,\n",
    "              callbacks=[lr_reducer, checkpoint, early_stopping_monitor], verbose=0)\n",
    "        y_pred_lstm1 = s.inverse_transform(model.predict(X_test_lstm1))\n",
    "        rmse_list.append(rmse(y_pred_lstm1,s.inverse_transform(y_test_lstm1)))\n",
    "    return np.mean(np.array(rmse_list))"
   ]
  },
  {
   "cell_type": "code",
   "execution_count": 62,
   "metadata": {},
   "outputs": [
    {
     "name": "stdout",
     "output_type": "stream",
     "text": [
      "Avg RMSE across 30 iterations:  11.595778983810366\n"
     ]
    }
   ],
   "source": [
    "avg_rmse = LSTMfit(30)\n",
    "print('Avg RMSE across 30 iterations: ', avg_rmse)"
   ]
  },
  {
   "cell_type": "markdown",
   "metadata": {},
   "source": [
    "## Simple Sequential Model w/ Categorical Embedding"
   ]
  },
  {
   "cell_type": "markdown",
   "metadata": {},
   "source": [
    "### Preprocessing"
   ]
  },
  {
   "cell_type": "code",
   "execution_count": 63,
   "metadata": {},
   "outputs": [],
   "source": [
    "# identify the target, categorical features, and continuous features\n",
    "target = ['PRC']\n",
    "cat_vars = ['DCLRDT', 'month','year','dayofweek', 'qtr', 'day365', 'dayofmonth',\n",
    "            'weekofyear', 'startend','Announce']\n",
    "\n",
    "drop=['date','VOL','OPENPRC','NUMTRD','sprtrn','day','HISPRD','SPRD', 'OCdiff']\n",
    "\n",
    "cont_vars = list(data.columns)\n",
    "\n",
    "cont_vars.remove(target[0])\n",
    "\n",
    "for cat in cat_vars:\n",
    "    cont_vars.remove(cat)\n",
    "\n",
    "for d in drop:\n",
    "    cont_vars.remove(d)"
   ]
  },
  {
   "cell_type": "code",
   "execution_count": 64,
   "metadata": {
    "scrolled": false
   },
   "outputs": [
    {
     "name": "stdout",
     "output_type": "stream",
     "text": [
      "DCLRDT: [0 1]\n",
      "month: [ 1  2  3  4  5  6  7  8  9 10 11 12]\n",
      "year: [2013 2014 2015 2016 2017 2018]\n",
      "dayofweek: [0 1 2 3 4]\n",
      "qtr: [1 2 3 4]\n",
      "day365: [  2   3   4   5   6   7   8   9  10  11  12  13  14  15  16  17  18  19\n",
      "  20  21  22  23  24  25  26  27  28  29  30  31  32  33  34  35  36  37\n",
      "  38  39  40  41  42  43  44  45  46  47  48  49  50  51  52  53  54  55\n",
      "  56  57  58  59  60  61  62  63  64  65  66  67  68  69  70  71  72  73\n",
      "  74  75  76  77  78  79  80  81  82  83  84  85  86  87  88  89  90  91\n",
      "  92  93  94  95  96  97  98  99 100 101 102 103 104 105 106 107 108 109\n",
      " 110 111 112 113 114 115 116 117 118 119 120 121 122 123 124 125 126 127\n",
      " 128 129 130 131 132 133 134 135 136 137 138 139 140 141 142 143 144 145\n",
      " 146 147 148 149 150 151 152 153 154 155 156 157 158 159 160 161 162 163\n",
      " 164 165 166 167 168 169 170 171 172 173 174 175 176 177 178 179 180 181\n",
      " 182 183 184 186 187 188 189 190 191 192 193 194 195 196 197 198 199 200\n",
      " 201 202 203 204 205 206 207 208 209 210 211 212 213 214 215 216 217 218\n",
      " 219 220 221 222 223 224 225 226 227 228 229 230 231 232 233 234 235 236\n",
      " 237 238 239 240 241 242 243 244 245 246 247 248 249 250 251 252 253 254\n",
      " 255 256 257 258 259 260 261 262 263 264 265 266 267 268 269 270 271 272\n",
      " 273 274 275 276 277 278 279 280 281 282 283 284 285 286 287 288 289 290\n",
      " 291 292 293 294 295 296 297 298 299 300 301 302 303 304 305 306 307 308\n",
      " 309 310 311 312 313 314 315 316 317 318 319 320 321 322 323 324 325 326\n",
      " 327 328 329 330 331 332 333 334 335 336 337 338 339 340 341 342 343 344\n",
      " 345 346 347 348 349 350 351 352 353 354 355 356 357 358 360 361 362 363\n",
      " 364 365]\n",
      "dayofmonth: [ 1  2  3  4  5  6  7  8  9 10 11 12 13 14 15 16 17 18 19 20 21 22 23 24\n",
      " 25 26 27 28 29 30 31]\n",
      "weekofyear: [ 1  2  3  4  5  6  7  8  9 10 11 12 13 14 15 16 17 18 19 20 21 22 23 24\n",
      " 25 26 27 28 29 30 31 32 33 34 35 36 37 38 39 40 41 42 43 44 45 46 47 48\n",
      " 49 50 51 52 53]\n",
      "startend: [0 1]\n",
      "Announce: [ 0.  1.  2.  3.  4.  5.  6.  7.  8.  9. 10. 11. 12. 13. 14. 15. 16. 17.\n",
      " 18. 19. 20. 21. 22. 23. 24. 25. 26. 27. 28. 29. 30.]\n"
     ]
    }
   ],
   "source": [
    "# Label encode each categorical feature\n",
    "encoders = {}\n",
    "for v in cat_vars:\n",
    "    le = LabelEncoder()\n",
    "    le.fit(data[v].values)\n",
    "    encoders[v] = le\n",
    "    data.loc[:, v] = le.transform(data[v].values)\n",
    "    print('{0}: {1}'.format(v, le.classes_))"
   ]
  },
  {
   "cell_type": "code",
   "execution_count": 65,
   "metadata": {},
   "outputs": [],
   "source": [
    "# split the data into training, validation, and test sets\n",
    "X = data[cat_vars + cont_vars][:-110].copy()\n",
    "y = data[target][:-110].copy()\n",
    "\n",
    "X_val = data[cat_vars + cont_vars][-110:-10].copy()\n",
    "y_val = data[target][-110:-10].copy()\n",
    "\n",
    "X_test = data[cat_vars + cont_vars][-10:].copy()\n",
    "y_test = data[target][-10:].copy()"
   ]
  },
  {
   "cell_type": "code",
   "execution_count": 66,
   "metadata": {},
   "outputs": [],
   "source": [
    "# scale continuous variables using scaler fitted on only training data\n",
    "scaler = MinMaxScaler()\n",
    "X.loc[:, cont_vars] = scaler.fit_transform(X[cont_vars].values)\n",
    "X_val.loc[:, cont_vars] = scaler.transform(X_val[cont_vars].values)\n",
    "X_test.loc[:, cont_vars] = scaler.transform(X_test[cont_vars].values)\n",
    "\n",
    "# scale target by max target\n",
    "y_max = np.max(train['PRC'])\n",
    "y = y/y_max\n",
    "y_val = y_val/y_max\n",
    "y_test = y_test/y_max"
   ]
  },
  {
   "cell_type": "code",
   "execution_count": 67,
   "metadata": {},
   "outputs": [],
   "source": [
    "# change categorical features to type category, continuous features to type float32\n",
    "for v in cat_vars:\n",
    "    X[v] = X[v].astype('int').astype('category').cat.as_ordered()\n",
    "    X_val[v] = X_val[v].astype('int').astype('category').cat.as_ordered()\n",
    "    X_test[v] = X_test[v].astype('int').astype('category').cat.as_ordered()\n",
    "for v in cont_vars:\n",
    "    X[v] = X[v].astype('float32')\n",
    "    X_val[v] = X_val[v].astype('float32')\n",
    "    X_test[v] = X_test[v].astype('float32')"
   ]
  },
  {
   "cell_type": "code",
   "execution_count": 68,
   "metadata": {},
   "outputs": [
    {
     "name": "stdout",
     "output_type": "stream",
     "text": [
      "<class 'pandas.core.frame.DataFrame'>\n",
      "Int64Index: 1350 entries, 50 to 1399\n",
      "Columns: 115 entries, DCLRDT to PRC_year_encode\n",
      "dtypes: category(10), float32(105)\n",
      "memory usage: 598.7 KB\n",
      "None\n"
     ]
    },
    {
     "data": {
      "text/plain": [
       "((1350, 115), (100, 115), (10, 115), (1350, 1), (100, 1), (10, 1))"
      ]
     },
     "execution_count": 68,
     "metadata": {},
     "output_type": "execute_result"
    }
   ],
   "source": [
    "# print the shape of each input\n",
    "print(X.info())\n",
    "\n",
    "X.shape, X_val.shape, X_test.shape, y.shape, y_val.shape, y_test.shape"
   ]
  },
  {
   "cell_type": "code",
   "execution_count": 69,
   "metadata": {},
   "outputs": [
    {
     "data": {
      "text/plain": [
       "[('DCLRDT', 2),\n",
       " ('month', 12),\n",
       " ('year', 6),\n",
       " ('dayofweek', 5),\n",
       " ('qtr', 4),\n",
       " ('day365', 362),\n",
       " ('dayofmonth', 31),\n",
       " ('weekofyear', 53),\n",
       " ('startend', 2),\n",
       " ('Announce', 31)]"
      ]
     },
     "execution_count": 69,
     "metadata": {},
     "output_type": "execute_result"
    }
   ],
   "source": [
    "# input size of categorical variables\n",
    "cat_sizes = [(c, len(X[c].cat.categories)) for c in cat_vars]\n",
    "cat_sizes"
   ]
  },
  {
   "cell_type": "code",
   "execution_count": 70,
   "metadata": {},
   "outputs": [
    {
     "data": {
      "text/plain": [
       "[(2, 1),\n",
       " (12, 6),\n",
       " (6, 3),\n",
       " (5, 3),\n",
       " (4, 2),\n",
       " (362, 50),\n",
       " (31, 16),\n",
       " (53, 27),\n",
       " (2, 1),\n",
       " (31, 16)]"
      ]
     },
     "execution_count": 70,
     "metadata": {},
     "output_type": "execute_result"
    }
   ],
   "source": [
    "# embedding size of categorical variables\n",
    "embedding_sizes = [(c, min(50, (c + 1) // 2)) for _, c in cat_sizes]\n",
    "embedding_sizes"
   ]
  },
  {
   "cell_type": "code",
   "execution_count": 71,
   "metadata": {},
   "outputs": [
    {
     "name": "stdout",
     "output_type": "stream",
     "text": [
      "0 DCLRDT\n",
      "1 month\n",
      "2 year\n",
      "3 dayofweek\n",
      "4 qtr\n",
      "5 day365\n",
      "6 dayofmonth\n",
      "7 weekofyear\n",
      "8 startend\n",
      "9 Announce\n"
     ]
    },
    {
     "data": {
      "text/plain": [
       "(11, 11, 11)"
      ]
     },
     "execution_count": 71,
     "metadata": {},
     "output_type": "execute_result"
    }
   ],
   "source": [
    "# create input arrays to feed into the neural network\n",
    "X_arr = []\n",
    "X_val_arr = []\n",
    "X_test_arr = []\n",
    "\n",
    "for i, v in enumerate(cat_vars):\n",
    "    print(i,v)\n",
    "    X_arr.append(X.iloc[:, i])\n",
    "    X_val_arr.append(X_val.iloc[:, i])\n",
    "    X_test_arr.append(X_test.iloc[:, i])\n",
    "\n",
    "X_arr.append(X.iloc[:, len(cat_vars):])\n",
    "X_val_arr.append(X_val.iloc[:, len(cat_vars):])\n",
    "X_test_arr.append(X_test.iloc[:, len(cat_vars):])\n",
    "\n",
    "len(X_arr), len(X_val_arr), len(X_test_arr)"
   ]
  },
  {
   "cell_type": "markdown",
   "metadata": {},
   "source": [
    "### Building Model"
   ]
  },
  {
   "cell_type": "code",
   "execution_count": 72,
   "metadata": {},
   "outputs": [],
   "source": [
    "from keras.layers import Concatenate, Input, Reshape\n",
    "from keras.layers.embeddings import Embedding"
   ]
  },
  {
   "cell_type": "code",
   "execution_count": 79,
   "metadata": {},
   "outputs": [],
   "source": [
    "# create a sequential neural network with an embedding layer\n",
    "def EmbeddingNet(cat_vars, cont_vars, embedding_sizes):\n",
    "    inputs = []\n",
    "    embed_layers = []\n",
    "    for (c, (in_size, out_size)) in zip(cat_vars, embedding_sizes):\n",
    "        # define input layer\n",
    "        i = Input(shape=(1,))\n",
    "        #define embedding layer\n",
    "        o = Embedding(in_size, out_size, name=c)(i)\n",
    "        o = Reshape(target_shape=(out_size,))(o)\n",
    "        # store layers\n",
    "        inputs.append(i)\n",
    "        embed_layers.append(o)\n",
    "    \n",
    "    # concat embedding layers\n",
    "    embed = Concatenate()(embed_layers)\n",
    "\n",
    "    cont_input = Input(shape=(len(cont_vars),))\n",
    "    inputs.append(cont_input)\n",
    "    \n",
    "    # concat embeddings and continuous variables to input into sequential nn\n",
    "    x = Concatenate()([embed, cont_input])\n",
    "\n",
    "    dense = Dense(1000, activation='relu', kernel_initializer='he_normal')(x)\n",
    "    \n",
    "    dense = Dense(500, activation='relu', kernel_initializer='he_normal')(dense)\n",
    "    \n",
    "    output = Dense(1, activation='sigmoid', kernel_initializer='he_normal')(dense)\n",
    "\n",
    "    model = Model(inputs=inputs, outputs=output)\n",
    "    model.compile(loss='mean_squared_error', optimizer='adam')\n",
    "\n",
    "    return model"
   ]
  },
  {
   "cell_type": "code",
   "execution_count": 86,
   "metadata": {},
   "outputs": [
    {
     "name": "stderr",
     "output_type": "stream",
     "text": [
      "/Users/meiliu/anaconda3/lib/python3.7/site-packages/tensorflow_core/python/framework/indexed_slices.py:424: UserWarning: Converting sparse IndexedSlices to a dense Tensor of unknown shape. This may consume a large amount of memory.\n",
      "  \"Converting sparse IndexedSlices to a dense Tensor of unknown shape. \"\n"
     ]
    },
    {
     "name": "stdout",
     "output_type": "stream",
     "text": [
      "Train on 1350 samples, validate on 100 samples\n",
      "Epoch 1/100\n",
      "1350/1350 [==============================] - 2s 1ms/step - loss: 0.0066 - val_loss: 0.0054\n",
      "Epoch 2/100\n",
      "1350/1350 [==============================] - 1s 657us/step - loss: 3.6979e-04 - val_loss: 0.0039\n",
      "Epoch 3/100\n",
      "1350/1350 [==============================] - 1s 656us/step - loss: 1.7542e-04 - val_loss: 0.0044\n",
      "Epoch 4/100\n",
      "1350/1350 [==============================] - 1s 615us/step - loss: 1.0585e-04 - val_loss: 0.0035\n",
      "Epoch 5/100\n",
      "1350/1350 [==============================] - 1s 630us/step - loss: 9.4544e-05 - val_loss: 0.0030\n",
      "Epoch 6/100\n",
      "1350/1350 [==============================] - 1s 622us/step - loss: 1.0342e-04 - val_loss: 0.0041\n",
      "Epoch 7/100\n",
      "1350/1350 [==============================] - 1s 625us/step - loss: 5.8512e-05 - val_loss: 0.0030\n",
      "Epoch 8/100\n",
      "1350/1350 [==============================] - 1s 617us/step - loss: 4.2813e-05 - val_loss: 0.0031\n",
      "Epoch 9/100\n",
      "1350/1350 [==============================] - 1s 615us/step - loss: 4.5339e-05 - val_loss: 0.0042\n",
      "Epoch 10/100\n",
      "1350/1350 [==============================] - 1s 632us/step - loss: 3.7415e-05 - val_loss: 0.0046\n",
      "Epoch 11/100\n",
      "1350/1350 [==============================] - 1s 613us/step - loss: 3.0342e-05 - val_loss: 0.0037\n",
      "Epoch 12/100\n",
      "1350/1350 [==============================] - 1s 683us/step - loss: 3.0715e-05 - val_loss: 0.0032\n",
      "Epoch 13/100\n",
      "1350/1350 [==============================] - 1s 623us/step - loss: 3.9250e-05 - val_loss: 0.0034\n",
      "Epoch 14/100\n",
      "1350/1350 [==============================] - 1s 627us/step - loss: 1.7472e-05 - val_loss: 0.0035\n",
      "Epoch 15/100\n",
      "1350/1350 [==============================] - 1s 635us/step - loss: 1.5092e-05 - val_loss: 0.0038\n",
      "\n",
      "Epoch 00015: ReduceLROnPlateau reducing learning rate to 0.00010000000474974513.\n",
      "Epoch 16/100\n",
      "1350/1350 [==============================] - 1s 635us/step - loss: 8.5392e-06 - val_loss: 0.0036\n",
      "Epoch 17/100\n",
      "1350/1350 [==============================] - 1s 712us/step - loss: 5.2436e-06 - val_loss: 0.0036\n",
      "Epoch 18/100\n",
      "1350/1350 [==============================] - 1s 609us/step - loss: 4.5906e-06 - val_loss: 0.0037\n",
      "Epoch 19/100\n",
      "1350/1350 [==============================] - 1s 643us/step - loss: 4.2820e-06 - val_loss: 0.0036\n",
      "Epoch 20/100\n",
      "1350/1350 [==============================] - 1s 623us/step - loss: 3.8868e-06 - val_loss: 0.0036\n",
      "Epoch 21/100\n",
      "1350/1350 [==============================] - 1s 654us/step - loss: 3.7056e-06 - val_loss: 0.0036\n",
      "Epoch 22/100\n",
      "1350/1350 [==============================] - 1s 606us/step - loss: 3.5134e-06 - val_loss: 0.0036\n",
      "Epoch 23/100\n",
      "1350/1350 [==============================] - 1s 626us/step - loss: 3.2243e-06 - val_loss: 0.0036\n",
      "Epoch 24/100\n",
      "1350/1350 [==============================] - 1s 760us/step - loss: 3.1617e-06 - val_loss: 0.0036\n",
      "Epoch 25/100\n",
      "1350/1350 [==============================] - 1s 699us/step - loss: 3.0566e-06 - val_loss: 0.0036\n",
      "\n",
      "Epoch 00025: ReduceLROnPlateau reducing learning rate to 0.0001.\n",
      "Epoch 26/100\n",
      "1350/1350 [==============================] - 1s 638us/step - loss: 3.1808e-06 - val_loss: 0.0036\n",
      "Epoch 27/100\n",
      "1350/1350 [==============================] - 1s 704us/step - loss: 2.7532e-06 - val_loss: 0.0036\n"
     ]
    },
    {
     "data": {
      "text/plain": [
       "<keras.callbacks.callbacks.History at 0x1a714acf98>"
      ]
     },
     "execution_count": 86,
     "metadata": {},
     "output_type": "execute_result"
    }
   ],
   "source": [
    "# initialize model\n",
    "model = EmbeddingNet(cat_vars, cont_vars, embedding_sizes)\n",
    "\n",
    "# fit model with training data and evaluate using validation data\n",
    "lr_reducer = ReduceLROnPlateau(monitor='val_loss', factor=0.1, patience=10, verbose=1, mode='auto', cooldown=0, min_lr=0.0001)\n",
    "checkpoint = ModelCheckpoint('best_model_weights.hdf5',monitor='val_loss',save_best_only=True)\n",
    "early_stopping_monitor = EarlyStopping(patience=20)\n",
    "\n",
    "model.fit(x=X_arr, y=y, validation_data=(X_val_arr, y_val), epochs=100,\n",
    "          callbacks=[lr_reducer, checkpoint, early_stopping_monitor])"
   ]
  },
  {
   "cell_type": "code",
   "execution_count": 90,
   "metadata": {},
   "outputs": [
    {
     "name": "stdout",
     "output_type": "stream",
     "text": [
      "Model: \"model_3\"\n",
      "__________________________________________________________________________________________________\n",
      "Layer (type)                    Output Shape         Param #     Connected to                     \n",
      "==================================================================================================\n",
      "input_23 (InputLayer)           (None, 1)            0                                            \n",
      "__________________________________________________________________________________________________\n",
      "input_24 (InputLayer)           (None, 1)            0                                            \n",
      "__________________________________________________________________________________________________\n",
      "input_25 (InputLayer)           (None, 1)            0                                            \n",
      "__________________________________________________________________________________________________\n",
      "input_26 (InputLayer)           (None, 1)            0                                            \n",
      "__________________________________________________________________________________________________\n",
      "input_27 (InputLayer)           (None, 1)            0                                            \n",
      "__________________________________________________________________________________________________\n",
      "input_28 (InputLayer)           (None, 1)            0                                            \n",
      "__________________________________________________________________________________________________\n",
      "input_29 (InputLayer)           (None, 1)            0                                            \n",
      "__________________________________________________________________________________________________\n",
      "input_30 (InputLayer)           (None, 1)            0                                            \n",
      "__________________________________________________________________________________________________\n",
      "input_31 (InputLayer)           (None, 1)            0                                            \n",
      "__________________________________________________________________________________________________\n",
      "input_32 (InputLayer)           (None, 1)            0                                            \n",
      "__________________________________________________________________________________________________\n",
      "DCLRDT (Embedding)              (None, 1, 1)         2           input_23[0][0]                   \n",
      "__________________________________________________________________________________________________\n",
      "month (Embedding)               (None, 1, 6)         72          input_24[0][0]                   \n",
      "__________________________________________________________________________________________________\n",
      "year (Embedding)                (None, 1, 3)         18          input_25[0][0]                   \n",
      "__________________________________________________________________________________________________\n",
      "dayofweek (Embedding)           (None, 1, 3)         15          input_26[0][0]                   \n",
      "__________________________________________________________________________________________________\n",
      "qtr (Embedding)                 (None, 1, 2)         8           input_27[0][0]                   \n",
      "__________________________________________________________________________________________________\n",
      "day365 (Embedding)              (None, 1, 50)        18100       input_28[0][0]                   \n",
      "__________________________________________________________________________________________________\n",
      "dayofmonth (Embedding)          (None, 1, 16)        496         input_29[0][0]                   \n",
      "__________________________________________________________________________________________________\n",
      "weekofyear (Embedding)          (None, 1, 27)        1431        input_30[0][0]                   \n",
      "__________________________________________________________________________________________________\n",
      "startend (Embedding)            (None, 1, 1)         2           input_31[0][0]                   \n",
      "__________________________________________________________________________________________________\n",
      "Announce (Embedding)            (None, 1, 16)        496         input_32[0][0]                   \n",
      "__________________________________________________________________________________________________\n",
      "reshape_21 (Reshape)            (None, 1)            0           DCLRDT[0][0]                     \n",
      "__________________________________________________________________________________________________\n",
      "reshape_22 (Reshape)            (None, 6)            0           month[0][0]                      \n",
      "__________________________________________________________________________________________________\n",
      "reshape_23 (Reshape)            (None, 3)            0           year[0][0]                       \n",
      "__________________________________________________________________________________________________\n",
      "reshape_24 (Reshape)            (None, 3)            0           dayofweek[0][0]                  \n",
      "__________________________________________________________________________________________________\n",
      "reshape_25 (Reshape)            (None, 2)            0           qtr[0][0]                        \n",
      "__________________________________________________________________________________________________\n",
      "reshape_26 (Reshape)            (None, 50)           0           day365[0][0]                     \n",
      "__________________________________________________________________________________________________\n",
      "reshape_27 (Reshape)            (None, 16)           0           dayofmonth[0][0]                 \n",
      "__________________________________________________________________________________________________\n",
      "reshape_28 (Reshape)            (None, 27)           0           weekofyear[0][0]                 \n",
      "__________________________________________________________________________________________________\n",
      "reshape_29 (Reshape)            (None, 1)            0           startend[0][0]                   \n",
      "__________________________________________________________________________________________________\n",
      "reshape_30 (Reshape)            (None, 16)           0           Announce[0][0]                   \n",
      "__________________________________________________________________________________________________\n",
      "concatenate_5 (Concatenate)     (None, 125)          0           reshape_21[0][0]                 \n",
      "                                                                 reshape_22[0][0]                 \n",
      "                                                                 reshape_23[0][0]                 \n",
      "                                                                 reshape_24[0][0]                 \n",
      "                                                                 reshape_25[0][0]                 \n",
      "                                                                 reshape_26[0][0]                 \n",
      "                                                                 reshape_27[0][0]                 \n",
      "                                                                 reshape_28[0][0]                 \n",
      "                                                                 reshape_29[0][0]                 \n",
      "                                                                 reshape_30[0][0]                 \n",
      "__________________________________________________________________________________________________\n",
      "input_33 (InputLayer)           (None, 105)          0                                            \n",
      "__________________________________________________________________________________________________\n",
      "concatenate_6 (Concatenate)     (None, 230)          0           concatenate_5[0][0]              \n",
      "                                                                 input_33[0][0]                   \n",
      "__________________________________________________________________________________________________\n",
      "dense_72 (Dense)                (None, 1000)         231000      concatenate_6[0][0]              \n",
      "__________________________________________________________________________________________________\n",
      "dense_73 (Dense)                (None, 500)          500500      dense_72[0][0]                   \n",
      "__________________________________________________________________________________________________\n",
      "dense_74 (Dense)                (None, 1)            501         dense_73[0][0]                   \n",
      "==================================================================================================\n",
      "Total params: 752,641\n",
      "Trainable params: 752,641\n",
      "Non-trainable params: 0\n",
      "__________________________________________________________________________________________________\n",
      "None\n"
     ]
    }
   ],
   "source": [
    "print(model.summary())"
   ]
  },
  {
   "cell_type": "code",
   "execution_count": 91,
   "metadata": {},
   "outputs": [],
   "source": [
    "# predict test set\n",
    "pred = model.predict(x=X_test_arr)\n",
    "pred = pred*y_max"
   ]
  },
  {
   "cell_type": "code",
   "execution_count": 92,
   "metadata": {
    "scrolled": false
   },
   "outputs": [
    {
     "name": "stdout",
     "output_type": "stream",
     "text": [
      "cont. features scaled using MinMax, target scaled using y_max:\n",
      "[[167.1573 ]\n",
      " [166.65193]\n",
      " [167.65251]\n",
      " [166.22545]\n",
      " [167.9786 ]\n",
      " [164.41614]\n",
      " [162.69807]\n",
      " [162.90753]\n",
      " [163.6705 ]\n",
      " [163.04926]] \n",
      "-----\n",
      "             PRC\n",
      "index           \n",
      "1500   163.94000\n",
      "1501   166.07001\n",
      "1502   160.89000\n",
      "1503   156.83000\n",
      "1504   150.73000\n",
      "1505   146.83000\n",
      "1506   157.17000\n",
      "1507   156.14999\n",
      "1508   156.23000\n",
      "1509   157.74001 \n",
      "-----\n",
      "rmse: PRC    9.54597\n",
      "dtype: float64\n"
     ]
    }
   ],
   "source": [
    "print('cont. features scaled using MinMax, target scaled using y_max:')\n",
    "print(pred, '\\n-----')\n",
    "print(y_test*y_max, '\\n-----')\n",
    "print('rmse:', rmse(pred,y_test*y_max))"
   ]
  },
  {
   "cell_type": "code",
   "execution_count": 95,
   "metadata": {},
   "outputs": [],
   "source": [
    "# initialize model\n",
    "def EmbedNetFit(n_iter):\n",
    "    rmse_list = []\n",
    "    for i in range(n_iter):\n",
    "        model = EmbeddingNet(cat_vars, cont_vars, embedding_sizes)\n",
    "\n",
    "        # fit model with training data and evaluate using validation data\n",
    "        lr_reducer = ReduceLROnPlateau(monitor='val_loss', factor=0.1, patience=10, verbose=0, mode='auto', cooldown=0, min_lr=0.0001)\n",
    "        checkpoint = ModelCheckpoint('best_model_weights.hdf5',monitor='val_loss',save_best_only=True)\n",
    "        early_stopping_monitor = EarlyStopping(patience=20)\n",
    "\n",
    "        model.fit(x=X_arr, y=y, validation_data=(X_val_arr, y_val), epochs=100,\n",
    "                  callbacks=[lr_reducer, checkpoint, early_stopping_monitor], verbose=0)\n",
    "        pred = model.predict(x=X_test_arr)*y_max\n",
    "        rmse_list.append(rmse(pred,y_test*y_max))\n",
    "    return np.mean(np.array(rmse_list))"
   ]
  },
  {
   "cell_type": "code",
   "execution_count": 96,
   "metadata": {},
   "outputs": [
    {
     "name": "stderr",
     "output_type": "stream",
     "text": [
      "/Users/meiliu/anaconda3/lib/python3.7/site-packages/tensorflow_core/python/framework/indexed_slices.py:424: UserWarning: Converting sparse IndexedSlices to a dense Tensor of unknown shape. This may consume a large amount of memory.\n",
      "  \"Converting sparse IndexedSlices to a dense Tensor of unknown shape. \"\n",
      "/Users/meiliu/anaconda3/lib/python3.7/site-packages/tensorflow_core/python/framework/indexed_slices.py:424: UserWarning: Converting sparse IndexedSlices to a dense Tensor of unknown shape. This may consume a large amount of memory.\n",
      "  \"Converting sparse IndexedSlices to a dense Tensor of unknown shape. \"\n",
      "/Users/meiliu/anaconda3/lib/python3.7/site-packages/tensorflow_core/python/framework/indexed_slices.py:424: UserWarning: Converting sparse IndexedSlices to a dense Tensor of unknown shape. This may consume a large amount of memory.\n",
      "  \"Converting sparse IndexedSlices to a dense Tensor of unknown shape. \"\n",
      "/Users/meiliu/anaconda3/lib/python3.7/site-packages/tensorflow_core/python/framework/indexed_slices.py:424: UserWarning: Converting sparse IndexedSlices to a dense Tensor of unknown shape. This may consume a large amount of memory.\n",
      "  \"Converting sparse IndexedSlices to a dense Tensor of unknown shape. \"\n",
      "/Users/meiliu/anaconda3/lib/python3.7/site-packages/tensorflow_core/python/framework/indexed_slices.py:424: UserWarning: Converting sparse IndexedSlices to a dense Tensor of unknown shape. This may consume a large amount of memory.\n",
      "  \"Converting sparse IndexedSlices to a dense Tensor of unknown shape. \"\n",
      "/Users/meiliu/anaconda3/lib/python3.7/site-packages/tensorflow_core/python/framework/indexed_slices.py:424: UserWarning: Converting sparse IndexedSlices to a dense Tensor of unknown shape. This may consume a large amount of memory.\n",
      "  \"Converting sparse IndexedSlices to a dense Tensor of unknown shape. \"\n",
      "/Users/meiliu/anaconda3/lib/python3.7/site-packages/tensorflow_core/python/framework/indexed_slices.py:424: UserWarning: Converting sparse IndexedSlices to a dense Tensor of unknown shape. This may consume a large amount of memory.\n",
      "  \"Converting sparse IndexedSlices to a dense Tensor of unknown shape. \"\n",
      "/Users/meiliu/anaconda3/lib/python3.7/site-packages/tensorflow_core/python/framework/indexed_slices.py:424: UserWarning: Converting sparse IndexedSlices to a dense Tensor of unknown shape. This may consume a large amount of memory.\n",
      "  \"Converting sparse IndexedSlices to a dense Tensor of unknown shape. \"\n",
      "/Users/meiliu/anaconda3/lib/python3.7/site-packages/tensorflow_core/python/framework/indexed_slices.py:424: UserWarning: Converting sparse IndexedSlices to a dense Tensor of unknown shape. This may consume a large amount of memory.\n",
      "  \"Converting sparse IndexedSlices to a dense Tensor of unknown shape. \"\n",
      "/Users/meiliu/anaconda3/lib/python3.7/site-packages/tensorflow_core/python/framework/indexed_slices.py:424: UserWarning: Converting sparse IndexedSlices to a dense Tensor of unknown shape. This may consume a large amount of memory.\n",
      "  \"Converting sparse IndexedSlices to a dense Tensor of unknown shape. \"\n",
      "/Users/meiliu/anaconda3/lib/python3.7/site-packages/tensorflow_core/python/framework/indexed_slices.py:424: UserWarning: Converting sparse IndexedSlices to a dense Tensor of unknown shape. This may consume a large amount of memory.\n",
      "  \"Converting sparse IndexedSlices to a dense Tensor of unknown shape. \"\n",
      "/Users/meiliu/anaconda3/lib/python3.7/site-packages/tensorflow_core/python/framework/indexed_slices.py:424: UserWarning: Converting sparse IndexedSlices to a dense Tensor of unknown shape. This may consume a large amount of memory.\n",
      "  \"Converting sparse IndexedSlices to a dense Tensor of unknown shape. \"\n",
      "/Users/meiliu/anaconda3/lib/python3.7/site-packages/tensorflow_core/python/framework/indexed_slices.py:424: UserWarning: Converting sparse IndexedSlices to a dense Tensor of unknown shape. This may consume a large amount of memory.\n",
      "  \"Converting sparse IndexedSlices to a dense Tensor of unknown shape. \"\n",
      "/Users/meiliu/anaconda3/lib/python3.7/site-packages/tensorflow_core/python/framework/indexed_slices.py:424: UserWarning: Converting sparse IndexedSlices to a dense Tensor of unknown shape. This may consume a large amount of memory.\n",
      "  \"Converting sparse IndexedSlices to a dense Tensor of unknown shape. \"\n",
      "/Users/meiliu/anaconda3/lib/python3.7/site-packages/tensorflow_core/python/framework/indexed_slices.py:424: UserWarning: Converting sparse IndexedSlices to a dense Tensor of unknown shape. This may consume a large amount of memory.\n",
      "  \"Converting sparse IndexedSlices to a dense Tensor of unknown shape. \"\n",
      "/Users/meiliu/anaconda3/lib/python3.7/site-packages/tensorflow_core/python/framework/indexed_slices.py:424: UserWarning: Converting sparse IndexedSlices to a dense Tensor of unknown shape. This may consume a large amount of memory.\n",
      "  \"Converting sparse IndexedSlices to a dense Tensor of unknown shape. \"\n",
      "/Users/meiliu/anaconda3/lib/python3.7/site-packages/tensorflow_core/python/framework/indexed_slices.py:424: UserWarning: Converting sparse IndexedSlices to a dense Tensor of unknown shape. This may consume a large amount of memory.\n",
      "  \"Converting sparse IndexedSlices to a dense Tensor of unknown shape. \"\n",
      "/Users/meiliu/anaconda3/lib/python3.7/site-packages/tensorflow_core/python/framework/indexed_slices.py:424: UserWarning: Converting sparse IndexedSlices to a dense Tensor of unknown shape. This may consume a large amount of memory.\n",
      "  \"Converting sparse IndexedSlices to a dense Tensor of unknown shape. \"\n",
      "/Users/meiliu/anaconda3/lib/python3.7/site-packages/tensorflow_core/python/framework/indexed_slices.py:424: UserWarning: Converting sparse IndexedSlices to a dense Tensor of unknown shape. This may consume a large amount of memory.\n",
      "  \"Converting sparse IndexedSlices to a dense Tensor of unknown shape. \"\n",
      "/Users/meiliu/anaconda3/lib/python3.7/site-packages/tensorflow_core/python/framework/indexed_slices.py:424: UserWarning: Converting sparse IndexedSlices to a dense Tensor of unknown shape. This may consume a large amount of memory.\n",
      "  \"Converting sparse IndexedSlices to a dense Tensor of unknown shape. \"\n",
      "/Users/meiliu/anaconda3/lib/python3.7/site-packages/tensorflow_core/python/framework/indexed_slices.py:424: UserWarning: Converting sparse IndexedSlices to a dense Tensor of unknown shape. This may consume a large amount of memory.\n",
      "  \"Converting sparse IndexedSlices to a dense Tensor of unknown shape. \"\n",
      "/Users/meiliu/anaconda3/lib/python3.7/site-packages/tensorflow_core/python/framework/indexed_slices.py:424: UserWarning: Converting sparse IndexedSlices to a dense Tensor of unknown shape. This may consume a large amount of memory.\n",
      "  \"Converting sparse IndexedSlices to a dense Tensor of unknown shape. \"\n",
      "/Users/meiliu/anaconda3/lib/python3.7/site-packages/tensorflow_core/python/framework/indexed_slices.py:424: UserWarning: Converting sparse IndexedSlices to a dense Tensor of unknown shape. This may consume a large amount of memory.\n",
      "  \"Converting sparse IndexedSlices to a dense Tensor of unknown shape. \"\n",
      "/Users/meiliu/anaconda3/lib/python3.7/site-packages/tensorflow_core/python/framework/indexed_slices.py:424: UserWarning: Converting sparse IndexedSlices to a dense Tensor of unknown shape. This may consume a large amount of memory.\n",
      "  \"Converting sparse IndexedSlices to a dense Tensor of unknown shape. \"\n",
      "/Users/meiliu/anaconda3/lib/python3.7/site-packages/tensorflow_core/python/framework/indexed_slices.py:424: UserWarning: Converting sparse IndexedSlices to a dense Tensor of unknown shape. This may consume a large amount of memory.\n",
      "  \"Converting sparse IndexedSlices to a dense Tensor of unknown shape. \"\n",
      "/Users/meiliu/anaconda3/lib/python3.7/site-packages/tensorflow_core/python/framework/indexed_slices.py:424: UserWarning: Converting sparse IndexedSlices to a dense Tensor of unknown shape. This may consume a large amount of memory.\n",
      "  \"Converting sparse IndexedSlices to a dense Tensor of unknown shape. \"\n",
      "/Users/meiliu/anaconda3/lib/python3.7/site-packages/tensorflow_core/python/framework/indexed_slices.py:424: UserWarning: Converting sparse IndexedSlices to a dense Tensor of unknown shape. This may consume a large amount of memory.\n",
      "  \"Converting sparse IndexedSlices to a dense Tensor of unknown shape. \"\n"
     ]
    },
    {
     "name": "stderr",
     "output_type": "stream",
     "text": [
      "/Users/meiliu/anaconda3/lib/python3.7/site-packages/tensorflow_core/python/framework/indexed_slices.py:424: UserWarning: Converting sparse IndexedSlices to a dense Tensor of unknown shape. This may consume a large amount of memory.\n",
      "  \"Converting sparse IndexedSlices to a dense Tensor of unknown shape. \"\n",
      "/Users/meiliu/anaconda3/lib/python3.7/site-packages/tensorflow_core/python/framework/indexed_slices.py:424: UserWarning: Converting sparse IndexedSlices to a dense Tensor of unknown shape. This may consume a large amount of memory.\n",
      "  \"Converting sparse IndexedSlices to a dense Tensor of unknown shape. \"\n",
      "/Users/meiliu/anaconda3/lib/python3.7/site-packages/tensorflow_core/python/framework/indexed_slices.py:424: UserWarning: Converting sparse IndexedSlices to a dense Tensor of unknown shape. This may consume a large amount of memory.\n",
      "  \"Converting sparse IndexedSlices to a dense Tensor of unknown shape. \"\n"
     ]
    },
    {
     "name": "stdout",
     "output_type": "stream",
     "text": [
      "Avg RMSE across 30 iterations:  16.880052797800467\n"
     ]
    }
   ],
   "source": [
    "avg_rmse2 = EmbedNetFit(30)\n",
    "print('Avg RMSE across 30 iterations: ', avg_rmse2)"
   ]
  },
  {
   "cell_type": "markdown",
   "metadata": {},
   "source": [
    "The RMSE is higher than the simple price based LSTM model, but across most runs (not shown above, but just what I observed from running the model multiple times), there is a clear decline in the predicted price from the first prediction date to the last prediction date. The model is capturing the decline in price, which starkly differs from previous models (eg XGBoost, LSTM). However, the prediction is too high. If some recurrent component, where the prediction can use sequential information from previous samples as a baseline for the price, is combined with the sequential model with embedding, the prediction might be able to capture both the decline and the general price level. "
   ]
  },
  {
   "cell_type": "markdown",
   "metadata": {},
   "source": [
    "#### Future Steps: Incorporate categorical embedding into RNN or LSTM model with multiple continuous features."
   ]
  }
 ],
 "metadata": {
  "kernelspec": {
   "display_name": "Python 3",
   "language": "python",
   "name": "python3"
  },
  "language_info": {
   "codemirror_mode": {
    "name": "ipython",
    "version": 3
   },
   "file_extension": ".py",
   "mimetype": "text/x-python",
   "name": "python",
   "nbconvert_exporter": "python",
   "pygments_lexer": "ipython3",
   "version": "3.7.3"
  }
 },
 "nbformat": 4,
 "nbformat_minor": 2
}
