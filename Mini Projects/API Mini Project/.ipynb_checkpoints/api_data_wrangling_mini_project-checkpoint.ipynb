{
 "cells": [
  {
   "cell_type": "markdown",
   "metadata": {},
   "source": [
    "This exercise will require you to pull some data from the Qunadl API. Qaundl is currently the most widely used aggregator of financial market data."
   ]
  },
  {
   "cell_type": "markdown",
   "metadata": {},
   "source": [
    "As a first step, you will need to register a free account on the http://www.quandl.com website."
   ]
  },
  {
   "cell_type": "markdown",
   "metadata": {},
   "source": [
    "After you register, you will be provided with a unique API key, that you should store:"
   ]
  },
  {
   "cell_type": "code",
   "execution_count": 1,
   "metadata": {},
   "outputs": [],
   "source": [
    "# Store the API key as a string - according to PEP8, constants are always named in all upper case\n",
    "API_KEY = ''"
   ]
  },
  {
   "cell_type": "markdown",
   "metadata": {},
   "source": [
    "Qaundl has a large number of data sources, but, unfortunately, most of them require a Premium subscription. Still, there are also a good number of free datasets."
   ]
  },
  {
   "cell_type": "markdown",
   "metadata": {},
   "source": [
    "For this mini project, we will focus on equities data from the Frankfurt Stock Exhange (FSE), which is available for free. We'll try and analyze the stock prices of a company called Carl Zeiss Meditec, which manufactures tools for eye examinations, as well as medical lasers for laser eye surgery: https://www.zeiss.com/meditec/int/home.html. The company is listed under the stock ticker AFX_X."
   ]
  },
  {
   "cell_type": "markdown",
   "metadata": {},
   "source": [
    "You can find the detailed Quandl API instructions here: https://docs.quandl.com/docs/time-series"
   ]
  },
  {
   "cell_type": "markdown",
   "metadata": {},
   "source": [
    "While there is a dedicated Python package for connecting to the Quandl API, we would prefer that you use the *requests* package, which can be easily downloaded using *pip* or *conda*. You can find the documentation for the package here: http://docs.python-requests.org/en/master/ "
   ]
  },
  {
   "cell_type": "markdown",
   "metadata": {},
   "source": [
    "Finally, apart from the *requests* package, you are encouraged to not use any third party Python packages, such as *pandas*, and instead focus on what's available in the Python Standard Library (the *collections* module might come in handy: https://pymotw.com/3/collections/ ).\n",
    "Also, since you won't have access to DataFrames, you are encouraged to us Python's native data structures - preferably dictionaries, though some questions can also be answered using lists.\n",
    "You can read more on these data structures here: https://docs.python.org/3/tutorial/datastructures.html"
   ]
  },
  {
   "cell_type": "markdown",
   "metadata": {},
   "source": [
    "Keep in mind that the JSON responses you will be getting from the API map almost one-to-one to Python's dictionaries. Unfortunately, they can be very nested, so make sure you read up on indexing dictionaries in the documentation provided above."
   ]
  },
  {
   "cell_type": "code",
   "execution_count": 2,
   "metadata": {},
   "outputs": [],
   "source": [
    "# First, import the relevant modules\n",
    "import requests"
   ]
  },
  {
   "cell_type": "code",
   "execution_count": 80,
   "metadata": {},
   "outputs": [],
   "source": [
    "# Now, call the Quandl API and pull out a small sample of the data to get a glimpse\n",
    "# into the JSON structure that will be returned\n",
    "r = requests.get(\"https://www.quandl.com/api/v3/datasets/FSE/AFX_X?start_date=2017-01-01&end_date=2017-01-07&api_key=\" + API_KEY)"
   ]
  },
  {
   "cell_type": "code",
   "execution_count": 81,
   "metadata": {},
   "outputs": [
    {
     "data": {
      "text/plain": [
       "{'dataset': {'id': 10095370,\n",
       "  'dataset_code': 'AFX_X',\n",
       "  'database_code': 'FSE',\n",
       "  'name': 'Carl Zeiss Meditec (AFX_X)',\n",
       "  'description': 'Stock Prices for Carl Zeiss Meditec (2019-09-11) from the Frankfurt Stock Exchange.<br><br>Trading System: Xetra<br><br>ISIN: DE0005313704',\n",
       "  'refreshed_at': '2019-09-25T22:18:20.669Z',\n",
       "  'newest_available_date': '2019-09-25',\n",
       "  'oldest_available_date': '2000-06-07',\n",
       "  'column_names': ['Date',\n",
       "   'Open',\n",
       "   'High',\n",
       "   'Low',\n",
       "   'Close',\n",
       "   'Change',\n",
       "   'Traded Volume',\n",
       "   'Turnover',\n",
       "   'Last Price of the Day',\n",
       "   'Daily Traded Units',\n",
       "   'Daily Turnover'],\n",
       "  'frequency': 'daily',\n",
       "  'type': 'Time Series',\n",
       "  'premium': False,\n",
       "  'limit': None,\n",
       "  'transform': None,\n",
       "  'column_index': None,\n",
       "  'start_date': '2017-01-01',\n",
       "  'end_date': '2017-01-07',\n",
       "  'data': [['2017-01-06',\n",
       "    34.91,\n",
       "    35.21,\n",
       "    34.91,\n",
       "    35.04,\n",
       "    None,\n",
       "    27507.0,\n",
       "    964046.0,\n",
       "    None,\n",
       "    None,\n",
       "    None],\n",
       "   ['2017-01-05',\n",
       "    35.02,\n",
       "    35.2,\n",
       "    34.73,\n",
       "    35.06,\n",
       "    None,\n",
       "    48412.0,\n",
       "    1692326.0,\n",
       "    None,\n",
       "    None,\n",
       "    None],\n",
       "   ['2017-01-04',\n",
       "    35.48,\n",
       "    35.51,\n",
       "    34.75,\n",
       "    35.19,\n",
       "    None,\n",
       "    54408.0,\n",
       "    1906810.0,\n",
       "    None,\n",
       "    None,\n",
       "    None],\n",
       "   ['2017-01-03',\n",
       "    35.9,\n",
       "    35.93,\n",
       "    35.34,\n",
       "    35.48,\n",
       "    None,\n",
       "    70618.0,\n",
       "    2515473.0,\n",
       "    None,\n",
       "    None,\n",
       "    None],\n",
       "   ['2017-01-02',\n",
       "    34.99,\n",
       "    35.94,\n",
       "    34.99,\n",
       "    35.8,\n",
       "    None,\n",
       "    44700.0,\n",
       "    1590561.0,\n",
       "    None,\n",
       "    None,\n",
       "    None]],\n",
       "  'collapse': None,\n",
       "  'order': None,\n",
       "  'database_id': 6129}}"
      ]
     },
     "execution_count": 81,
     "metadata": {},
     "output_type": "execute_result"
    }
   ],
   "source": [
    "# Inspect the JSON structure of the object you created, and take note of how nested it is,\n",
    "# as well as the overall structure\n",
    "r.json()"
   ]
  },
  {
   "cell_type": "markdown",
   "metadata": {},
   "source": [
    "These are your tasks for this mini project:\n",
    "\n",
    "1. Collect data from the Franfurt Stock Exchange, for the ticker AFX_X, for the whole year 2017 (keep in mind that the date format is YYYY-MM-DD).\n",
    "2. Convert the returned JSON object into a Python dictionary.\n",
    "3. Calculate what the highest and lowest opening prices were for the stock in this period.\n",
    "4. What was the largest change in any one day (based on High and Low price)?\n",
    "5. What was the largest change between any two days (based on Closing Price)?\n",
    "6. What was the average daily trading volume during this year?\n",
    "7. (Optional) What was the median trading volume during this year. (Note: you may need to implement your own function for calculating the median.)"
   ]
  },
  {
   "cell_type": "code",
   "execution_count": 5,
   "metadata": {},
   "outputs": [],
   "source": [
    "# request the data for the ticker AFX_X over the year 2017\n",
    "afx_r = requests.get(\"https://www.quandl.com/api/v3/datasets/FSE/AFX_X?start_date=2017-01-01&end_date=2017-12-31&api_key=\" + API_KEY)"
   ]
  },
  {
   "cell_type": "code",
   "execution_count": 7,
   "metadata": {},
   "outputs": [
    {
     "data": {
      "text/plain": [
       "dict"
      ]
     },
     "execution_count": 7,
     "metadata": {},
     "output_type": "execute_result"
    }
   ],
   "source": [
    "# convert the JSON request to a Python dict\n",
    "afx = afx_r.json()\n",
    "type(afx)"
   ]
  },
  {
   "cell_type": "code",
   "execution_count": 43,
   "metadata": {
    "scrolled": true
   },
   "outputs": [
    {
     "name": "stdout",
     "output_type": "stream",
     "text": [
      "[AFX_X] Lowest opening price in 2017: $ 34.0\n",
      "[AFX_X] Highest opening price in 2017: $ 53.11\n"
     ]
    }
   ],
   "source": [
    "# create empty list for opening prices\n",
    "open_prc = []\n",
    "\n",
    "# add all existing (is not None) opening prices to the open_prc list\n",
    "for d in afx['dataset']['data']:\n",
    "    if d[1] is not None:\n",
    "        open_prc.append(d[1])\n",
    "\n",
    "# calculate the min and max opening prices\n",
    "min_open_prc = min(open_prc)\n",
    "max_open_prc = max(open_prc)\n",
    "\n",
    "print('[AFX_X] Lowest opening price in 2017: $', min_open_prc)\n",
    "print('[AFX_X] Highest opening price in 2017: $', max_open_prc)"
   ]
  },
  {
   "cell_type": "code",
   "execution_count": 41,
   "metadata": {},
   "outputs": [
    {
     "name": "stdout",
     "output_type": "stream",
     "text": [
      "[AFX_X] Largest price spread in 2017: $ 2.81\n"
     ]
    }
   ],
   "source": [
    "# create empty list for price spreads\n",
    "prc_spread = []\n",
    "\n",
    "# add all existing price spreads to the prc_spread list\n",
    "for d in afx['dataset']['data']:\n",
    "    if (d[2] is not None) & (d[3] is not None):\n",
    "        spread = d[2]-d[3]\n",
    "        prc_spread.append(spread)\n",
    "\n",
    "# calculate the max\n",
    "max_prc_spread = max(prc_spread)\n",
    "\n",
    "print('[AFX_X] Largest price spread in 2017: $', round(max_prc_spread,2))"
   ]
  },
  {
   "cell_type": "code",
   "execution_count": 48,
   "metadata": {},
   "outputs": [
    {
     "name": "stdout",
     "output_type": "stream",
     "text": [
      "[AFX_X] Largest 1 day closing price spread in 2017: $ 2.56\n"
     ]
    }
   ],
   "source": [
    "# create empty list for 1-day difference in closing prc and initiate closing price value\n",
    "close_prc = afx['dataset']['data'][0][4]\n",
    "diff1d_close_prc = [] \n",
    "\n",
    "# if the closing price exists on a given date, calculate the 1 day difference\n",
    "# otherwise, assume there was no change and let the 1 day difference = 0\n",
    "for d in afx['dataset']['data']:\n",
    "    if d[4] is not None:\n",
    "        diff1d_close_prc.append(d[4]-close_prc)\n",
    "        close_prc=d[4]\n",
    "    else:\n",
    "        diff1d_close_prc.append(0)\n",
    "\n",
    "# calculate the max\n",
    "max_diff1d_close_prc = max(diff1d_close_prc)\n",
    "\n",
    "print('[AFX_X] Largest 1 day closing price spread in 2017: $', round(max_diff1d_close_prc,2))"
   ]
  },
  {
   "cell_type": "code",
   "execution_count": 60,
   "metadata": {},
   "outputs": [
    {
     "name": "stdout",
     "output_type": "stream",
     "text": [
      "[AFX_X] Mean trading volume in 2017:  89124.34\n"
     ]
    }
   ],
   "source": [
    "# create empty list for trading volume\n",
    "trading_vol = []\n",
    "\n",
    "# add all existing trading volumes to the trading_vol list\n",
    "for d in afx['dataset']['data']:\n",
    "    if d[6] is not None:\n",
    "        trading_vol.append(d[6])\n",
    "\n",
    "# calculate the mean value\n",
    "mean_trading_vol = sum(trading_vol)/len(trading_vol)\n",
    "\n",
    "print('[AFX_X] Mean trading volume in 2017: ', round(mean_trading_vol,2))"
   ]
  },
  {
   "cell_type": "code",
   "execution_count": 73,
   "metadata": {},
   "outputs": [
    {
     "name": "stdout",
     "output_type": "stream",
     "text": [
      "[AFX_X] Mean trading volume in 2017:  76443.0\n"
     ]
    }
   ],
   "source": [
    "# sort the list of trading volumes\n",
    "trading_vol = sorted(trading_vol)\n",
    "# calculate the median index value\n",
    "med_index = len(trading_vol)/2\n",
    "\n",
    "# calculate the median trading volume by rounding the median index value up and down\n",
    "median_trading_vol = (trading_vol[int(med_index)]+trading_vol[int(round(med_index,0))])/2\n",
    "\n",
    "print('[AFX_X] Median trading volume in 2017: ', median_trading_vol)"
   ]
  }
 ],
 "metadata": {
  "kernelspec": {
   "display_name": "Python 3",
   "language": "python",
   "name": "python3"
  },
  "language_info": {
   "codemirror_mode": {
    "name": "ipython",
    "version": 3
   },
   "file_extension": ".py",
   "mimetype": "text/x-python",
   "name": "python",
   "nbconvert_exporter": "python",
   "pygments_lexer": "ipython3",
   "version": "3.7.3"
  }
 },
 "nbformat": 4,
 "nbformat_minor": 2
}
